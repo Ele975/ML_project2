{
  "nbformat": 4,
  "nbformat_minor": 0,
  "metadata": {
    "colab": {
      "provenance": [],
      "gpuType": "T4",
      "authorship_tag": "ABX9TyNq5vuqMpV2756fIsgpaMnX",
      "include_colab_link": true
    },
    "kernelspec": {
      "name": "python3",
      "display_name": "Python 3"
    },
    "language_info": {
      "name": "python"
    },
    "accelerator": "GPU",
    "widgets": {
      "application/vnd.jupyter.widget-state+json": {
        "47879e82d37d43d0a3fcb74bd46416cb": {
          "model_module": "@jupyter-widgets/controls",
          "model_name": "HBoxModel",
          "model_module_version": "1.5.0",
          "state": {
            "_dom_classes": [],
            "_model_module": "@jupyter-widgets/controls",
            "_model_module_version": "1.5.0",
            "_model_name": "HBoxModel",
            "_view_count": null,
            "_view_module": "@jupyter-widgets/controls",
            "_view_module_version": "1.5.0",
            "_view_name": "HBoxView",
            "box_style": "",
            "children": [
              "IPY_MODEL_e031bd621c6748f9ab9961474afc874d",
              "IPY_MODEL_8fa050281912437d9c5d8bf17e346d2d",
              "IPY_MODEL_dc92760c825e4341bc59e44bf6fd44a2"
            ],
            "layout": "IPY_MODEL_63ba12204beb432ea8f8fc528a419493"
          }
        },
        "e031bd621c6748f9ab9961474afc874d": {
          "model_module": "@jupyter-widgets/controls",
          "model_name": "HTMLModel",
          "model_module_version": "1.5.0",
          "state": {
            "_dom_classes": [],
            "_model_module": "@jupyter-widgets/controls",
            "_model_module_version": "1.5.0",
            "_model_name": "HTMLModel",
            "_view_count": null,
            "_view_module": "@jupyter-widgets/controls",
            "_view_module_version": "1.5.0",
            "_view_name": "HTMLView",
            "description": "",
            "description_tooltip": null,
            "layout": "IPY_MODEL_502d36434ac447e79995cafbedc9235a",
            "placeholder": "​",
            "style": "IPY_MODEL_9d3f92ce5f1c433bb29ec8b5ec07f2ef",
            "value": "tokenizer_config.json: 100%"
          }
        },
        "8fa050281912437d9c5d8bf17e346d2d": {
          "model_module": "@jupyter-widgets/controls",
          "model_name": "FloatProgressModel",
          "model_module_version": "1.5.0",
          "state": {
            "_dom_classes": [],
            "_model_module": "@jupyter-widgets/controls",
            "_model_module_version": "1.5.0",
            "_model_name": "FloatProgressModel",
            "_view_count": null,
            "_view_module": "@jupyter-widgets/controls",
            "_view_module_version": "1.5.0",
            "_view_name": "ProgressView",
            "bar_style": "success",
            "description": "",
            "description_tooltip": null,
            "layout": "IPY_MODEL_36d9cd90cdf14a9da17a260b65ed1ae4",
            "max": 28,
            "min": 0,
            "orientation": "horizontal",
            "style": "IPY_MODEL_3c5bb1cc888342cd9f9463c37bac4a00",
            "value": 28
          }
        },
        "dc92760c825e4341bc59e44bf6fd44a2": {
          "model_module": "@jupyter-widgets/controls",
          "model_name": "HTMLModel",
          "model_module_version": "1.5.0",
          "state": {
            "_dom_classes": [],
            "_model_module": "@jupyter-widgets/controls",
            "_model_module_version": "1.5.0",
            "_model_name": "HTMLModel",
            "_view_count": null,
            "_view_module": "@jupyter-widgets/controls",
            "_view_module_version": "1.5.0",
            "_view_name": "HTMLView",
            "description": "",
            "description_tooltip": null,
            "layout": "IPY_MODEL_e5912ca6926042eda72ea3534a4020c2",
            "placeholder": "​",
            "style": "IPY_MODEL_b1fb334f2dbd4d0f85f16a9498a30744",
            "value": " 28.0/28.0 [00:00&lt;00:00, 1.62kB/s]"
          }
        },
        "63ba12204beb432ea8f8fc528a419493": {
          "model_module": "@jupyter-widgets/base",
          "model_name": "LayoutModel",
          "model_module_version": "1.2.0",
          "state": {
            "_model_module": "@jupyter-widgets/base",
            "_model_module_version": "1.2.0",
            "_model_name": "LayoutModel",
            "_view_count": null,
            "_view_module": "@jupyter-widgets/base",
            "_view_module_version": "1.2.0",
            "_view_name": "LayoutView",
            "align_content": null,
            "align_items": null,
            "align_self": null,
            "border": null,
            "bottom": null,
            "display": null,
            "flex": null,
            "flex_flow": null,
            "grid_area": null,
            "grid_auto_columns": null,
            "grid_auto_flow": null,
            "grid_auto_rows": null,
            "grid_column": null,
            "grid_gap": null,
            "grid_row": null,
            "grid_template_areas": null,
            "grid_template_columns": null,
            "grid_template_rows": null,
            "height": null,
            "justify_content": null,
            "justify_items": null,
            "left": null,
            "margin": null,
            "max_height": null,
            "max_width": null,
            "min_height": null,
            "min_width": null,
            "object_fit": null,
            "object_position": null,
            "order": null,
            "overflow": null,
            "overflow_x": null,
            "overflow_y": null,
            "padding": null,
            "right": null,
            "top": null,
            "visibility": null,
            "width": null
          }
        },
        "502d36434ac447e79995cafbedc9235a": {
          "model_module": "@jupyter-widgets/base",
          "model_name": "LayoutModel",
          "model_module_version": "1.2.0",
          "state": {
            "_model_module": "@jupyter-widgets/base",
            "_model_module_version": "1.2.0",
            "_model_name": "LayoutModel",
            "_view_count": null,
            "_view_module": "@jupyter-widgets/base",
            "_view_module_version": "1.2.0",
            "_view_name": "LayoutView",
            "align_content": null,
            "align_items": null,
            "align_self": null,
            "border": null,
            "bottom": null,
            "display": null,
            "flex": null,
            "flex_flow": null,
            "grid_area": null,
            "grid_auto_columns": null,
            "grid_auto_flow": null,
            "grid_auto_rows": null,
            "grid_column": null,
            "grid_gap": null,
            "grid_row": null,
            "grid_template_areas": null,
            "grid_template_columns": null,
            "grid_template_rows": null,
            "height": null,
            "justify_content": null,
            "justify_items": null,
            "left": null,
            "margin": null,
            "max_height": null,
            "max_width": null,
            "min_height": null,
            "min_width": null,
            "object_fit": null,
            "object_position": null,
            "order": null,
            "overflow": null,
            "overflow_x": null,
            "overflow_y": null,
            "padding": null,
            "right": null,
            "top": null,
            "visibility": null,
            "width": null
          }
        },
        "9d3f92ce5f1c433bb29ec8b5ec07f2ef": {
          "model_module": "@jupyter-widgets/controls",
          "model_name": "DescriptionStyleModel",
          "model_module_version": "1.5.0",
          "state": {
            "_model_module": "@jupyter-widgets/controls",
            "_model_module_version": "1.5.0",
            "_model_name": "DescriptionStyleModel",
            "_view_count": null,
            "_view_module": "@jupyter-widgets/base",
            "_view_module_version": "1.2.0",
            "_view_name": "StyleView",
            "description_width": ""
          }
        },
        "36d9cd90cdf14a9da17a260b65ed1ae4": {
          "model_module": "@jupyter-widgets/base",
          "model_name": "LayoutModel",
          "model_module_version": "1.2.0",
          "state": {
            "_model_module": "@jupyter-widgets/base",
            "_model_module_version": "1.2.0",
            "_model_name": "LayoutModel",
            "_view_count": null,
            "_view_module": "@jupyter-widgets/base",
            "_view_module_version": "1.2.0",
            "_view_name": "LayoutView",
            "align_content": null,
            "align_items": null,
            "align_self": null,
            "border": null,
            "bottom": null,
            "display": null,
            "flex": null,
            "flex_flow": null,
            "grid_area": null,
            "grid_auto_columns": null,
            "grid_auto_flow": null,
            "grid_auto_rows": null,
            "grid_column": null,
            "grid_gap": null,
            "grid_row": null,
            "grid_template_areas": null,
            "grid_template_columns": null,
            "grid_template_rows": null,
            "height": null,
            "justify_content": null,
            "justify_items": null,
            "left": null,
            "margin": null,
            "max_height": null,
            "max_width": null,
            "min_height": null,
            "min_width": null,
            "object_fit": null,
            "object_position": null,
            "order": null,
            "overflow": null,
            "overflow_x": null,
            "overflow_y": null,
            "padding": null,
            "right": null,
            "top": null,
            "visibility": null,
            "width": null
          }
        },
        "3c5bb1cc888342cd9f9463c37bac4a00": {
          "model_module": "@jupyter-widgets/controls",
          "model_name": "ProgressStyleModel",
          "model_module_version": "1.5.0",
          "state": {
            "_model_module": "@jupyter-widgets/controls",
            "_model_module_version": "1.5.0",
            "_model_name": "ProgressStyleModel",
            "_view_count": null,
            "_view_module": "@jupyter-widgets/base",
            "_view_module_version": "1.2.0",
            "_view_name": "StyleView",
            "bar_color": null,
            "description_width": ""
          }
        },
        "e5912ca6926042eda72ea3534a4020c2": {
          "model_module": "@jupyter-widgets/base",
          "model_name": "LayoutModel",
          "model_module_version": "1.2.0",
          "state": {
            "_model_module": "@jupyter-widgets/base",
            "_model_module_version": "1.2.0",
            "_model_name": "LayoutModel",
            "_view_count": null,
            "_view_module": "@jupyter-widgets/base",
            "_view_module_version": "1.2.0",
            "_view_name": "LayoutView",
            "align_content": null,
            "align_items": null,
            "align_self": null,
            "border": null,
            "bottom": null,
            "display": null,
            "flex": null,
            "flex_flow": null,
            "grid_area": null,
            "grid_auto_columns": null,
            "grid_auto_flow": null,
            "grid_auto_rows": null,
            "grid_column": null,
            "grid_gap": null,
            "grid_row": null,
            "grid_template_areas": null,
            "grid_template_columns": null,
            "grid_template_rows": null,
            "height": null,
            "justify_content": null,
            "justify_items": null,
            "left": null,
            "margin": null,
            "max_height": null,
            "max_width": null,
            "min_height": null,
            "min_width": null,
            "object_fit": null,
            "object_position": null,
            "order": null,
            "overflow": null,
            "overflow_x": null,
            "overflow_y": null,
            "padding": null,
            "right": null,
            "top": null,
            "visibility": null,
            "width": null
          }
        },
        "b1fb334f2dbd4d0f85f16a9498a30744": {
          "model_module": "@jupyter-widgets/controls",
          "model_name": "DescriptionStyleModel",
          "model_module_version": "1.5.0",
          "state": {
            "_model_module": "@jupyter-widgets/controls",
            "_model_module_version": "1.5.0",
            "_model_name": "DescriptionStyleModel",
            "_view_count": null,
            "_view_module": "@jupyter-widgets/base",
            "_view_module_version": "1.2.0",
            "_view_name": "StyleView",
            "description_width": ""
          }
        },
        "24f6668eb9fe41d78e658469b01342c1": {
          "model_module": "@jupyter-widgets/controls",
          "model_name": "HBoxModel",
          "model_module_version": "1.5.0",
          "state": {
            "_dom_classes": [],
            "_model_module": "@jupyter-widgets/controls",
            "_model_module_version": "1.5.0",
            "_model_name": "HBoxModel",
            "_view_count": null,
            "_view_module": "@jupyter-widgets/controls",
            "_view_module_version": "1.5.0",
            "_view_name": "HBoxView",
            "box_style": "",
            "children": [
              "IPY_MODEL_e29b055a3d6a43ada2604a709a566d87",
              "IPY_MODEL_7fb687ca5dd7419ba39d11275a430f01",
              "IPY_MODEL_8f6ae91e437841af9cf704cc5151cab0"
            ],
            "layout": "IPY_MODEL_decae3446c73473c9d205ae0ad1f68db"
          }
        },
        "e29b055a3d6a43ada2604a709a566d87": {
          "model_module": "@jupyter-widgets/controls",
          "model_name": "HTMLModel",
          "model_module_version": "1.5.0",
          "state": {
            "_dom_classes": [],
            "_model_module": "@jupyter-widgets/controls",
            "_model_module_version": "1.5.0",
            "_model_name": "HTMLModel",
            "_view_count": null,
            "_view_module": "@jupyter-widgets/controls",
            "_view_module_version": "1.5.0",
            "_view_name": "HTMLView",
            "description": "",
            "description_tooltip": null,
            "layout": "IPY_MODEL_fffcd535ec324bce90ba39106453cf65",
            "placeholder": "​",
            "style": "IPY_MODEL_8cd57433b18f413886d87cab271ba36c",
            "value": "config.json: 100%"
          }
        },
        "7fb687ca5dd7419ba39d11275a430f01": {
          "model_module": "@jupyter-widgets/controls",
          "model_name": "FloatProgressModel",
          "model_module_version": "1.5.0",
          "state": {
            "_dom_classes": [],
            "_model_module": "@jupyter-widgets/controls",
            "_model_module_version": "1.5.0",
            "_model_name": "FloatProgressModel",
            "_view_count": null,
            "_view_module": "@jupyter-widgets/controls",
            "_view_module_version": "1.5.0",
            "_view_name": "ProgressView",
            "bar_style": "success",
            "description": "",
            "description_tooltip": null,
            "layout": "IPY_MODEL_2c46c092095e416fa78becf92e1b63a9",
            "max": 570,
            "min": 0,
            "orientation": "horizontal",
            "style": "IPY_MODEL_f20392e3a80543e2b0a520ab0f485fe2",
            "value": 570
          }
        },
        "8f6ae91e437841af9cf704cc5151cab0": {
          "model_module": "@jupyter-widgets/controls",
          "model_name": "HTMLModel",
          "model_module_version": "1.5.0",
          "state": {
            "_dom_classes": [],
            "_model_module": "@jupyter-widgets/controls",
            "_model_module_version": "1.5.0",
            "_model_name": "HTMLModel",
            "_view_count": null,
            "_view_module": "@jupyter-widgets/controls",
            "_view_module_version": "1.5.0",
            "_view_name": "HTMLView",
            "description": "",
            "description_tooltip": null,
            "layout": "IPY_MODEL_b249920ee0874be4a3f12cb32d38f8df",
            "placeholder": "​",
            "style": "IPY_MODEL_c13afbf5f77742ec9d0509712c4b733d",
            "value": " 570/570 [00:00&lt;00:00, 29.6kB/s]"
          }
        },
        "decae3446c73473c9d205ae0ad1f68db": {
          "model_module": "@jupyter-widgets/base",
          "model_name": "LayoutModel",
          "model_module_version": "1.2.0",
          "state": {
            "_model_module": "@jupyter-widgets/base",
            "_model_module_version": "1.2.0",
            "_model_name": "LayoutModel",
            "_view_count": null,
            "_view_module": "@jupyter-widgets/base",
            "_view_module_version": "1.2.0",
            "_view_name": "LayoutView",
            "align_content": null,
            "align_items": null,
            "align_self": null,
            "border": null,
            "bottom": null,
            "display": null,
            "flex": null,
            "flex_flow": null,
            "grid_area": null,
            "grid_auto_columns": null,
            "grid_auto_flow": null,
            "grid_auto_rows": null,
            "grid_column": null,
            "grid_gap": null,
            "grid_row": null,
            "grid_template_areas": null,
            "grid_template_columns": null,
            "grid_template_rows": null,
            "height": null,
            "justify_content": null,
            "justify_items": null,
            "left": null,
            "margin": null,
            "max_height": null,
            "max_width": null,
            "min_height": null,
            "min_width": null,
            "object_fit": null,
            "object_position": null,
            "order": null,
            "overflow": null,
            "overflow_x": null,
            "overflow_y": null,
            "padding": null,
            "right": null,
            "top": null,
            "visibility": null,
            "width": null
          }
        },
        "fffcd535ec324bce90ba39106453cf65": {
          "model_module": "@jupyter-widgets/base",
          "model_name": "LayoutModel",
          "model_module_version": "1.2.0",
          "state": {
            "_model_module": "@jupyter-widgets/base",
            "_model_module_version": "1.2.0",
            "_model_name": "LayoutModel",
            "_view_count": null,
            "_view_module": "@jupyter-widgets/base",
            "_view_module_version": "1.2.0",
            "_view_name": "LayoutView",
            "align_content": null,
            "align_items": null,
            "align_self": null,
            "border": null,
            "bottom": null,
            "display": null,
            "flex": null,
            "flex_flow": null,
            "grid_area": null,
            "grid_auto_columns": null,
            "grid_auto_flow": null,
            "grid_auto_rows": null,
            "grid_column": null,
            "grid_gap": null,
            "grid_row": null,
            "grid_template_areas": null,
            "grid_template_columns": null,
            "grid_template_rows": null,
            "height": null,
            "justify_content": null,
            "justify_items": null,
            "left": null,
            "margin": null,
            "max_height": null,
            "max_width": null,
            "min_height": null,
            "min_width": null,
            "object_fit": null,
            "object_position": null,
            "order": null,
            "overflow": null,
            "overflow_x": null,
            "overflow_y": null,
            "padding": null,
            "right": null,
            "top": null,
            "visibility": null,
            "width": null
          }
        },
        "8cd57433b18f413886d87cab271ba36c": {
          "model_module": "@jupyter-widgets/controls",
          "model_name": "DescriptionStyleModel",
          "model_module_version": "1.5.0",
          "state": {
            "_model_module": "@jupyter-widgets/controls",
            "_model_module_version": "1.5.0",
            "_model_name": "DescriptionStyleModel",
            "_view_count": null,
            "_view_module": "@jupyter-widgets/base",
            "_view_module_version": "1.2.0",
            "_view_name": "StyleView",
            "description_width": ""
          }
        },
        "2c46c092095e416fa78becf92e1b63a9": {
          "model_module": "@jupyter-widgets/base",
          "model_name": "LayoutModel",
          "model_module_version": "1.2.0",
          "state": {
            "_model_module": "@jupyter-widgets/base",
            "_model_module_version": "1.2.0",
            "_model_name": "LayoutModel",
            "_view_count": null,
            "_view_module": "@jupyter-widgets/base",
            "_view_module_version": "1.2.0",
            "_view_name": "LayoutView",
            "align_content": null,
            "align_items": null,
            "align_self": null,
            "border": null,
            "bottom": null,
            "display": null,
            "flex": null,
            "flex_flow": null,
            "grid_area": null,
            "grid_auto_columns": null,
            "grid_auto_flow": null,
            "grid_auto_rows": null,
            "grid_column": null,
            "grid_gap": null,
            "grid_row": null,
            "grid_template_areas": null,
            "grid_template_columns": null,
            "grid_template_rows": null,
            "height": null,
            "justify_content": null,
            "justify_items": null,
            "left": null,
            "margin": null,
            "max_height": null,
            "max_width": null,
            "min_height": null,
            "min_width": null,
            "object_fit": null,
            "object_position": null,
            "order": null,
            "overflow": null,
            "overflow_x": null,
            "overflow_y": null,
            "padding": null,
            "right": null,
            "top": null,
            "visibility": null,
            "width": null
          }
        },
        "f20392e3a80543e2b0a520ab0f485fe2": {
          "model_module": "@jupyter-widgets/controls",
          "model_name": "ProgressStyleModel",
          "model_module_version": "1.5.0",
          "state": {
            "_model_module": "@jupyter-widgets/controls",
            "_model_module_version": "1.5.0",
            "_model_name": "ProgressStyleModel",
            "_view_count": null,
            "_view_module": "@jupyter-widgets/base",
            "_view_module_version": "1.2.0",
            "_view_name": "StyleView",
            "bar_color": null,
            "description_width": ""
          }
        },
        "b249920ee0874be4a3f12cb32d38f8df": {
          "model_module": "@jupyter-widgets/base",
          "model_name": "LayoutModel",
          "model_module_version": "1.2.0",
          "state": {
            "_model_module": "@jupyter-widgets/base",
            "_model_module_version": "1.2.0",
            "_model_name": "LayoutModel",
            "_view_count": null,
            "_view_module": "@jupyter-widgets/base",
            "_view_module_version": "1.2.0",
            "_view_name": "LayoutView",
            "align_content": null,
            "align_items": null,
            "align_self": null,
            "border": null,
            "bottom": null,
            "display": null,
            "flex": null,
            "flex_flow": null,
            "grid_area": null,
            "grid_auto_columns": null,
            "grid_auto_flow": null,
            "grid_auto_rows": null,
            "grid_column": null,
            "grid_gap": null,
            "grid_row": null,
            "grid_template_areas": null,
            "grid_template_columns": null,
            "grid_template_rows": null,
            "height": null,
            "justify_content": null,
            "justify_items": null,
            "left": null,
            "margin": null,
            "max_height": null,
            "max_width": null,
            "min_height": null,
            "min_width": null,
            "object_fit": null,
            "object_position": null,
            "order": null,
            "overflow": null,
            "overflow_x": null,
            "overflow_y": null,
            "padding": null,
            "right": null,
            "top": null,
            "visibility": null,
            "width": null
          }
        },
        "c13afbf5f77742ec9d0509712c4b733d": {
          "model_module": "@jupyter-widgets/controls",
          "model_name": "DescriptionStyleModel",
          "model_module_version": "1.5.0",
          "state": {
            "_model_module": "@jupyter-widgets/controls",
            "_model_module_version": "1.5.0",
            "_model_name": "DescriptionStyleModel",
            "_view_count": null,
            "_view_module": "@jupyter-widgets/base",
            "_view_module_version": "1.2.0",
            "_view_name": "StyleView",
            "description_width": ""
          }
        },
        "f1308106e94a4da38e493a707b5df245": {
          "model_module": "@jupyter-widgets/controls",
          "model_name": "HBoxModel",
          "model_module_version": "1.5.0",
          "state": {
            "_dom_classes": [],
            "_model_module": "@jupyter-widgets/controls",
            "_model_module_version": "1.5.0",
            "_model_name": "HBoxModel",
            "_view_count": null,
            "_view_module": "@jupyter-widgets/controls",
            "_view_module_version": "1.5.0",
            "_view_name": "HBoxView",
            "box_style": "",
            "children": [
              "IPY_MODEL_23607b7a299b4b80bed51bfedeedd8e8",
              "IPY_MODEL_b8cfd284b9d94fe5897f6bea7b5fe507",
              "IPY_MODEL_6fb6e672099f462c86e655cd510852dd"
            ],
            "layout": "IPY_MODEL_bc1d2daab54d4fe8b2ada728b1009c2e"
          }
        },
        "23607b7a299b4b80bed51bfedeedd8e8": {
          "model_module": "@jupyter-widgets/controls",
          "model_name": "HTMLModel",
          "model_module_version": "1.5.0",
          "state": {
            "_dom_classes": [],
            "_model_module": "@jupyter-widgets/controls",
            "_model_module_version": "1.5.0",
            "_model_name": "HTMLModel",
            "_view_count": null,
            "_view_module": "@jupyter-widgets/controls",
            "_view_module_version": "1.5.0",
            "_view_name": "HTMLView",
            "description": "",
            "description_tooltip": null,
            "layout": "IPY_MODEL_86d14a05060a428d84142c8716d889f1",
            "placeholder": "​",
            "style": "IPY_MODEL_8be7c14156a144378969ed1d862fee5b",
            "value": "vocab.txt: 100%"
          }
        },
        "b8cfd284b9d94fe5897f6bea7b5fe507": {
          "model_module": "@jupyter-widgets/controls",
          "model_name": "FloatProgressModel",
          "model_module_version": "1.5.0",
          "state": {
            "_dom_classes": [],
            "_model_module": "@jupyter-widgets/controls",
            "_model_module_version": "1.5.0",
            "_model_name": "FloatProgressModel",
            "_view_count": null,
            "_view_module": "@jupyter-widgets/controls",
            "_view_module_version": "1.5.0",
            "_view_name": "ProgressView",
            "bar_style": "success",
            "description": "",
            "description_tooltip": null,
            "layout": "IPY_MODEL_54bd0e77b36b4e1db07f8049f071eb4e",
            "max": 231508,
            "min": 0,
            "orientation": "horizontal",
            "style": "IPY_MODEL_ada8a094a5b54bbfaab75d6dcceef517",
            "value": 231508
          }
        },
        "6fb6e672099f462c86e655cd510852dd": {
          "model_module": "@jupyter-widgets/controls",
          "model_name": "HTMLModel",
          "model_module_version": "1.5.0",
          "state": {
            "_dom_classes": [],
            "_model_module": "@jupyter-widgets/controls",
            "_model_module_version": "1.5.0",
            "_model_name": "HTMLModel",
            "_view_count": null,
            "_view_module": "@jupyter-widgets/controls",
            "_view_module_version": "1.5.0",
            "_view_name": "HTMLView",
            "description": "",
            "description_tooltip": null,
            "layout": "IPY_MODEL_608b8a5c2a6c47b59173a3071d9eb071",
            "placeholder": "​",
            "style": "IPY_MODEL_6674babd9a34440c83994003b4ea7201",
            "value": " 232k/232k [00:00&lt;00:00, 3.17MB/s]"
          }
        },
        "bc1d2daab54d4fe8b2ada728b1009c2e": {
          "model_module": "@jupyter-widgets/base",
          "model_name": "LayoutModel",
          "model_module_version": "1.2.0",
          "state": {
            "_model_module": "@jupyter-widgets/base",
            "_model_module_version": "1.2.0",
            "_model_name": "LayoutModel",
            "_view_count": null,
            "_view_module": "@jupyter-widgets/base",
            "_view_module_version": "1.2.0",
            "_view_name": "LayoutView",
            "align_content": null,
            "align_items": null,
            "align_self": null,
            "border": null,
            "bottom": null,
            "display": null,
            "flex": null,
            "flex_flow": null,
            "grid_area": null,
            "grid_auto_columns": null,
            "grid_auto_flow": null,
            "grid_auto_rows": null,
            "grid_column": null,
            "grid_gap": null,
            "grid_row": null,
            "grid_template_areas": null,
            "grid_template_columns": null,
            "grid_template_rows": null,
            "height": null,
            "justify_content": null,
            "justify_items": null,
            "left": null,
            "margin": null,
            "max_height": null,
            "max_width": null,
            "min_height": null,
            "min_width": null,
            "object_fit": null,
            "object_position": null,
            "order": null,
            "overflow": null,
            "overflow_x": null,
            "overflow_y": null,
            "padding": null,
            "right": null,
            "top": null,
            "visibility": null,
            "width": null
          }
        },
        "86d14a05060a428d84142c8716d889f1": {
          "model_module": "@jupyter-widgets/base",
          "model_name": "LayoutModel",
          "model_module_version": "1.2.0",
          "state": {
            "_model_module": "@jupyter-widgets/base",
            "_model_module_version": "1.2.0",
            "_model_name": "LayoutModel",
            "_view_count": null,
            "_view_module": "@jupyter-widgets/base",
            "_view_module_version": "1.2.0",
            "_view_name": "LayoutView",
            "align_content": null,
            "align_items": null,
            "align_self": null,
            "border": null,
            "bottom": null,
            "display": null,
            "flex": null,
            "flex_flow": null,
            "grid_area": null,
            "grid_auto_columns": null,
            "grid_auto_flow": null,
            "grid_auto_rows": null,
            "grid_column": null,
            "grid_gap": null,
            "grid_row": null,
            "grid_template_areas": null,
            "grid_template_columns": null,
            "grid_template_rows": null,
            "height": null,
            "justify_content": null,
            "justify_items": null,
            "left": null,
            "margin": null,
            "max_height": null,
            "max_width": null,
            "min_height": null,
            "min_width": null,
            "object_fit": null,
            "object_position": null,
            "order": null,
            "overflow": null,
            "overflow_x": null,
            "overflow_y": null,
            "padding": null,
            "right": null,
            "top": null,
            "visibility": null,
            "width": null
          }
        },
        "8be7c14156a144378969ed1d862fee5b": {
          "model_module": "@jupyter-widgets/controls",
          "model_name": "DescriptionStyleModel",
          "model_module_version": "1.5.0",
          "state": {
            "_model_module": "@jupyter-widgets/controls",
            "_model_module_version": "1.5.0",
            "_model_name": "DescriptionStyleModel",
            "_view_count": null,
            "_view_module": "@jupyter-widgets/base",
            "_view_module_version": "1.2.0",
            "_view_name": "StyleView",
            "description_width": ""
          }
        },
        "54bd0e77b36b4e1db07f8049f071eb4e": {
          "model_module": "@jupyter-widgets/base",
          "model_name": "LayoutModel",
          "model_module_version": "1.2.0",
          "state": {
            "_model_module": "@jupyter-widgets/base",
            "_model_module_version": "1.2.0",
            "_model_name": "LayoutModel",
            "_view_count": null,
            "_view_module": "@jupyter-widgets/base",
            "_view_module_version": "1.2.0",
            "_view_name": "LayoutView",
            "align_content": null,
            "align_items": null,
            "align_self": null,
            "border": null,
            "bottom": null,
            "display": null,
            "flex": null,
            "flex_flow": null,
            "grid_area": null,
            "grid_auto_columns": null,
            "grid_auto_flow": null,
            "grid_auto_rows": null,
            "grid_column": null,
            "grid_gap": null,
            "grid_row": null,
            "grid_template_areas": null,
            "grid_template_columns": null,
            "grid_template_rows": null,
            "height": null,
            "justify_content": null,
            "justify_items": null,
            "left": null,
            "margin": null,
            "max_height": null,
            "max_width": null,
            "min_height": null,
            "min_width": null,
            "object_fit": null,
            "object_position": null,
            "order": null,
            "overflow": null,
            "overflow_x": null,
            "overflow_y": null,
            "padding": null,
            "right": null,
            "top": null,
            "visibility": null,
            "width": null
          }
        },
        "ada8a094a5b54bbfaab75d6dcceef517": {
          "model_module": "@jupyter-widgets/controls",
          "model_name": "ProgressStyleModel",
          "model_module_version": "1.5.0",
          "state": {
            "_model_module": "@jupyter-widgets/controls",
            "_model_module_version": "1.5.0",
            "_model_name": "ProgressStyleModel",
            "_view_count": null,
            "_view_module": "@jupyter-widgets/base",
            "_view_module_version": "1.2.0",
            "_view_name": "StyleView",
            "bar_color": null,
            "description_width": ""
          }
        },
        "608b8a5c2a6c47b59173a3071d9eb071": {
          "model_module": "@jupyter-widgets/base",
          "model_name": "LayoutModel",
          "model_module_version": "1.2.0",
          "state": {
            "_model_module": "@jupyter-widgets/base",
            "_model_module_version": "1.2.0",
            "_model_name": "LayoutModel",
            "_view_count": null,
            "_view_module": "@jupyter-widgets/base",
            "_view_module_version": "1.2.0",
            "_view_name": "LayoutView",
            "align_content": null,
            "align_items": null,
            "align_self": null,
            "border": null,
            "bottom": null,
            "display": null,
            "flex": null,
            "flex_flow": null,
            "grid_area": null,
            "grid_auto_columns": null,
            "grid_auto_flow": null,
            "grid_auto_rows": null,
            "grid_column": null,
            "grid_gap": null,
            "grid_row": null,
            "grid_template_areas": null,
            "grid_template_columns": null,
            "grid_template_rows": null,
            "height": null,
            "justify_content": null,
            "justify_items": null,
            "left": null,
            "margin": null,
            "max_height": null,
            "max_width": null,
            "min_height": null,
            "min_width": null,
            "object_fit": null,
            "object_position": null,
            "order": null,
            "overflow": null,
            "overflow_x": null,
            "overflow_y": null,
            "padding": null,
            "right": null,
            "top": null,
            "visibility": null,
            "width": null
          }
        },
        "6674babd9a34440c83994003b4ea7201": {
          "model_module": "@jupyter-widgets/controls",
          "model_name": "DescriptionStyleModel",
          "model_module_version": "1.5.0",
          "state": {
            "_model_module": "@jupyter-widgets/controls",
            "_model_module_version": "1.5.0",
            "_model_name": "DescriptionStyleModel",
            "_view_count": null,
            "_view_module": "@jupyter-widgets/base",
            "_view_module_version": "1.2.0",
            "_view_name": "StyleView",
            "description_width": ""
          }
        },
        "57aa095c466a4ace9443cf3616f2bf97": {
          "model_module": "@jupyter-widgets/controls",
          "model_name": "HBoxModel",
          "model_module_version": "1.5.0",
          "state": {
            "_dom_classes": [],
            "_model_module": "@jupyter-widgets/controls",
            "_model_module_version": "1.5.0",
            "_model_name": "HBoxModel",
            "_view_count": null,
            "_view_module": "@jupyter-widgets/controls",
            "_view_module_version": "1.5.0",
            "_view_name": "HBoxView",
            "box_style": "",
            "children": [
              "IPY_MODEL_2e077ce9d6434738b52b212b913a6eef",
              "IPY_MODEL_5da285abfded4e8e8f5cf27e048e3857",
              "IPY_MODEL_94dc61f4646f485fa0205f37445fb5d0"
            ],
            "layout": "IPY_MODEL_fe7cb29598f5499fa4f4256dde531f5e"
          }
        },
        "2e077ce9d6434738b52b212b913a6eef": {
          "model_module": "@jupyter-widgets/controls",
          "model_name": "HTMLModel",
          "model_module_version": "1.5.0",
          "state": {
            "_dom_classes": [],
            "_model_module": "@jupyter-widgets/controls",
            "_model_module_version": "1.5.0",
            "_model_name": "HTMLModel",
            "_view_count": null,
            "_view_module": "@jupyter-widgets/controls",
            "_view_module_version": "1.5.0",
            "_view_name": "HTMLView",
            "description": "",
            "description_tooltip": null,
            "layout": "IPY_MODEL_bc9ff51f6d674b82ba56801738b64d5f",
            "placeholder": "​",
            "style": "IPY_MODEL_e065f014027f48d8bb889b541e43e40b",
            "value": "tokenizer.json: 100%"
          }
        },
        "5da285abfded4e8e8f5cf27e048e3857": {
          "model_module": "@jupyter-widgets/controls",
          "model_name": "FloatProgressModel",
          "model_module_version": "1.5.0",
          "state": {
            "_dom_classes": [],
            "_model_module": "@jupyter-widgets/controls",
            "_model_module_version": "1.5.0",
            "_model_name": "FloatProgressModel",
            "_view_count": null,
            "_view_module": "@jupyter-widgets/controls",
            "_view_module_version": "1.5.0",
            "_view_name": "ProgressView",
            "bar_style": "success",
            "description": "",
            "description_tooltip": null,
            "layout": "IPY_MODEL_e29e46e071794a788e03f23c8c734d17",
            "max": 466062,
            "min": 0,
            "orientation": "horizontal",
            "style": "IPY_MODEL_3d88a355125242f38b308e33321894eb",
            "value": 466062
          }
        },
        "94dc61f4646f485fa0205f37445fb5d0": {
          "model_module": "@jupyter-widgets/controls",
          "model_name": "HTMLModel",
          "model_module_version": "1.5.0",
          "state": {
            "_dom_classes": [],
            "_model_module": "@jupyter-widgets/controls",
            "_model_module_version": "1.5.0",
            "_model_name": "HTMLModel",
            "_view_count": null,
            "_view_module": "@jupyter-widgets/controls",
            "_view_module_version": "1.5.0",
            "_view_name": "HTMLView",
            "description": "",
            "description_tooltip": null,
            "layout": "IPY_MODEL_1e679d000e4040d992b6731891cc926c",
            "placeholder": "​",
            "style": "IPY_MODEL_abf59b5c98984c829bcd2af12958c0d9",
            "value": " 466k/466k [00:00&lt;00:00, 12.0MB/s]"
          }
        },
        "fe7cb29598f5499fa4f4256dde531f5e": {
          "model_module": "@jupyter-widgets/base",
          "model_name": "LayoutModel",
          "model_module_version": "1.2.0",
          "state": {
            "_model_module": "@jupyter-widgets/base",
            "_model_module_version": "1.2.0",
            "_model_name": "LayoutModel",
            "_view_count": null,
            "_view_module": "@jupyter-widgets/base",
            "_view_module_version": "1.2.0",
            "_view_name": "LayoutView",
            "align_content": null,
            "align_items": null,
            "align_self": null,
            "border": null,
            "bottom": null,
            "display": null,
            "flex": null,
            "flex_flow": null,
            "grid_area": null,
            "grid_auto_columns": null,
            "grid_auto_flow": null,
            "grid_auto_rows": null,
            "grid_column": null,
            "grid_gap": null,
            "grid_row": null,
            "grid_template_areas": null,
            "grid_template_columns": null,
            "grid_template_rows": null,
            "height": null,
            "justify_content": null,
            "justify_items": null,
            "left": null,
            "margin": null,
            "max_height": null,
            "max_width": null,
            "min_height": null,
            "min_width": null,
            "object_fit": null,
            "object_position": null,
            "order": null,
            "overflow": null,
            "overflow_x": null,
            "overflow_y": null,
            "padding": null,
            "right": null,
            "top": null,
            "visibility": null,
            "width": null
          }
        },
        "bc9ff51f6d674b82ba56801738b64d5f": {
          "model_module": "@jupyter-widgets/base",
          "model_name": "LayoutModel",
          "model_module_version": "1.2.0",
          "state": {
            "_model_module": "@jupyter-widgets/base",
            "_model_module_version": "1.2.0",
            "_model_name": "LayoutModel",
            "_view_count": null,
            "_view_module": "@jupyter-widgets/base",
            "_view_module_version": "1.2.0",
            "_view_name": "LayoutView",
            "align_content": null,
            "align_items": null,
            "align_self": null,
            "border": null,
            "bottom": null,
            "display": null,
            "flex": null,
            "flex_flow": null,
            "grid_area": null,
            "grid_auto_columns": null,
            "grid_auto_flow": null,
            "grid_auto_rows": null,
            "grid_column": null,
            "grid_gap": null,
            "grid_row": null,
            "grid_template_areas": null,
            "grid_template_columns": null,
            "grid_template_rows": null,
            "height": null,
            "justify_content": null,
            "justify_items": null,
            "left": null,
            "margin": null,
            "max_height": null,
            "max_width": null,
            "min_height": null,
            "min_width": null,
            "object_fit": null,
            "object_position": null,
            "order": null,
            "overflow": null,
            "overflow_x": null,
            "overflow_y": null,
            "padding": null,
            "right": null,
            "top": null,
            "visibility": null,
            "width": null
          }
        },
        "e065f014027f48d8bb889b541e43e40b": {
          "model_module": "@jupyter-widgets/controls",
          "model_name": "DescriptionStyleModel",
          "model_module_version": "1.5.0",
          "state": {
            "_model_module": "@jupyter-widgets/controls",
            "_model_module_version": "1.5.0",
            "_model_name": "DescriptionStyleModel",
            "_view_count": null,
            "_view_module": "@jupyter-widgets/base",
            "_view_module_version": "1.2.0",
            "_view_name": "StyleView",
            "description_width": ""
          }
        },
        "e29e46e071794a788e03f23c8c734d17": {
          "model_module": "@jupyter-widgets/base",
          "model_name": "LayoutModel",
          "model_module_version": "1.2.0",
          "state": {
            "_model_module": "@jupyter-widgets/base",
            "_model_module_version": "1.2.0",
            "_model_name": "LayoutModel",
            "_view_count": null,
            "_view_module": "@jupyter-widgets/base",
            "_view_module_version": "1.2.0",
            "_view_name": "LayoutView",
            "align_content": null,
            "align_items": null,
            "align_self": null,
            "border": null,
            "bottom": null,
            "display": null,
            "flex": null,
            "flex_flow": null,
            "grid_area": null,
            "grid_auto_columns": null,
            "grid_auto_flow": null,
            "grid_auto_rows": null,
            "grid_column": null,
            "grid_gap": null,
            "grid_row": null,
            "grid_template_areas": null,
            "grid_template_columns": null,
            "grid_template_rows": null,
            "height": null,
            "justify_content": null,
            "justify_items": null,
            "left": null,
            "margin": null,
            "max_height": null,
            "max_width": null,
            "min_height": null,
            "min_width": null,
            "object_fit": null,
            "object_position": null,
            "order": null,
            "overflow": null,
            "overflow_x": null,
            "overflow_y": null,
            "padding": null,
            "right": null,
            "top": null,
            "visibility": null,
            "width": null
          }
        },
        "3d88a355125242f38b308e33321894eb": {
          "model_module": "@jupyter-widgets/controls",
          "model_name": "ProgressStyleModel",
          "model_module_version": "1.5.0",
          "state": {
            "_model_module": "@jupyter-widgets/controls",
            "_model_module_version": "1.5.0",
            "_model_name": "ProgressStyleModel",
            "_view_count": null,
            "_view_module": "@jupyter-widgets/base",
            "_view_module_version": "1.2.0",
            "_view_name": "StyleView",
            "bar_color": null,
            "description_width": ""
          }
        },
        "1e679d000e4040d992b6731891cc926c": {
          "model_module": "@jupyter-widgets/base",
          "model_name": "LayoutModel",
          "model_module_version": "1.2.0",
          "state": {
            "_model_module": "@jupyter-widgets/base",
            "_model_module_version": "1.2.0",
            "_model_name": "LayoutModel",
            "_view_count": null,
            "_view_module": "@jupyter-widgets/base",
            "_view_module_version": "1.2.0",
            "_view_name": "LayoutView",
            "align_content": null,
            "align_items": null,
            "align_self": null,
            "border": null,
            "bottom": null,
            "display": null,
            "flex": null,
            "flex_flow": null,
            "grid_area": null,
            "grid_auto_columns": null,
            "grid_auto_flow": null,
            "grid_auto_rows": null,
            "grid_column": null,
            "grid_gap": null,
            "grid_row": null,
            "grid_template_areas": null,
            "grid_template_columns": null,
            "grid_template_rows": null,
            "height": null,
            "justify_content": null,
            "justify_items": null,
            "left": null,
            "margin": null,
            "max_height": null,
            "max_width": null,
            "min_height": null,
            "min_width": null,
            "object_fit": null,
            "object_position": null,
            "order": null,
            "overflow": null,
            "overflow_x": null,
            "overflow_y": null,
            "padding": null,
            "right": null,
            "top": null,
            "visibility": null,
            "width": null
          }
        },
        "abf59b5c98984c829bcd2af12958c0d9": {
          "model_module": "@jupyter-widgets/controls",
          "model_name": "DescriptionStyleModel",
          "model_module_version": "1.5.0",
          "state": {
            "_model_module": "@jupyter-widgets/controls",
            "_model_module_version": "1.5.0",
            "_model_name": "DescriptionStyleModel",
            "_view_count": null,
            "_view_module": "@jupyter-widgets/base",
            "_view_module_version": "1.2.0",
            "_view_name": "StyleView",
            "description_width": ""
          }
        },
        "ebcff623c6e940e39305f00ee972cb8d": {
          "model_module": "@jupyter-widgets/controls",
          "model_name": "HBoxModel",
          "model_module_version": "1.5.0",
          "state": {
            "_dom_classes": [],
            "_model_module": "@jupyter-widgets/controls",
            "_model_module_version": "1.5.0",
            "_model_name": "HBoxModel",
            "_view_count": null,
            "_view_module": "@jupyter-widgets/controls",
            "_view_module_version": "1.5.0",
            "_view_name": "HBoxView",
            "box_style": "",
            "children": [
              "IPY_MODEL_d2b9726de1264b85a4db4c149e5a6280",
              "IPY_MODEL_98d50c201571499a8dc45035dc9bf37b",
              "IPY_MODEL_bdce81066b654f96ab6bd2b6180226da"
            ],
            "layout": "IPY_MODEL_740569cc897e41e3bf0f73bcc3e41418"
          }
        },
        "d2b9726de1264b85a4db4c149e5a6280": {
          "model_module": "@jupyter-widgets/controls",
          "model_name": "HTMLModel",
          "model_module_version": "1.5.0",
          "state": {
            "_dom_classes": [],
            "_model_module": "@jupyter-widgets/controls",
            "_model_module_version": "1.5.0",
            "_model_name": "HTMLModel",
            "_view_count": null,
            "_view_module": "@jupyter-widgets/controls",
            "_view_module_version": "1.5.0",
            "_view_name": "HTMLView",
            "description": "",
            "description_tooltip": null,
            "layout": "IPY_MODEL_ac717db8f32b4085b4378df6b49c2b3f",
            "placeholder": "​",
            "style": "IPY_MODEL_00f38e70d5134fe6b64540629103ca17",
            "value": "vocab.json: 100%"
          }
        },
        "98d50c201571499a8dc45035dc9bf37b": {
          "model_module": "@jupyter-widgets/controls",
          "model_name": "FloatProgressModel",
          "model_module_version": "1.5.0",
          "state": {
            "_dom_classes": [],
            "_model_module": "@jupyter-widgets/controls",
            "_model_module_version": "1.5.0",
            "_model_name": "FloatProgressModel",
            "_view_count": null,
            "_view_module": "@jupyter-widgets/controls",
            "_view_module_version": "1.5.0",
            "_view_name": "ProgressView",
            "bar_style": "success",
            "description": "",
            "description_tooltip": null,
            "layout": "IPY_MODEL_11d7eb8375474ad7b5e62354719daff4",
            "max": 1042301,
            "min": 0,
            "orientation": "horizontal",
            "style": "IPY_MODEL_635c416c71b7472998e7916b4d30e5e0",
            "value": 1042301
          }
        },
        "bdce81066b654f96ab6bd2b6180226da": {
          "model_module": "@jupyter-widgets/controls",
          "model_name": "HTMLModel",
          "model_module_version": "1.5.0",
          "state": {
            "_dom_classes": [],
            "_model_module": "@jupyter-widgets/controls",
            "_model_module_version": "1.5.0",
            "_model_name": "HTMLModel",
            "_view_count": null,
            "_view_module": "@jupyter-widgets/controls",
            "_view_module_version": "1.5.0",
            "_view_name": "HTMLView",
            "description": "",
            "description_tooltip": null,
            "layout": "IPY_MODEL_359880e7ab974994b353f6184c3b7852",
            "placeholder": "​",
            "style": "IPY_MODEL_a93a50dc5ab14df29be84916f5d730cc",
            "value": " 1.04M/1.04M [00:00&lt;00:00, 14.8MB/s]"
          }
        },
        "740569cc897e41e3bf0f73bcc3e41418": {
          "model_module": "@jupyter-widgets/base",
          "model_name": "LayoutModel",
          "model_module_version": "1.2.0",
          "state": {
            "_model_module": "@jupyter-widgets/base",
            "_model_module_version": "1.2.0",
            "_model_name": "LayoutModel",
            "_view_count": null,
            "_view_module": "@jupyter-widgets/base",
            "_view_module_version": "1.2.0",
            "_view_name": "LayoutView",
            "align_content": null,
            "align_items": null,
            "align_self": null,
            "border": null,
            "bottom": null,
            "display": null,
            "flex": null,
            "flex_flow": null,
            "grid_area": null,
            "grid_auto_columns": null,
            "grid_auto_flow": null,
            "grid_auto_rows": null,
            "grid_column": null,
            "grid_gap": null,
            "grid_row": null,
            "grid_template_areas": null,
            "grid_template_columns": null,
            "grid_template_rows": null,
            "height": null,
            "justify_content": null,
            "justify_items": null,
            "left": null,
            "margin": null,
            "max_height": null,
            "max_width": null,
            "min_height": null,
            "min_width": null,
            "object_fit": null,
            "object_position": null,
            "order": null,
            "overflow": null,
            "overflow_x": null,
            "overflow_y": null,
            "padding": null,
            "right": null,
            "top": null,
            "visibility": null,
            "width": null
          }
        },
        "ac717db8f32b4085b4378df6b49c2b3f": {
          "model_module": "@jupyter-widgets/base",
          "model_name": "LayoutModel",
          "model_module_version": "1.2.0",
          "state": {
            "_model_module": "@jupyter-widgets/base",
            "_model_module_version": "1.2.0",
            "_model_name": "LayoutModel",
            "_view_count": null,
            "_view_module": "@jupyter-widgets/base",
            "_view_module_version": "1.2.0",
            "_view_name": "LayoutView",
            "align_content": null,
            "align_items": null,
            "align_self": null,
            "border": null,
            "bottom": null,
            "display": null,
            "flex": null,
            "flex_flow": null,
            "grid_area": null,
            "grid_auto_columns": null,
            "grid_auto_flow": null,
            "grid_auto_rows": null,
            "grid_column": null,
            "grid_gap": null,
            "grid_row": null,
            "grid_template_areas": null,
            "grid_template_columns": null,
            "grid_template_rows": null,
            "height": null,
            "justify_content": null,
            "justify_items": null,
            "left": null,
            "margin": null,
            "max_height": null,
            "max_width": null,
            "min_height": null,
            "min_width": null,
            "object_fit": null,
            "object_position": null,
            "order": null,
            "overflow": null,
            "overflow_x": null,
            "overflow_y": null,
            "padding": null,
            "right": null,
            "top": null,
            "visibility": null,
            "width": null
          }
        },
        "00f38e70d5134fe6b64540629103ca17": {
          "model_module": "@jupyter-widgets/controls",
          "model_name": "DescriptionStyleModel",
          "model_module_version": "1.5.0",
          "state": {
            "_model_module": "@jupyter-widgets/controls",
            "_model_module_version": "1.5.0",
            "_model_name": "DescriptionStyleModel",
            "_view_count": null,
            "_view_module": "@jupyter-widgets/base",
            "_view_module_version": "1.2.0",
            "_view_name": "StyleView",
            "description_width": ""
          }
        },
        "11d7eb8375474ad7b5e62354719daff4": {
          "model_module": "@jupyter-widgets/base",
          "model_name": "LayoutModel",
          "model_module_version": "1.2.0",
          "state": {
            "_model_module": "@jupyter-widgets/base",
            "_model_module_version": "1.2.0",
            "_model_name": "LayoutModel",
            "_view_count": null,
            "_view_module": "@jupyter-widgets/base",
            "_view_module_version": "1.2.0",
            "_view_name": "LayoutView",
            "align_content": null,
            "align_items": null,
            "align_self": null,
            "border": null,
            "bottom": null,
            "display": null,
            "flex": null,
            "flex_flow": null,
            "grid_area": null,
            "grid_auto_columns": null,
            "grid_auto_flow": null,
            "grid_auto_rows": null,
            "grid_column": null,
            "grid_gap": null,
            "grid_row": null,
            "grid_template_areas": null,
            "grid_template_columns": null,
            "grid_template_rows": null,
            "height": null,
            "justify_content": null,
            "justify_items": null,
            "left": null,
            "margin": null,
            "max_height": null,
            "max_width": null,
            "min_height": null,
            "min_width": null,
            "object_fit": null,
            "object_position": null,
            "order": null,
            "overflow": null,
            "overflow_x": null,
            "overflow_y": null,
            "padding": null,
            "right": null,
            "top": null,
            "visibility": null,
            "width": null
          }
        },
        "635c416c71b7472998e7916b4d30e5e0": {
          "model_module": "@jupyter-widgets/controls",
          "model_name": "ProgressStyleModel",
          "model_module_version": "1.5.0",
          "state": {
            "_model_module": "@jupyter-widgets/controls",
            "_model_module_version": "1.5.0",
            "_model_name": "ProgressStyleModel",
            "_view_count": null,
            "_view_module": "@jupyter-widgets/base",
            "_view_module_version": "1.2.0",
            "_view_name": "StyleView",
            "bar_color": null,
            "description_width": ""
          }
        },
        "359880e7ab974994b353f6184c3b7852": {
          "model_module": "@jupyter-widgets/base",
          "model_name": "LayoutModel",
          "model_module_version": "1.2.0",
          "state": {
            "_model_module": "@jupyter-widgets/base",
            "_model_module_version": "1.2.0",
            "_model_name": "LayoutModel",
            "_view_count": null,
            "_view_module": "@jupyter-widgets/base",
            "_view_module_version": "1.2.0",
            "_view_name": "LayoutView",
            "align_content": null,
            "align_items": null,
            "align_self": null,
            "border": null,
            "bottom": null,
            "display": null,
            "flex": null,
            "flex_flow": null,
            "grid_area": null,
            "grid_auto_columns": null,
            "grid_auto_flow": null,
            "grid_auto_rows": null,
            "grid_column": null,
            "grid_gap": null,
            "grid_row": null,
            "grid_template_areas": null,
            "grid_template_columns": null,
            "grid_template_rows": null,
            "height": null,
            "justify_content": null,
            "justify_items": null,
            "left": null,
            "margin": null,
            "max_height": null,
            "max_width": null,
            "min_height": null,
            "min_width": null,
            "object_fit": null,
            "object_position": null,
            "order": null,
            "overflow": null,
            "overflow_x": null,
            "overflow_y": null,
            "padding": null,
            "right": null,
            "top": null,
            "visibility": null,
            "width": null
          }
        },
        "a93a50dc5ab14df29be84916f5d730cc": {
          "model_module": "@jupyter-widgets/controls",
          "model_name": "DescriptionStyleModel",
          "model_module_version": "1.5.0",
          "state": {
            "_model_module": "@jupyter-widgets/controls",
            "_model_module_version": "1.5.0",
            "_model_name": "DescriptionStyleModel",
            "_view_count": null,
            "_view_module": "@jupyter-widgets/base",
            "_view_module_version": "1.2.0",
            "_view_name": "StyleView",
            "description_width": ""
          }
        },
        "036a4fce18284021b00b4776360270eb": {
          "model_module": "@jupyter-widgets/controls",
          "model_name": "HBoxModel",
          "model_module_version": "1.5.0",
          "state": {
            "_dom_classes": [],
            "_model_module": "@jupyter-widgets/controls",
            "_model_module_version": "1.5.0",
            "_model_name": "HBoxModel",
            "_view_count": null,
            "_view_module": "@jupyter-widgets/controls",
            "_view_module_version": "1.5.0",
            "_view_name": "HBoxView",
            "box_style": "",
            "children": [
              "IPY_MODEL_3fc0a7d5de124caa9bd55fee5aed0113",
              "IPY_MODEL_838ccc0794aa4edcac5dd998d8a9b49e",
              "IPY_MODEL_de0cd2c0869249fd9658d2a2f986717a"
            ],
            "layout": "IPY_MODEL_a35681fb2fcd4d46802b8be4c3b6e80d"
          }
        },
        "3fc0a7d5de124caa9bd55fee5aed0113": {
          "model_module": "@jupyter-widgets/controls",
          "model_name": "HTMLModel",
          "model_module_version": "1.5.0",
          "state": {
            "_dom_classes": [],
            "_model_module": "@jupyter-widgets/controls",
            "_model_module_version": "1.5.0",
            "_model_name": "HTMLModel",
            "_view_count": null,
            "_view_module": "@jupyter-widgets/controls",
            "_view_module_version": "1.5.0",
            "_view_name": "HTMLView",
            "description": "",
            "description_tooltip": null,
            "layout": "IPY_MODEL_112676901e5142d1bce57b2f312db025",
            "placeholder": "​",
            "style": "IPY_MODEL_0a9df06e9d9a4d64abbd1a60bedb1f1f",
            "value": "merges.txt: 100%"
          }
        },
        "838ccc0794aa4edcac5dd998d8a9b49e": {
          "model_module": "@jupyter-widgets/controls",
          "model_name": "FloatProgressModel",
          "model_module_version": "1.5.0",
          "state": {
            "_dom_classes": [],
            "_model_module": "@jupyter-widgets/controls",
            "_model_module_version": "1.5.0",
            "_model_name": "FloatProgressModel",
            "_view_count": null,
            "_view_module": "@jupyter-widgets/controls",
            "_view_module_version": "1.5.0",
            "_view_name": "ProgressView",
            "bar_style": "success",
            "description": "",
            "description_tooltip": null,
            "layout": "IPY_MODEL_32517ec2baa94e0e929480492a21697b",
            "max": 456318,
            "min": 0,
            "orientation": "horizontal",
            "style": "IPY_MODEL_dbff6952d1d84546acc8999b6933e68a",
            "value": 456318
          }
        },
        "de0cd2c0869249fd9658d2a2f986717a": {
          "model_module": "@jupyter-widgets/controls",
          "model_name": "HTMLModel",
          "model_module_version": "1.5.0",
          "state": {
            "_dom_classes": [],
            "_model_module": "@jupyter-widgets/controls",
            "_model_module_version": "1.5.0",
            "_model_name": "HTMLModel",
            "_view_count": null,
            "_view_module": "@jupyter-widgets/controls",
            "_view_module_version": "1.5.0",
            "_view_name": "HTMLView",
            "description": "",
            "description_tooltip": null,
            "layout": "IPY_MODEL_1bd4287aa4d94ad7a2317f56e82dd390",
            "placeholder": "​",
            "style": "IPY_MODEL_24dd7c3c1a674891bb6240c0205067db",
            "value": " 456k/456k [00:00&lt;00:00, 7.25MB/s]"
          }
        },
        "a35681fb2fcd4d46802b8be4c3b6e80d": {
          "model_module": "@jupyter-widgets/base",
          "model_name": "LayoutModel",
          "model_module_version": "1.2.0",
          "state": {
            "_model_module": "@jupyter-widgets/base",
            "_model_module_version": "1.2.0",
            "_model_name": "LayoutModel",
            "_view_count": null,
            "_view_module": "@jupyter-widgets/base",
            "_view_module_version": "1.2.0",
            "_view_name": "LayoutView",
            "align_content": null,
            "align_items": null,
            "align_self": null,
            "border": null,
            "bottom": null,
            "display": null,
            "flex": null,
            "flex_flow": null,
            "grid_area": null,
            "grid_auto_columns": null,
            "grid_auto_flow": null,
            "grid_auto_rows": null,
            "grid_column": null,
            "grid_gap": null,
            "grid_row": null,
            "grid_template_areas": null,
            "grid_template_columns": null,
            "grid_template_rows": null,
            "height": null,
            "justify_content": null,
            "justify_items": null,
            "left": null,
            "margin": null,
            "max_height": null,
            "max_width": null,
            "min_height": null,
            "min_width": null,
            "object_fit": null,
            "object_position": null,
            "order": null,
            "overflow": null,
            "overflow_x": null,
            "overflow_y": null,
            "padding": null,
            "right": null,
            "top": null,
            "visibility": null,
            "width": null
          }
        },
        "112676901e5142d1bce57b2f312db025": {
          "model_module": "@jupyter-widgets/base",
          "model_name": "LayoutModel",
          "model_module_version": "1.2.0",
          "state": {
            "_model_module": "@jupyter-widgets/base",
            "_model_module_version": "1.2.0",
            "_model_name": "LayoutModel",
            "_view_count": null,
            "_view_module": "@jupyter-widgets/base",
            "_view_module_version": "1.2.0",
            "_view_name": "LayoutView",
            "align_content": null,
            "align_items": null,
            "align_self": null,
            "border": null,
            "bottom": null,
            "display": null,
            "flex": null,
            "flex_flow": null,
            "grid_area": null,
            "grid_auto_columns": null,
            "grid_auto_flow": null,
            "grid_auto_rows": null,
            "grid_column": null,
            "grid_gap": null,
            "grid_row": null,
            "grid_template_areas": null,
            "grid_template_columns": null,
            "grid_template_rows": null,
            "height": null,
            "justify_content": null,
            "justify_items": null,
            "left": null,
            "margin": null,
            "max_height": null,
            "max_width": null,
            "min_height": null,
            "min_width": null,
            "object_fit": null,
            "object_position": null,
            "order": null,
            "overflow": null,
            "overflow_x": null,
            "overflow_y": null,
            "padding": null,
            "right": null,
            "top": null,
            "visibility": null,
            "width": null
          }
        },
        "0a9df06e9d9a4d64abbd1a60bedb1f1f": {
          "model_module": "@jupyter-widgets/controls",
          "model_name": "DescriptionStyleModel",
          "model_module_version": "1.5.0",
          "state": {
            "_model_module": "@jupyter-widgets/controls",
            "_model_module_version": "1.5.0",
            "_model_name": "DescriptionStyleModel",
            "_view_count": null,
            "_view_module": "@jupyter-widgets/base",
            "_view_module_version": "1.2.0",
            "_view_name": "StyleView",
            "description_width": ""
          }
        },
        "32517ec2baa94e0e929480492a21697b": {
          "model_module": "@jupyter-widgets/base",
          "model_name": "LayoutModel",
          "model_module_version": "1.2.0",
          "state": {
            "_model_module": "@jupyter-widgets/base",
            "_model_module_version": "1.2.0",
            "_model_name": "LayoutModel",
            "_view_count": null,
            "_view_module": "@jupyter-widgets/base",
            "_view_module_version": "1.2.0",
            "_view_name": "LayoutView",
            "align_content": null,
            "align_items": null,
            "align_self": null,
            "border": null,
            "bottom": null,
            "display": null,
            "flex": null,
            "flex_flow": null,
            "grid_area": null,
            "grid_auto_columns": null,
            "grid_auto_flow": null,
            "grid_auto_rows": null,
            "grid_column": null,
            "grid_gap": null,
            "grid_row": null,
            "grid_template_areas": null,
            "grid_template_columns": null,
            "grid_template_rows": null,
            "height": null,
            "justify_content": null,
            "justify_items": null,
            "left": null,
            "margin": null,
            "max_height": null,
            "max_width": null,
            "min_height": null,
            "min_width": null,
            "object_fit": null,
            "object_position": null,
            "order": null,
            "overflow": null,
            "overflow_x": null,
            "overflow_y": null,
            "padding": null,
            "right": null,
            "top": null,
            "visibility": null,
            "width": null
          }
        },
        "dbff6952d1d84546acc8999b6933e68a": {
          "model_module": "@jupyter-widgets/controls",
          "model_name": "ProgressStyleModel",
          "model_module_version": "1.5.0",
          "state": {
            "_model_module": "@jupyter-widgets/controls",
            "_model_module_version": "1.5.0",
            "_model_name": "ProgressStyleModel",
            "_view_count": null,
            "_view_module": "@jupyter-widgets/base",
            "_view_module_version": "1.2.0",
            "_view_name": "StyleView",
            "bar_color": null,
            "description_width": ""
          }
        },
        "1bd4287aa4d94ad7a2317f56e82dd390": {
          "model_module": "@jupyter-widgets/base",
          "model_name": "LayoutModel",
          "model_module_version": "1.2.0",
          "state": {
            "_model_module": "@jupyter-widgets/base",
            "_model_module_version": "1.2.0",
            "_model_name": "LayoutModel",
            "_view_count": null,
            "_view_module": "@jupyter-widgets/base",
            "_view_module_version": "1.2.0",
            "_view_name": "LayoutView",
            "align_content": null,
            "align_items": null,
            "align_self": null,
            "border": null,
            "bottom": null,
            "display": null,
            "flex": null,
            "flex_flow": null,
            "grid_area": null,
            "grid_auto_columns": null,
            "grid_auto_flow": null,
            "grid_auto_rows": null,
            "grid_column": null,
            "grid_gap": null,
            "grid_row": null,
            "grid_template_areas": null,
            "grid_template_columns": null,
            "grid_template_rows": null,
            "height": null,
            "justify_content": null,
            "justify_items": null,
            "left": null,
            "margin": null,
            "max_height": null,
            "max_width": null,
            "min_height": null,
            "min_width": null,
            "object_fit": null,
            "object_position": null,
            "order": null,
            "overflow": null,
            "overflow_x": null,
            "overflow_y": null,
            "padding": null,
            "right": null,
            "top": null,
            "visibility": null,
            "width": null
          }
        },
        "24dd7c3c1a674891bb6240c0205067db": {
          "model_module": "@jupyter-widgets/controls",
          "model_name": "DescriptionStyleModel",
          "model_module_version": "1.5.0",
          "state": {
            "_model_module": "@jupyter-widgets/controls",
            "_model_module_version": "1.5.0",
            "_model_name": "DescriptionStyleModel",
            "_view_count": null,
            "_view_module": "@jupyter-widgets/base",
            "_view_module_version": "1.2.0",
            "_view_name": "StyleView",
            "description_width": ""
          }
        },
        "7b8911db30b8438485410f0e43c09c8c": {
          "model_module": "@jupyter-widgets/controls",
          "model_name": "HBoxModel",
          "model_module_version": "1.5.0",
          "state": {
            "_dom_classes": [],
            "_model_module": "@jupyter-widgets/controls",
            "_model_module_version": "1.5.0",
            "_model_name": "HBoxModel",
            "_view_count": null,
            "_view_module": "@jupyter-widgets/controls",
            "_view_module_version": "1.5.0",
            "_view_name": "HBoxView",
            "box_style": "",
            "children": [
              "IPY_MODEL_e481f55f5ffa420e97850d1a01ff0663",
              "IPY_MODEL_b3841d06a7f940fb93a27214e8224a15",
              "IPY_MODEL_6d3166b7707a45ffb5b9db3df2948b6d"
            ],
            "layout": "IPY_MODEL_886b207db5954241a9a167a86523e014"
          }
        },
        "e481f55f5ffa420e97850d1a01ff0663": {
          "model_module": "@jupyter-widgets/controls",
          "model_name": "HTMLModel",
          "model_module_version": "1.5.0",
          "state": {
            "_dom_classes": [],
            "_model_module": "@jupyter-widgets/controls",
            "_model_module_version": "1.5.0",
            "_model_name": "HTMLModel",
            "_view_count": null,
            "_view_module": "@jupyter-widgets/controls",
            "_view_module_version": "1.5.0",
            "_view_name": "HTMLView",
            "description": "",
            "description_tooltip": null,
            "layout": "IPY_MODEL_43a52ee7355142bc8a3398fe8e151a06",
            "placeholder": "​",
            "style": "IPY_MODEL_59560feab60c4c33bde504be0871355f",
            "value": "tokenizer.json: 100%"
          }
        },
        "b3841d06a7f940fb93a27214e8224a15": {
          "model_module": "@jupyter-widgets/controls",
          "model_name": "FloatProgressModel",
          "model_module_version": "1.5.0",
          "state": {
            "_dom_classes": [],
            "_model_module": "@jupyter-widgets/controls",
            "_model_module_version": "1.5.0",
            "_model_name": "FloatProgressModel",
            "_view_count": null,
            "_view_module": "@jupyter-widgets/controls",
            "_view_module_version": "1.5.0",
            "_view_name": "ProgressView",
            "bar_style": "success",
            "description": "",
            "description_tooltip": null,
            "layout": "IPY_MODEL_9b25713247a541878559fae3491c857c",
            "max": 1355256,
            "min": 0,
            "orientation": "horizontal",
            "style": "IPY_MODEL_4b898052193d4998a38b96108da15138",
            "value": 1355256
          }
        },
        "6d3166b7707a45ffb5b9db3df2948b6d": {
          "model_module": "@jupyter-widgets/controls",
          "model_name": "HTMLModel",
          "model_module_version": "1.5.0",
          "state": {
            "_dom_classes": [],
            "_model_module": "@jupyter-widgets/controls",
            "_model_module_version": "1.5.0",
            "_model_name": "HTMLModel",
            "_view_count": null,
            "_view_module": "@jupyter-widgets/controls",
            "_view_module_version": "1.5.0",
            "_view_name": "HTMLView",
            "description": "",
            "description_tooltip": null,
            "layout": "IPY_MODEL_8db4204c7ab84fc2b4b6a08dd0bbef3b",
            "placeholder": "​",
            "style": "IPY_MODEL_1cd5f4a306894a70bfaaffaa57336f8d",
            "value": " 1.36M/1.36M [00:00&lt;00:00, 18.9MB/s]"
          }
        },
        "886b207db5954241a9a167a86523e014": {
          "model_module": "@jupyter-widgets/base",
          "model_name": "LayoutModel",
          "model_module_version": "1.2.0",
          "state": {
            "_model_module": "@jupyter-widgets/base",
            "_model_module_version": "1.2.0",
            "_model_name": "LayoutModel",
            "_view_count": null,
            "_view_module": "@jupyter-widgets/base",
            "_view_module_version": "1.2.0",
            "_view_name": "LayoutView",
            "align_content": null,
            "align_items": null,
            "align_self": null,
            "border": null,
            "bottom": null,
            "display": null,
            "flex": null,
            "flex_flow": null,
            "grid_area": null,
            "grid_auto_columns": null,
            "grid_auto_flow": null,
            "grid_auto_rows": null,
            "grid_column": null,
            "grid_gap": null,
            "grid_row": null,
            "grid_template_areas": null,
            "grid_template_columns": null,
            "grid_template_rows": null,
            "height": null,
            "justify_content": null,
            "justify_items": null,
            "left": null,
            "margin": null,
            "max_height": null,
            "max_width": null,
            "min_height": null,
            "min_width": null,
            "object_fit": null,
            "object_position": null,
            "order": null,
            "overflow": null,
            "overflow_x": null,
            "overflow_y": null,
            "padding": null,
            "right": null,
            "top": null,
            "visibility": null,
            "width": null
          }
        },
        "43a52ee7355142bc8a3398fe8e151a06": {
          "model_module": "@jupyter-widgets/base",
          "model_name": "LayoutModel",
          "model_module_version": "1.2.0",
          "state": {
            "_model_module": "@jupyter-widgets/base",
            "_model_module_version": "1.2.0",
            "_model_name": "LayoutModel",
            "_view_count": null,
            "_view_module": "@jupyter-widgets/base",
            "_view_module_version": "1.2.0",
            "_view_name": "LayoutView",
            "align_content": null,
            "align_items": null,
            "align_self": null,
            "border": null,
            "bottom": null,
            "display": null,
            "flex": null,
            "flex_flow": null,
            "grid_area": null,
            "grid_auto_columns": null,
            "grid_auto_flow": null,
            "grid_auto_rows": null,
            "grid_column": null,
            "grid_gap": null,
            "grid_row": null,
            "grid_template_areas": null,
            "grid_template_columns": null,
            "grid_template_rows": null,
            "height": null,
            "justify_content": null,
            "justify_items": null,
            "left": null,
            "margin": null,
            "max_height": null,
            "max_width": null,
            "min_height": null,
            "min_width": null,
            "object_fit": null,
            "object_position": null,
            "order": null,
            "overflow": null,
            "overflow_x": null,
            "overflow_y": null,
            "padding": null,
            "right": null,
            "top": null,
            "visibility": null,
            "width": null
          }
        },
        "59560feab60c4c33bde504be0871355f": {
          "model_module": "@jupyter-widgets/controls",
          "model_name": "DescriptionStyleModel",
          "model_module_version": "1.5.0",
          "state": {
            "_model_module": "@jupyter-widgets/controls",
            "_model_module_version": "1.5.0",
            "_model_name": "DescriptionStyleModel",
            "_view_count": null,
            "_view_module": "@jupyter-widgets/base",
            "_view_module_version": "1.2.0",
            "_view_name": "StyleView",
            "description_width": ""
          }
        },
        "9b25713247a541878559fae3491c857c": {
          "model_module": "@jupyter-widgets/base",
          "model_name": "LayoutModel",
          "model_module_version": "1.2.0",
          "state": {
            "_model_module": "@jupyter-widgets/base",
            "_model_module_version": "1.2.0",
            "_model_name": "LayoutModel",
            "_view_count": null,
            "_view_module": "@jupyter-widgets/base",
            "_view_module_version": "1.2.0",
            "_view_name": "LayoutView",
            "align_content": null,
            "align_items": null,
            "align_self": null,
            "border": null,
            "bottom": null,
            "display": null,
            "flex": null,
            "flex_flow": null,
            "grid_area": null,
            "grid_auto_columns": null,
            "grid_auto_flow": null,
            "grid_auto_rows": null,
            "grid_column": null,
            "grid_gap": null,
            "grid_row": null,
            "grid_template_areas": null,
            "grid_template_columns": null,
            "grid_template_rows": null,
            "height": null,
            "justify_content": null,
            "justify_items": null,
            "left": null,
            "margin": null,
            "max_height": null,
            "max_width": null,
            "min_height": null,
            "min_width": null,
            "object_fit": null,
            "object_position": null,
            "order": null,
            "overflow": null,
            "overflow_x": null,
            "overflow_y": null,
            "padding": null,
            "right": null,
            "top": null,
            "visibility": null,
            "width": null
          }
        },
        "4b898052193d4998a38b96108da15138": {
          "model_module": "@jupyter-widgets/controls",
          "model_name": "ProgressStyleModel",
          "model_module_version": "1.5.0",
          "state": {
            "_model_module": "@jupyter-widgets/controls",
            "_model_module_version": "1.5.0",
            "_model_name": "ProgressStyleModel",
            "_view_count": null,
            "_view_module": "@jupyter-widgets/base",
            "_view_module_version": "1.2.0",
            "_view_name": "StyleView",
            "bar_color": null,
            "description_width": ""
          }
        },
        "8db4204c7ab84fc2b4b6a08dd0bbef3b": {
          "model_module": "@jupyter-widgets/base",
          "model_name": "LayoutModel",
          "model_module_version": "1.2.0",
          "state": {
            "_model_module": "@jupyter-widgets/base",
            "_model_module_version": "1.2.0",
            "_model_name": "LayoutModel",
            "_view_count": null,
            "_view_module": "@jupyter-widgets/base",
            "_view_module_version": "1.2.0",
            "_view_name": "LayoutView",
            "align_content": null,
            "align_items": null,
            "align_self": null,
            "border": null,
            "bottom": null,
            "display": null,
            "flex": null,
            "flex_flow": null,
            "grid_area": null,
            "grid_auto_columns": null,
            "grid_auto_flow": null,
            "grid_auto_rows": null,
            "grid_column": null,
            "grid_gap": null,
            "grid_row": null,
            "grid_template_areas": null,
            "grid_template_columns": null,
            "grid_template_rows": null,
            "height": null,
            "justify_content": null,
            "justify_items": null,
            "left": null,
            "margin": null,
            "max_height": null,
            "max_width": null,
            "min_height": null,
            "min_width": null,
            "object_fit": null,
            "object_position": null,
            "order": null,
            "overflow": null,
            "overflow_x": null,
            "overflow_y": null,
            "padding": null,
            "right": null,
            "top": null,
            "visibility": null,
            "width": null
          }
        },
        "1cd5f4a306894a70bfaaffaa57336f8d": {
          "model_module": "@jupyter-widgets/controls",
          "model_name": "DescriptionStyleModel",
          "model_module_version": "1.5.0",
          "state": {
            "_model_module": "@jupyter-widgets/controls",
            "_model_module_version": "1.5.0",
            "_model_name": "DescriptionStyleModel",
            "_view_count": null,
            "_view_module": "@jupyter-widgets/base",
            "_view_module_version": "1.2.0",
            "_view_name": "StyleView",
            "description_width": ""
          }
        },
        "1163d5ebb7cc48ae94d0b13e73d896e9": {
          "model_module": "@jupyter-widgets/controls",
          "model_name": "HBoxModel",
          "model_module_version": "1.5.0",
          "state": {
            "_dom_classes": [],
            "_model_module": "@jupyter-widgets/controls",
            "_model_module_version": "1.5.0",
            "_model_name": "HBoxModel",
            "_view_count": null,
            "_view_module": "@jupyter-widgets/controls",
            "_view_module_version": "1.5.0",
            "_view_name": "HBoxView",
            "box_style": "",
            "children": [
              "IPY_MODEL_ca681504ea2649e2b1dd2fb4b39b61f7",
              "IPY_MODEL_3786f562c1e44964968f94e40d003504",
              "IPY_MODEL_29945c64626d4f0f989b68c86bee02a4"
            ],
            "layout": "IPY_MODEL_46e71a8c10d5413badace4196a5c2234"
          }
        },
        "ca681504ea2649e2b1dd2fb4b39b61f7": {
          "model_module": "@jupyter-widgets/controls",
          "model_name": "HTMLModel",
          "model_module_version": "1.5.0",
          "state": {
            "_dom_classes": [],
            "_model_module": "@jupyter-widgets/controls",
            "_model_module_version": "1.5.0",
            "_model_name": "HTMLModel",
            "_view_count": null,
            "_view_module": "@jupyter-widgets/controls",
            "_view_module_version": "1.5.0",
            "_view_name": "HTMLView",
            "description": "",
            "description_tooltip": null,
            "layout": "IPY_MODEL_befa2327e46f4403ba227dbfd6dce688",
            "placeholder": "​",
            "style": "IPY_MODEL_c2615745476b4f378035e7e2715a1f73",
            "value": "config.json: 100%"
          }
        },
        "3786f562c1e44964968f94e40d003504": {
          "model_module": "@jupyter-widgets/controls",
          "model_name": "FloatProgressModel",
          "model_module_version": "1.5.0",
          "state": {
            "_dom_classes": [],
            "_model_module": "@jupyter-widgets/controls",
            "_model_module_version": "1.5.0",
            "_model_name": "FloatProgressModel",
            "_view_count": null,
            "_view_module": "@jupyter-widgets/controls",
            "_view_module_version": "1.5.0",
            "_view_name": "ProgressView",
            "bar_style": "success",
            "description": "",
            "description_tooltip": null,
            "layout": "IPY_MODEL_2d6ead3cca154ca5aa8235abb3865092",
            "max": 665,
            "min": 0,
            "orientation": "horizontal",
            "style": "IPY_MODEL_97ea7aeb71884f7b9964e290823a941a",
            "value": 665
          }
        },
        "29945c64626d4f0f989b68c86bee02a4": {
          "model_module": "@jupyter-widgets/controls",
          "model_name": "HTMLModel",
          "model_module_version": "1.5.0",
          "state": {
            "_dom_classes": [],
            "_model_module": "@jupyter-widgets/controls",
            "_model_module_version": "1.5.0",
            "_model_name": "HTMLModel",
            "_view_count": null,
            "_view_module": "@jupyter-widgets/controls",
            "_view_module_version": "1.5.0",
            "_view_name": "HTMLView",
            "description": "",
            "description_tooltip": null,
            "layout": "IPY_MODEL_65dabd09ad31473dbaffec9d1c7736f5",
            "placeholder": "​",
            "style": "IPY_MODEL_b2472226e52d46518ae8ff1fc77c40c7",
            "value": " 665/665 [00:00&lt;00:00, 34.2kB/s]"
          }
        },
        "46e71a8c10d5413badace4196a5c2234": {
          "model_module": "@jupyter-widgets/base",
          "model_name": "LayoutModel",
          "model_module_version": "1.2.0",
          "state": {
            "_model_module": "@jupyter-widgets/base",
            "_model_module_version": "1.2.0",
            "_model_name": "LayoutModel",
            "_view_count": null,
            "_view_module": "@jupyter-widgets/base",
            "_view_module_version": "1.2.0",
            "_view_name": "LayoutView",
            "align_content": null,
            "align_items": null,
            "align_self": null,
            "border": null,
            "bottom": null,
            "display": null,
            "flex": null,
            "flex_flow": null,
            "grid_area": null,
            "grid_auto_columns": null,
            "grid_auto_flow": null,
            "grid_auto_rows": null,
            "grid_column": null,
            "grid_gap": null,
            "grid_row": null,
            "grid_template_areas": null,
            "grid_template_columns": null,
            "grid_template_rows": null,
            "height": null,
            "justify_content": null,
            "justify_items": null,
            "left": null,
            "margin": null,
            "max_height": null,
            "max_width": null,
            "min_height": null,
            "min_width": null,
            "object_fit": null,
            "object_position": null,
            "order": null,
            "overflow": null,
            "overflow_x": null,
            "overflow_y": null,
            "padding": null,
            "right": null,
            "top": null,
            "visibility": null,
            "width": null
          }
        },
        "befa2327e46f4403ba227dbfd6dce688": {
          "model_module": "@jupyter-widgets/base",
          "model_name": "LayoutModel",
          "model_module_version": "1.2.0",
          "state": {
            "_model_module": "@jupyter-widgets/base",
            "_model_module_version": "1.2.0",
            "_model_name": "LayoutModel",
            "_view_count": null,
            "_view_module": "@jupyter-widgets/base",
            "_view_module_version": "1.2.0",
            "_view_name": "LayoutView",
            "align_content": null,
            "align_items": null,
            "align_self": null,
            "border": null,
            "bottom": null,
            "display": null,
            "flex": null,
            "flex_flow": null,
            "grid_area": null,
            "grid_auto_columns": null,
            "grid_auto_flow": null,
            "grid_auto_rows": null,
            "grid_column": null,
            "grid_gap": null,
            "grid_row": null,
            "grid_template_areas": null,
            "grid_template_columns": null,
            "grid_template_rows": null,
            "height": null,
            "justify_content": null,
            "justify_items": null,
            "left": null,
            "margin": null,
            "max_height": null,
            "max_width": null,
            "min_height": null,
            "min_width": null,
            "object_fit": null,
            "object_position": null,
            "order": null,
            "overflow": null,
            "overflow_x": null,
            "overflow_y": null,
            "padding": null,
            "right": null,
            "top": null,
            "visibility": null,
            "width": null
          }
        },
        "c2615745476b4f378035e7e2715a1f73": {
          "model_module": "@jupyter-widgets/controls",
          "model_name": "DescriptionStyleModel",
          "model_module_version": "1.5.0",
          "state": {
            "_model_module": "@jupyter-widgets/controls",
            "_model_module_version": "1.5.0",
            "_model_name": "DescriptionStyleModel",
            "_view_count": null,
            "_view_module": "@jupyter-widgets/base",
            "_view_module_version": "1.2.0",
            "_view_name": "StyleView",
            "description_width": ""
          }
        },
        "2d6ead3cca154ca5aa8235abb3865092": {
          "model_module": "@jupyter-widgets/base",
          "model_name": "LayoutModel",
          "model_module_version": "1.2.0",
          "state": {
            "_model_module": "@jupyter-widgets/base",
            "_model_module_version": "1.2.0",
            "_model_name": "LayoutModel",
            "_view_count": null,
            "_view_module": "@jupyter-widgets/base",
            "_view_module_version": "1.2.0",
            "_view_name": "LayoutView",
            "align_content": null,
            "align_items": null,
            "align_self": null,
            "border": null,
            "bottom": null,
            "display": null,
            "flex": null,
            "flex_flow": null,
            "grid_area": null,
            "grid_auto_columns": null,
            "grid_auto_flow": null,
            "grid_auto_rows": null,
            "grid_column": null,
            "grid_gap": null,
            "grid_row": null,
            "grid_template_areas": null,
            "grid_template_columns": null,
            "grid_template_rows": null,
            "height": null,
            "justify_content": null,
            "justify_items": null,
            "left": null,
            "margin": null,
            "max_height": null,
            "max_width": null,
            "min_height": null,
            "min_width": null,
            "object_fit": null,
            "object_position": null,
            "order": null,
            "overflow": null,
            "overflow_x": null,
            "overflow_y": null,
            "padding": null,
            "right": null,
            "top": null,
            "visibility": null,
            "width": null
          }
        },
        "97ea7aeb71884f7b9964e290823a941a": {
          "model_module": "@jupyter-widgets/controls",
          "model_name": "ProgressStyleModel",
          "model_module_version": "1.5.0",
          "state": {
            "_model_module": "@jupyter-widgets/controls",
            "_model_module_version": "1.5.0",
            "_model_name": "ProgressStyleModel",
            "_view_count": null,
            "_view_module": "@jupyter-widgets/base",
            "_view_module_version": "1.2.0",
            "_view_name": "StyleView",
            "bar_color": null,
            "description_width": ""
          }
        },
        "65dabd09ad31473dbaffec9d1c7736f5": {
          "model_module": "@jupyter-widgets/base",
          "model_name": "LayoutModel",
          "model_module_version": "1.2.0",
          "state": {
            "_model_module": "@jupyter-widgets/base",
            "_model_module_version": "1.2.0",
            "_model_name": "LayoutModel",
            "_view_count": null,
            "_view_module": "@jupyter-widgets/base",
            "_view_module_version": "1.2.0",
            "_view_name": "LayoutView",
            "align_content": null,
            "align_items": null,
            "align_self": null,
            "border": null,
            "bottom": null,
            "display": null,
            "flex": null,
            "flex_flow": null,
            "grid_area": null,
            "grid_auto_columns": null,
            "grid_auto_flow": null,
            "grid_auto_rows": null,
            "grid_column": null,
            "grid_gap": null,
            "grid_row": null,
            "grid_template_areas": null,
            "grid_template_columns": null,
            "grid_template_rows": null,
            "height": null,
            "justify_content": null,
            "justify_items": null,
            "left": null,
            "margin": null,
            "max_height": null,
            "max_width": null,
            "min_height": null,
            "min_width": null,
            "object_fit": null,
            "object_position": null,
            "order": null,
            "overflow": null,
            "overflow_x": null,
            "overflow_y": null,
            "padding": null,
            "right": null,
            "top": null,
            "visibility": null,
            "width": null
          }
        },
        "b2472226e52d46518ae8ff1fc77c40c7": {
          "model_module": "@jupyter-widgets/controls",
          "model_name": "DescriptionStyleModel",
          "model_module_version": "1.5.0",
          "state": {
            "_model_module": "@jupyter-widgets/controls",
            "_model_module_version": "1.5.0",
            "_model_name": "DescriptionStyleModel",
            "_view_count": null,
            "_view_module": "@jupyter-widgets/base",
            "_view_module_version": "1.2.0",
            "_view_name": "StyleView",
            "description_width": ""
          }
        },
        "f18ed93e3ff047fb8a6dbee495dbe1c8": {
          "model_module": "@jupyter-widgets/controls",
          "model_name": "HBoxModel",
          "model_module_version": "1.5.0",
          "state": {
            "_dom_classes": [],
            "_model_module": "@jupyter-widgets/controls",
            "_model_module_version": "1.5.0",
            "_model_name": "HBoxModel",
            "_view_count": null,
            "_view_module": "@jupyter-widgets/controls",
            "_view_module_version": "1.5.0",
            "_view_name": "HBoxView",
            "box_style": "",
            "children": [
              "IPY_MODEL_fbd9192d3447403e99f103db0f6924e6",
              "IPY_MODEL_e8a51a5d57784479a6ee08a47de73008",
              "IPY_MODEL_1f88a57095294036829d7ade674163b7"
            ],
            "layout": "IPY_MODEL_83d6f5c78f514109959fb1bc37d3e6b5"
          }
        },
        "fbd9192d3447403e99f103db0f6924e6": {
          "model_module": "@jupyter-widgets/controls",
          "model_name": "HTMLModel",
          "model_module_version": "1.5.0",
          "state": {
            "_dom_classes": [],
            "_model_module": "@jupyter-widgets/controls",
            "_model_module_version": "1.5.0",
            "_model_name": "HTMLModel",
            "_view_count": null,
            "_view_module": "@jupyter-widgets/controls",
            "_view_module_version": "1.5.0",
            "_view_name": "HTMLView",
            "description": "",
            "description_tooltip": null,
            "layout": "IPY_MODEL_15ecc0ac15ea408b811920cec96bce55",
            "placeholder": "​",
            "style": "IPY_MODEL_ddb27dc1216b4ca092436feafb0b3ec0",
            "value": "model.safetensors: 100%"
          }
        },
        "e8a51a5d57784479a6ee08a47de73008": {
          "model_module": "@jupyter-widgets/controls",
          "model_name": "FloatProgressModel",
          "model_module_version": "1.5.0",
          "state": {
            "_dom_classes": [],
            "_model_module": "@jupyter-widgets/controls",
            "_model_module_version": "1.5.0",
            "_model_name": "FloatProgressModel",
            "_view_count": null,
            "_view_module": "@jupyter-widgets/controls",
            "_view_module_version": "1.5.0",
            "_view_name": "ProgressView",
            "bar_style": "success",
            "description": "",
            "description_tooltip": null,
            "layout": "IPY_MODEL_30ad087687544b6ead9a578a4e9fcf16",
            "max": 548105171,
            "min": 0,
            "orientation": "horizontal",
            "style": "IPY_MODEL_876a1747fc0f4a7194195c1a78c9adf2",
            "value": 548105171
          }
        },
        "1f88a57095294036829d7ade674163b7": {
          "model_module": "@jupyter-widgets/controls",
          "model_name": "HTMLModel",
          "model_module_version": "1.5.0",
          "state": {
            "_dom_classes": [],
            "_model_module": "@jupyter-widgets/controls",
            "_model_module_version": "1.5.0",
            "_model_name": "HTMLModel",
            "_view_count": null,
            "_view_module": "@jupyter-widgets/controls",
            "_view_module_version": "1.5.0",
            "_view_name": "HTMLView",
            "description": "",
            "description_tooltip": null,
            "layout": "IPY_MODEL_e53d094a4a8a44b0bda60ee7b1c0cf68",
            "placeholder": "​",
            "style": "IPY_MODEL_8ad49236173341279f345e72f7ae8ff7",
            "value": " 548M/548M [00:05&lt;00:00, 69.7MB/s]"
          }
        },
        "83d6f5c78f514109959fb1bc37d3e6b5": {
          "model_module": "@jupyter-widgets/base",
          "model_name": "LayoutModel",
          "model_module_version": "1.2.0",
          "state": {
            "_model_module": "@jupyter-widgets/base",
            "_model_module_version": "1.2.0",
            "_model_name": "LayoutModel",
            "_view_count": null,
            "_view_module": "@jupyter-widgets/base",
            "_view_module_version": "1.2.0",
            "_view_name": "LayoutView",
            "align_content": null,
            "align_items": null,
            "align_self": null,
            "border": null,
            "bottom": null,
            "display": null,
            "flex": null,
            "flex_flow": null,
            "grid_area": null,
            "grid_auto_columns": null,
            "grid_auto_flow": null,
            "grid_auto_rows": null,
            "grid_column": null,
            "grid_gap": null,
            "grid_row": null,
            "grid_template_areas": null,
            "grid_template_columns": null,
            "grid_template_rows": null,
            "height": null,
            "justify_content": null,
            "justify_items": null,
            "left": null,
            "margin": null,
            "max_height": null,
            "max_width": null,
            "min_height": null,
            "min_width": null,
            "object_fit": null,
            "object_position": null,
            "order": null,
            "overflow": null,
            "overflow_x": null,
            "overflow_y": null,
            "padding": null,
            "right": null,
            "top": null,
            "visibility": null,
            "width": null
          }
        },
        "15ecc0ac15ea408b811920cec96bce55": {
          "model_module": "@jupyter-widgets/base",
          "model_name": "LayoutModel",
          "model_module_version": "1.2.0",
          "state": {
            "_model_module": "@jupyter-widgets/base",
            "_model_module_version": "1.2.0",
            "_model_name": "LayoutModel",
            "_view_count": null,
            "_view_module": "@jupyter-widgets/base",
            "_view_module_version": "1.2.0",
            "_view_name": "LayoutView",
            "align_content": null,
            "align_items": null,
            "align_self": null,
            "border": null,
            "bottom": null,
            "display": null,
            "flex": null,
            "flex_flow": null,
            "grid_area": null,
            "grid_auto_columns": null,
            "grid_auto_flow": null,
            "grid_auto_rows": null,
            "grid_column": null,
            "grid_gap": null,
            "grid_row": null,
            "grid_template_areas": null,
            "grid_template_columns": null,
            "grid_template_rows": null,
            "height": null,
            "justify_content": null,
            "justify_items": null,
            "left": null,
            "margin": null,
            "max_height": null,
            "max_width": null,
            "min_height": null,
            "min_width": null,
            "object_fit": null,
            "object_position": null,
            "order": null,
            "overflow": null,
            "overflow_x": null,
            "overflow_y": null,
            "padding": null,
            "right": null,
            "top": null,
            "visibility": null,
            "width": null
          }
        },
        "ddb27dc1216b4ca092436feafb0b3ec0": {
          "model_module": "@jupyter-widgets/controls",
          "model_name": "DescriptionStyleModel",
          "model_module_version": "1.5.0",
          "state": {
            "_model_module": "@jupyter-widgets/controls",
            "_model_module_version": "1.5.0",
            "_model_name": "DescriptionStyleModel",
            "_view_count": null,
            "_view_module": "@jupyter-widgets/base",
            "_view_module_version": "1.2.0",
            "_view_name": "StyleView",
            "description_width": ""
          }
        },
        "30ad087687544b6ead9a578a4e9fcf16": {
          "model_module": "@jupyter-widgets/base",
          "model_name": "LayoutModel",
          "model_module_version": "1.2.0",
          "state": {
            "_model_module": "@jupyter-widgets/base",
            "_model_module_version": "1.2.0",
            "_model_name": "LayoutModel",
            "_view_count": null,
            "_view_module": "@jupyter-widgets/base",
            "_view_module_version": "1.2.0",
            "_view_name": "LayoutView",
            "align_content": null,
            "align_items": null,
            "align_self": null,
            "border": null,
            "bottom": null,
            "display": null,
            "flex": null,
            "flex_flow": null,
            "grid_area": null,
            "grid_auto_columns": null,
            "grid_auto_flow": null,
            "grid_auto_rows": null,
            "grid_column": null,
            "grid_gap": null,
            "grid_row": null,
            "grid_template_areas": null,
            "grid_template_columns": null,
            "grid_template_rows": null,
            "height": null,
            "justify_content": null,
            "justify_items": null,
            "left": null,
            "margin": null,
            "max_height": null,
            "max_width": null,
            "min_height": null,
            "min_width": null,
            "object_fit": null,
            "object_position": null,
            "order": null,
            "overflow": null,
            "overflow_x": null,
            "overflow_y": null,
            "padding": null,
            "right": null,
            "top": null,
            "visibility": null,
            "width": null
          }
        },
        "876a1747fc0f4a7194195c1a78c9adf2": {
          "model_module": "@jupyter-widgets/controls",
          "model_name": "ProgressStyleModel",
          "model_module_version": "1.5.0",
          "state": {
            "_model_module": "@jupyter-widgets/controls",
            "_model_module_version": "1.5.0",
            "_model_name": "ProgressStyleModel",
            "_view_count": null,
            "_view_module": "@jupyter-widgets/base",
            "_view_module_version": "1.2.0",
            "_view_name": "StyleView",
            "bar_color": null,
            "description_width": ""
          }
        },
        "e53d094a4a8a44b0bda60ee7b1c0cf68": {
          "model_module": "@jupyter-widgets/base",
          "model_name": "LayoutModel",
          "model_module_version": "1.2.0",
          "state": {
            "_model_module": "@jupyter-widgets/base",
            "_model_module_version": "1.2.0",
            "_model_name": "LayoutModel",
            "_view_count": null,
            "_view_module": "@jupyter-widgets/base",
            "_view_module_version": "1.2.0",
            "_view_name": "LayoutView",
            "align_content": null,
            "align_items": null,
            "align_self": null,
            "border": null,
            "bottom": null,
            "display": null,
            "flex": null,
            "flex_flow": null,
            "grid_area": null,
            "grid_auto_columns": null,
            "grid_auto_flow": null,
            "grid_auto_rows": null,
            "grid_column": null,
            "grid_gap": null,
            "grid_row": null,
            "grid_template_areas": null,
            "grid_template_columns": null,
            "grid_template_rows": null,
            "height": null,
            "justify_content": null,
            "justify_items": null,
            "left": null,
            "margin": null,
            "max_height": null,
            "max_width": null,
            "min_height": null,
            "min_width": null,
            "object_fit": null,
            "object_position": null,
            "order": null,
            "overflow": null,
            "overflow_x": null,
            "overflow_y": null,
            "padding": null,
            "right": null,
            "top": null,
            "visibility": null,
            "width": null
          }
        },
        "8ad49236173341279f345e72f7ae8ff7": {
          "model_module": "@jupyter-widgets/controls",
          "model_name": "DescriptionStyleModel",
          "model_module_version": "1.5.0",
          "state": {
            "_model_module": "@jupyter-widgets/controls",
            "_model_module_version": "1.5.0",
            "_model_name": "DescriptionStyleModel",
            "_view_count": null,
            "_view_module": "@jupyter-widgets/base",
            "_view_module_version": "1.2.0",
            "_view_name": "StyleView",
            "description_width": ""
          }
        },
        "ed0f63e7450348f28b5ee0971521bd22": {
          "model_module": "@jupyter-widgets/controls",
          "model_name": "HBoxModel",
          "model_module_version": "1.5.0",
          "state": {
            "_dom_classes": [],
            "_model_module": "@jupyter-widgets/controls",
            "_model_module_version": "1.5.0",
            "_model_name": "HBoxModel",
            "_view_count": null,
            "_view_module": "@jupyter-widgets/controls",
            "_view_module_version": "1.5.0",
            "_view_name": "HBoxView",
            "box_style": "",
            "children": [
              "IPY_MODEL_667f621403ef4cd48f214ae238772d8c",
              "IPY_MODEL_dbd380abfd714d11b75700931d9dcb90",
              "IPY_MODEL_95ce3a6ebb8744b0b1b3ad7917c57123"
            ],
            "layout": "IPY_MODEL_385588eb14244daabac34e7a78ab34cf"
          }
        },
        "667f621403ef4cd48f214ae238772d8c": {
          "model_module": "@jupyter-widgets/controls",
          "model_name": "HTMLModel",
          "model_module_version": "1.5.0",
          "state": {
            "_dom_classes": [],
            "_model_module": "@jupyter-widgets/controls",
            "_model_module_version": "1.5.0",
            "_model_name": "HTMLModel",
            "_view_count": null,
            "_view_module": "@jupyter-widgets/controls",
            "_view_module_version": "1.5.0",
            "_view_name": "HTMLView",
            "description": "",
            "description_tooltip": null,
            "layout": "IPY_MODEL_577346a84b6c4555870aa82f28be2f48",
            "placeholder": "​",
            "style": "IPY_MODEL_8a039b2a3ef94a758d8e9161f380af53",
            "value": "generation_config.json: 100%"
          }
        },
        "dbd380abfd714d11b75700931d9dcb90": {
          "model_module": "@jupyter-widgets/controls",
          "model_name": "FloatProgressModel",
          "model_module_version": "1.5.0",
          "state": {
            "_dom_classes": [],
            "_model_module": "@jupyter-widgets/controls",
            "_model_module_version": "1.5.0",
            "_model_name": "FloatProgressModel",
            "_view_count": null,
            "_view_module": "@jupyter-widgets/controls",
            "_view_module_version": "1.5.0",
            "_view_name": "ProgressView",
            "bar_style": "success",
            "description": "",
            "description_tooltip": null,
            "layout": "IPY_MODEL_aee2a9fae9fd4947a794db92b7db4c29",
            "max": 124,
            "min": 0,
            "orientation": "horizontal",
            "style": "IPY_MODEL_5745e3dea02442d28944ec4eae7e764f",
            "value": 124
          }
        },
        "95ce3a6ebb8744b0b1b3ad7917c57123": {
          "model_module": "@jupyter-widgets/controls",
          "model_name": "HTMLModel",
          "model_module_version": "1.5.0",
          "state": {
            "_dom_classes": [],
            "_model_module": "@jupyter-widgets/controls",
            "_model_module_version": "1.5.0",
            "_model_name": "HTMLModel",
            "_view_count": null,
            "_view_module": "@jupyter-widgets/controls",
            "_view_module_version": "1.5.0",
            "_view_name": "HTMLView",
            "description": "",
            "description_tooltip": null,
            "layout": "IPY_MODEL_840d00d3a18c42be875a47fbe86673c3",
            "placeholder": "​",
            "style": "IPY_MODEL_565c4ca08fa7438fa0dbcc641da45a5c",
            "value": " 124/124 [00:00&lt;00:00, 8.22kB/s]"
          }
        },
        "385588eb14244daabac34e7a78ab34cf": {
          "model_module": "@jupyter-widgets/base",
          "model_name": "LayoutModel",
          "model_module_version": "1.2.0",
          "state": {
            "_model_module": "@jupyter-widgets/base",
            "_model_module_version": "1.2.0",
            "_model_name": "LayoutModel",
            "_view_count": null,
            "_view_module": "@jupyter-widgets/base",
            "_view_module_version": "1.2.0",
            "_view_name": "LayoutView",
            "align_content": null,
            "align_items": null,
            "align_self": null,
            "border": null,
            "bottom": null,
            "display": null,
            "flex": null,
            "flex_flow": null,
            "grid_area": null,
            "grid_auto_columns": null,
            "grid_auto_flow": null,
            "grid_auto_rows": null,
            "grid_column": null,
            "grid_gap": null,
            "grid_row": null,
            "grid_template_areas": null,
            "grid_template_columns": null,
            "grid_template_rows": null,
            "height": null,
            "justify_content": null,
            "justify_items": null,
            "left": null,
            "margin": null,
            "max_height": null,
            "max_width": null,
            "min_height": null,
            "min_width": null,
            "object_fit": null,
            "object_position": null,
            "order": null,
            "overflow": null,
            "overflow_x": null,
            "overflow_y": null,
            "padding": null,
            "right": null,
            "top": null,
            "visibility": null,
            "width": null
          }
        },
        "577346a84b6c4555870aa82f28be2f48": {
          "model_module": "@jupyter-widgets/base",
          "model_name": "LayoutModel",
          "model_module_version": "1.2.0",
          "state": {
            "_model_module": "@jupyter-widgets/base",
            "_model_module_version": "1.2.0",
            "_model_name": "LayoutModel",
            "_view_count": null,
            "_view_module": "@jupyter-widgets/base",
            "_view_module_version": "1.2.0",
            "_view_name": "LayoutView",
            "align_content": null,
            "align_items": null,
            "align_self": null,
            "border": null,
            "bottom": null,
            "display": null,
            "flex": null,
            "flex_flow": null,
            "grid_area": null,
            "grid_auto_columns": null,
            "grid_auto_flow": null,
            "grid_auto_rows": null,
            "grid_column": null,
            "grid_gap": null,
            "grid_row": null,
            "grid_template_areas": null,
            "grid_template_columns": null,
            "grid_template_rows": null,
            "height": null,
            "justify_content": null,
            "justify_items": null,
            "left": null,
            "margin": null,
            "max_height": null,
            "max_width": null,
            "min_height": null,
            "min_width": null,
            "object_fit": null,
            "object_position": null,
            "order": null,
            "overflow": null,
            "overflow_x": null,
            "overflow_y": null,
            "padding": null,
            "right": null,
            "top": null,
            "visibility": null,
            "width": null
          }
        },
        "8a039b2a3ef94a758d8e9161f380af53": {
          "model_module": "@jupyter-widgets/controls",
          "model_name": "DescriptionStyleModel",
          "model_module_version": "1.5.0",
          "state": {
            "_model_module": "@jupyter-widgets/controls",
            "_model_module_version": "1.5.0",
            "_model_name": "DescriptionStyleModel",
            "_view_count": null,
            "_view_module": "@jupyter-widgets/base",
            "_view_module_version": "1.2.0",
            "_view_name": "StyleView",
            "description_width": ""
          }
        },
        "aee2a9fae9fd4947a794db92b7db4c29": {
          "model_module": "@jupyter-widgets/base",
          "model_name": "LayoutModel",
          "model_module_version": "1.2.0",
          "state": {
            "_model_module": "@jupyter-widgets/base",
            "_model_module_version": "1.2.0",
            "_model_name": "LayoutModel",
            "_view_count": null,
            "_view_module": "@jupyter-widgets/base",
            "_view_module_version": "1.2.0",
            "_view_name": "LayoutView",
            "align_content": null,
            "align_items": null,
            "align_self": null,
            "border": null,
            "bottom": null,
            "display": null,
            "flex": null,
            "flex_flow": null,
            "grid_area": null,
            "grid_auto_columns": null,
            "grid_auto_flow": null,
            "grid_auto_rows": null,
            "grid_column": null,
            "grid_gap": null,
            "grid_row": null,
            "grid_template_areas": null,
            "grid_template_columns": null,
            "grid_template_rows": null,
            "height": null,
            "justify_content": null,
            "justify_items": null,
            "left": null,
            "margin": null,
            "max_height": null,
            "max_width": null,
            "min_height": null,
            "min_width": null,
            "object_fit": null,
            "object_position": null,
            "order": null,
            "overflow": null,
            "overflow_x": null,
            "overflow_y": null,
            "padding": null,
            "right": null,
            "top": null,
            "visibility": null,
            "width": null
          }
        },
        "5745e3dea02442d28944ec4eae7e764f": {
          "model_module": "@jupyter-widgets/controls",
          "model_name": "ProgressStyleModel",
          "model_module_version": "1.5.0",
          "state": {
            "_model_module": "@jupyter-widgets/controls",
            "_model_module_version": "1.5.0",
            "_model_name": "ProgressStyleModel",
            "_view_count": null,
            "_view_module": "@jupyter-widgets/base",
            "_view_module_version": "1.2.0",
            "_view_name": "StyleView",
            "bar_color": null,
            "description_width": ""
          }
        },
        "840d00d3a18c42be875a47fbe86673c3": {
          "model_module": "@jupyter-widgets/base",
          "model_name": "LayoutModel",
          "model_module_version": "1.2.0",
          "state": {
            "_model_module": "@jupyter-widgets/base",
            "_model_module_version": "1.2.0",
            "_model_name": "LayoutModel",
            "_view_count": null,
            "_view_module": "@jupyter-widgets/base",
            "_view_module_version": "1.2.0",
            "_view_name": "LayoutView",
            "align_content": null,
            "align_items": null,
            "align_self": null,
            "border": null,
            "bottom": null,
            "display": null,
            "flex": null,
            "flex_flow": null,
            "grid_area": null,
            "grid_auto_columns": null,
            "grid_auto_flow": null,
            "grid_auto_rows": null,
            "grid_column": null,
            "grid_gap": null,
            "grid_row": null,
            "grid_template_areas": null,
            "grid_template_columns": null,
            "grid_template_rows": null,
            "height": null,
            "justify_content": null,
            "justify_items": null,
            "left": null,
            "margin": null,
            "max_height": null,
            "max_width": null,
            "min_height": null,
            "min_width": null,
            "object_fit": null,
            "object_position": null,
            "order": null,
            "overflow": null,
            "overflow_x": null,
            "overflow_y": null,
            "padding": null,
            "right": null,
            "top": null,
            "visibility": null,
            "width": null
          }
        },
        "565c4ca08fa7438fa0dbcc641da45a5c": {
          "model_module": "@jupyter-widgets/controls",
          "model_name": "DescriptionStyleModel",
          "model_module_version": "1.5.0",
          "state": {
            "_model_module": "@jupyter-widgets/controls",
            "_model_module_version": "1.5.0",
            "_model_name": "DescriptionStyleModel",
            "_view_count": null,
            "_view_module": "@jupyter-widgets/base",
            "_view_module_version": "1.2.0",
            "_view_name": "StyleView",
            "description_width": ""
          }
        }
      }
    }
  },
  "cells": [
    {
      "cell_type": "markdown",
      "metadata": {
        "id": "view-in-github",
        "colab_type": "text"
      },
      "source": [
        "<a href=\"https://colab.research.google.com/github/Ele975/ML_project2/blob/main/AML_project2.ipynb\" target=\"_parent\"><img src=\"https://colab.research.google.com/assets/colab-badge.svg\" alt=\"Open In Colab\"/></a>"
      ]
    },
    {
      "cell_type": "markdown",
      "source": [
        "# Project 2: Natural Language Processing\n",
        "Authors: Zechen Wu, Elena Franchini, Erifeoluwa Jamgbadi"
      ],
      "metadata": {
        "id": "gurd24wBp9jt"
      }
    },
    {
      "cell_type": "code",
      "source": [
        "!git clone https://github.com/Ele975/AML_project2.git\n",
        "!pip install --upgrade gensim\n",
        "!pip install ffmpeg-python\n",
        "!pip install -U openai-whisper\n",
        "!pip install noisereduce\n",
        "!pip install pydub\n",
        "!pip install transformers\n",
        "!pip install openai"
      ],
      "metadata": {
        "colab": {
          "base_uri": "https://localhost:8080/"
        },
        "id": "O4X4cGCDrnz1",
        "outputId": "5375d0ac-cc58-4a95-a578-7a26b9021508"
      },
      "execution_count": 1,
      "outputs": [
        {
          "output_type": "stream",
          "name": "stdout",
          "text": [
            "Cloning into 'AML_project2'...\n",
            "remote: Enumerating objects: 163, done.\u001b[K\n",
            "remote: Counting objects: 100% (78/78), done.\u001b[K\n",
            "remote: Compressing objects: 100% (42/42), done.\u001b[K\n",
            "remote: Total 163 (delta 48), reused 54 (delta 36), pack-reused 85 (from 1)\u001b[K\n",
            "Receiving objects: 100% (163/163), 58.03 MiB | 11.72 MiB/s, done.\n",
            "Resolving deltas: 100% (77/77), done.\n",
            "Requirement already satisfied: gensim in /usr/local/lib/python3.10/dist-packages (4.3.3)\n",
            "Requirement already satisfied: numpy<2.0,>=1.18.5 in /usr/local/lib/python3.10/dist-packages (from gensim) (1.26.4)\n",
            "Requirement already satisfied: scipy<1.14.0,>=1.7.0 in /usr/local/lib/python3.10/dist-packages (from gensim) (1.13.1)\n",
            "Requirement already satisfied: smart-open>=1.8.1 in /usr/local/lib/python3.10/dist-packages (from gensim) (7.0.5)\n",
            "Requirement already satisfied: wrapt in /usr/local/lib/python3.10/dist-packages (from smart-open>=1.8.1->gensim) (1.16.0)\n",
            "Collecting ffmpeg-python\n",
            "  Downloading ffmpeg_python-0.2.0-py3-none-any.whl.metadata (1.7 kB)\n",
            "Requirement already satisfied: future in /usr/local/lib/python3.10/dist-packages (from ffmpeg-python) (1.0.0)\n",
            "Downloading ffmpeg_python-0.2.0-py3-none-any.whl (25 kB)\n",
            "Installing collected packages: ffmpeg-python\n",
            "Successfully installed ffmpeg-python-0.2.0\n",
            "Collecting openai-whisper\n",
            "  Downloading openai-whisper-20240930.tar.gz (800 kB)\n",
            "\u001b[2K     \u001b[90m━━━━━━━━━━━━━━━━━━━━━━━━━━━━━━━━━━━━━━━━\u001b[0m \u001b[32m800.5/800.5 kB\u001b[0m \u001b[31m16.1 MB/s\u001b[0m eta \u001b[36m0:00:00\u001b[0m\n",
            "\u001b[?25h  Installing build dependencies ... \u001b[?25l\u001b[?25hdone\n",
            "  Getting requirements to build wheel ... \u001b[?25l\u001b[?25hdone\n",
            "  Preparing metadata (pyproject.toml) ... \u001b[?25l\u001b[?25hdone\n",
            "Requirement already satisfied: numba in /usr/local/lib/python3.10/dist-packages (from openai-whisper) (0.60.0)\n",
            "Requirement already satisfied: numpy in /usr/local/lib/python3.10/dist-packages (from openai-whisper) (1.26.4)\n",
            "Requirement already satisfied: torch in /usr/local/lib/python3.10/dist-packages (from openai-whisper) (2.5.0+cu121)\n",
            "Requirement already satisfied: tqdm in /usr/local/lib/python3.10/dist-packages (from openai-whisper) (4.66.5)\n",
            "Requirement already satisfied: more-itertools in /usr/local/lib/python3.10/dist-packages (from openai-whisper) (10.5.0)\n",
            "Collecting tiktoken (from openai-whisper)\n",
            "  Downloading tiktoken-0.8.0-cp310-cp310-manylinux_2_17_x86_64.manylinux2014_x86_64.whl.metadata (6.6 kB)\n",
            "Collecting triton>=2.0.0 (from openai-whisper)\n",
            "  Downloading triton-3.1.0-cp310-cp310-manylinux_2_17_x86_64.manylinux2014_x86_64.whl.metadata (1.3 kB)\n",
            "Requirement already satisfied: filelock in /usr/local/lib/python3.10/dist-packages (from triton>=2.0.0->openai-whisper) (3.16.1)\n",
            "Requirement already satisfied: llvmlite<0.44,>=0.43.0dev0 in /usr/local/lib/python3.10/dist-packages (from numba->openai-whisper) (0.43.0)\n",
            "Requirement already satisfied: regex>=2022.1.18 in /usr/local/lib/python3.10/dist-packages (from tiktoken->openai-whisper) (2024.9.11)\n",
            "Requirement already satisfied: requests>=2.26.0 in /usr/local/lib/python3.10/dist-packages (from tiktoken->openai-whisper) (2.32.3)\n",
            "Requirement already satisfied: typing-extensions>=4.8.0 in /usr/local/lib/python3.10/dist-packages (from torch->openai-whisper) (4.12.2)\n",
            "Requirement already satisfied: networkx in /usr/local/lib/python3.10/dist-packages (from torch->openai-whisper) (3.4.2)\n",
            "Requirement already satisfied: jinja2 in /usr/local/lib/python3.10/dist-packages (from torch->openai-whisper) (3.1.4)\n",
            "Requirement already satisfied: fsspec in /usr/local/lib/python3.10/dist-packages (from torch->openai-whisper) (2024.6.1)\n",
            "Requirement already satisfied: sympy==1.13.1 in /usr/local/lib/python3.10/dist-packages (from torch->openai-whisper) (1.13.1)\n",
            "Requirement already satisfied: mpmath<1.4,>=1.1.0 in /usr/local/lib/python3.10/dist-packages (from sympy==1.13.1->torch->openai-whisper) (1.3.0)\n",
            "Requirement already satisfied: charset-normalizer<4,>=2 in /usr/local/lib/python3.10/dist-packages (from requests>=2.26.0->tiktoken->openai-whisper) (3.4.0)\n",
            "Requirement already satisfied: idna<4,>=2.5 in /usr/local/lib/python3.10/dist-packages (from requests>=2.26.0->tiktoken->openai-whisper) (3.10)\n",
            "Requirement already satisfied: urllib3<3,>=1.21.1 in /usr/local/lib/python3.10/dist-packages (from requests>=2.26.0->tiktoken->openai-whisper) (2.2.3)\n",
            "Requirement already satisfied: certifi>=2017.4.17 in /usr/local/lib/python3.10/dist-packages (from requests>=2.26.0->tiktoken->openai-whisper) (2024.8.30)\n",
            "Requirement already satisfied: MarkupSafe>=2.0 in /usr/local/lib/python3.10/dist-packages (from jinja2->torch->openai-whisper) (3.0.2)\n",
            "Downloading triton-3.1.0-cp310-cp310-manylinux_2_17_x86_64.manylinux2014_x86_64.whl (209.5 MB)\n",
            "\u001b[2K   \u001b[90m━━━━━━━━━━━━━━━━━━━━━━━━━━━━━━━━━━━━━━━━\u001b[0m \u001b[32m209.5/209.5 MB\u001b[0m \u001b[31m6.3 MB/s\u001b[0m eta \u001b[36m0:00:00\u001b[0m\n",
            "\u001b[?25hDownloading tiktoken-0.8.0-cp310-cp310-manylinux_2_17_x86_64.manylinux2014_x86_64.whl (1.2 MB)\n",
            "\u001b[2K   \u001b[90m━━━━━━━━━━━━━━━━━━━━━━━━━━━━━━━━━━━━━━━━\u001b[0m \u001b[32m1.2/1.2 MB\u001b[0m \u001b[31m19.5 MB/s\u001b[0m eta \u001b[36m0:00:00\u001b[0m\n",
            "\u001b[?25hBuilding wheels for collected packages: openai-whisper\n",
            "  Building wheel for openai-whisper (pyproject.toml) ... \u001b[?25l\u001b[?25hdone\n",
            "  Created wheel for openai-whisper: filename=openai_whisper-20240930-py3-none-any.whl size=803321 sha256=234824ef6aba518653601a3a1e9ee111db0af2d5db1a9ef1acd88bc945f4cf78\n",
            "  Stored in directory: /root/.cache/pip/wheels/dd/4a/1f/d1c4bf3b9133c8168fe617ed979cab7b14fe381d059ffb9d83\n",
            "Successfully built openai-whisper\n",
            "Installing collected packages: triton, tiktoken, openai-whisper\n",
            "Successfully installed openai-whisper-20240930 tiktoken-0.8.0 triton-3.1.0\n",
            "Collecting noisereduce\n",
            "  Downloading noisereduce-3.0.3-py3-none-any.whl.metadata (14 kB)\n",
            "Requirement already satisfied: scipy in /usr/local/lib/python3.10/dist-packages (from noisereduce) (1.13.1)\n",
            "Requirement already satisfied: matplotlib in /usr/local/lib/python3.10/dist-packages (from noisereduce) (3.7.1)\n",
            "Requirement already satisfied: numpy in /usr/local/lib/python3.10/dist-packages (from noisereduce) (1.26.4)\n",
            "Requirement already satisfied: tqdm in /usr/local/lib/python3.10/dist-packages (from noisereduce) (4.66.5)\n",
            "Requirement already satisfied: joblib in /usr/local/lib/python3.10/dist-packages (from noisereduce) (1.4.2)\n",
            "Requirement already satisfied: contourpy>=1.0.1 in /usr/local/lib/python3.10/dist-packages (from matplotlib->noisereduce) (1.3.0)\n",
            "Requirement already satisfied: cycler>=0.10 in /usr/local/lib/python3.10/dist-packages (from matplotlib->noisereduce) (0.12.1)\n",
            "Requirement already satisfied: fonttools>=4.22.0 in /usr/local/lib/python3.10/dist-packages (from matplotlib->noisereduce) (4.54.1)\n",
            "Requirement already satisfied: kiwisolver>=1.0.1 in /usr/local/lib/python3.10/dist-packages (from matplotlib->noisereduce) (1.4.7)\n",
            "Requirement already satisfied: packaging>=20.0 in /usr/local/lib/python3.10/dist-packages (from matplotlib->noisereduce) (24.1)\n",
            "Requirement already satisfied: pillow>=6.2.0 in /usr/local/lib/python3.10/dist-packages (from matplotlib->noisereduce) (10.4.0)\n",
            "Requirement already satisfied: pyparsing>=2.3.1 in /usr/local/lib/python3.10/dist-packages (from matplotlib->noisereduce) (3.2.0)\n",
            "Requirement already satisfied: python-dateutil>=2.7 in /usr/local/lib/python3.10/dist-packages (from matplotlib->noisereduce) (2.8.2)\n",
            "Requirement already satisfied: six>=1.5 in /usr/local/lib/python3.10/dist-packages (from python-dateutil>=2.7->matplotlib->noisereduce) (1.16.0)\n",
            "Downloading noisereduce-3.0.3-py3-none-any.whl (22 kB)\n",
            "Installing collected packages: noisereduce\n",
            "Successfully installed noisereduce-3.0.3\n",
            "Collecting pydub\n",
            "  Downloading pydub-0.25.1-py2.py3-none-any.whl.metadata (1.4 kB)\n",
            "Downloading pydub-0.25.1-py2.py3-none-any.whl (32 kB)\n",
            "Installing collected packages: pydub\n",
            "Successfully installed pydub-0.25.1\n",
            "Requirement already satisfied: transformers in /usr/local/lib/python3.10/dist-packages (4.44.2)\n",
            "Requirement already satisfied: filelock in /usr/local/lib/python3.10/dist-packages (from transformers) (3.16.1)\n",
            "Requirement already satisfied: huggingface-hub<1.0,>=0.23.2 in /usr/local/lib/python3.10/dist-packages (from transformers) (0.24.7)\n",
            "Requirement already satisfied: numpy>=1.17 in /usr/local/lib/python3.10/dist-packages (from transformers) (1.26.4)\n",
            "Requirement already satisfied: packaging>=20.0 in /usr/local/lib/python3.10/dist-packages (from transformers) (24.1)\n",
            "Requirement already satisfied: pyyaml>=5.1 in /usr/local/lib/python3.10/dist-packages (from transformers) (6.0.2)\n",
            "Requirement already satisfied: regex!=2019.12.17 in /usr/local/lib/python3.10/dist-packages (from transformers) (2024.9.11)\n",
            "Requirement already satisfied: requests in /usr/local/lib/python3.10/dist-packages (from transformers) (2.32.3)\n",
            "Requirement already satisfied: safetensors>=0.4.1 in /usr/local/lib/python3.10/dist-packages (from transformers) (0.4.5)\n",
            "Requirement already satisfied: tokenizers<0.20,>=0.19 in /usr/local/lib/python3.10/dist-packages (from transformers) (0.19.1)\n",
            "Requirement already satisfied: tqdm>=4.27 in /usr/local/lib/python3.10/dist-packages (from transformers) (4.66.5)\n",
            "Requirement already satisfied: fsspec>=2023.5.0 in /usr/local/lib/python3.10/dist-packages (from huggingface-hub<1.0,>=0.23.2->transformers) (2024.6.1)\n",
            "Requirement already satisfied: typing-extensions>=3.7.4.3 in /usr/local/lib/python3.10/dist-packages (from huggingface-hub<1.0,>=0.23.2->transformers) (4.12.2)\n",
            "Requirement already satisfied: charset-normalizer<4,>=2 in /usr/local/lib/python3.10/dist-packages (from requests->transformers) (3.4.0)\n",
            "Requirement already satisfied: idna<4,>=2.5 in /usr/local/lib/python3.10/dist-packages (from requests->transformers) (3.10)\n",
            "Requirement already satisfied: urllib3<3,>=1.21.1 in /usr/local/lib/python3.10/dist-packages (from requests->transformers) (2.2.3)\n",
            "Requirement already satisfied: certifi>=2017.4.17 in /usr/local/lib/python3.10/dist-packages (from requests->transformers) (2024.8.30)\n",
            "Collecting openai\n",
            "  Downloading openai-1.52.2-py3-none-any.whl.metadata (24 kB)\n",
            "Requirement already satisfied: anyio<5,>=3.5.0 in /usr/local/lib/python3.10/dist-packages (from openai) (3.7.1)\n",
            "Requirement already satisfied: distro<2,>=1.7.0 in /usr/lib/python3/dist-packages (from openai) (1.7.0)\n",
            "Collecting httpx<1,>=0.23.0 (from openai)\n",
            "  Downloading httpx-0.27.2-py3-none-any.whl.metadata (7.1 kB)\n",
            "Collecting jiter<1,>=0.4.0 (from openai)\n",
            "  Downloading jiter-0.6.1-cp310-cp310-manylinux_2_17_x86_64.manylinux2014_x86_64.whl.metadata (5.2 kB)\n",
            "Requirement already satisfied: pydantic<3,>=1.9.0 in /usr/local/lib/python3.10/dist-packages (from openai) (2.9.2)\n",
            "Requirement already satisfied: sniffio in /usr/local/lib/python3.10/dist-packages (from openai) (1.3.1)\n",
            "Requirement already satisfied: tqdm>4 in /usr/local/lib/python3.10/dist-packages (from openai) (4.66.5)\n",
            "Requirement already satisfied: typing-extensions<5,>=4.11 in /usr/local/lib/python3.10/dist-packages (from openai) (4.12.2)\n",
            "Requirement already satisfied: idna>=2.8 in /usr/local/lib/python3.10/dist-packages (from anyio<5,>=3.5.0->openai) (3.10)\n",
            "Requirement already satisfied: exceptiongroup in /usr/local/lib/python3.10/dist-packages (from anyio<5,>=3.5.0->openai) (1.2.2)\n",
            "Requirement already satisfied: certifi in /usr/local/lib/python3.10/dist-packages (from httpx<1,>=0.23.0->openai) (2024.8.30)\n",
            "Collecting httpcore==1.* (from httpx<1,>=0.23.0->openai)\n",
            "  Downloading httpcore-1.0.6-py3-none-any.whl.metadata (21 kB)\n",
            "Collecting h11<0.15,>=0.13 (from httpcore==1.*->httpx<1,>=0.23.0->openai)\n",
            "  Downloading h11-0.14.0-py3-none-any.whl.metadata (8.2 kB)\n",
            "Requirement already satisfied: annotated-types>=0.6.0 in /usr/local/lib/python3.10/dist-packages (from pydantic<3,>=1.9.0->openai) (0.7.0)\n",
            "Requirement already satisfied: pydantic-core==2.23.4 in /usr/local/lib/python3.10/dist-packages (from pydantic<3,>=1.9.0->openai) (2.23.4)\n",
            "Downloading openai-1.52.2-py3-none-any.whl (386 kB)\n",
            "\u001b[2K   \u001b[90m━━━━━━━━━━━━━━━━━━━━━━━━━━━━━━━━━━━━━━━━\u001b[0m \u001b[32m386.9/386.9 kB\u001b[0m \u001b[31m13.5 MB/s\u001b[0m eta \u001b[36m0:00:00\u001b[0m\n",
            "\u001b[?25hDownloading httpx-0.27.2-py3-none-any.whl (76 kB)\n",
            "\u001b[2K   \u001b[90m━━━━━━━━━━━━━━━━━━━━━━━━━━━━━━━━━━━━━━━━\u001b[0m \u001b[32m76.4/76.4 kB\u001b[0m \u001b[31m7.7 MB/s\u001b[0m eta \u001b[36m0:00:00\u001b[0m\n",
            "\u001b[?25hDownloading httpcore-1.0.6-py3-none-any.whl (78 kB)\n",
            "\u001b[2K   \u001b[90m━━━━━━━━━━━━━━━━━━━━━━━━━━━━━━━━━━━━━━━━\u001b[0m \u001b[32m78.0/78.0 kB\u001b[0m \u001b[31m7.5 MB/s\u001b[0m eta \u001b[36m0:00:00\u001b[0m\n",
            "\u001b[?25hDownloading jiter-0.6.1-cp310-cp310-manylinux_2_17_x86_64.manylinux2014_x86_64.whl (325 kB)\n",
            "\u001b[2K   \u001b[90m━━━━━━━━━━━━━━━━━━━━━━━━━━━━━━━━━━━━━━━━\u001b[0m \u001b[32m325.2/325.2 kB\u001b[0m \u001b[31m27.1 MB/s\u001b[0m eta \u001b[36m0:00:00\u001b[0m\n",
            "\u001b[?25hDownloading h11-0.14.0-py3-none-any.whl (58 kB)\n",
            "\u001b[2K   \u001b[90m━━━━━━━━━━━━━━━━━━━━━━━━━━━━━━━━━━━━━━━━\u001b[0m \u001b[32m58.3/58.3 kB\u001b[0m \u001b[31m5.2 MB/s\u001b[0m eta \u001b[36m0:00:00\u001b[0m\n",
            "\u001b[?25hInstalling collected packages: jiter, h11, httpcore, httpx, openai\n",
            "Successfully installed h11-0.14.0 httpcore-1.0.6 httpx-0.27.2 jiter-0.6.1 openai-1.52.2\n"
          ]
        }
      ]
    },
    {
      "cell_type": "code",
      "source": [
        "import pandas as pd\n",
        "import numpy as np\n",
        "import json\n",
        "import math\n",
        "import io\n",
        "import re\n",
        "import nltk\n",
        "import ffmpeg\n",
        "import whisper\n",
        "import scipy\n",
        "import urllib.request\n",
        "import librosa\n",
        "import matplotlib\n",
        "import noisereduce as nr\n",
        "import torch\n",
        "import openai\n",
        "import json\n",
        "import logging\n",
        "import time\n",
        "import matplotlib.pyplot as plt\n",
        "\n",
        "\n",
        "from nltk.corpus import stopwords\n",
        "from gensim.models.word2vec import Word2Vec\n",
        "from gensim.models import phrases\n",
        "from matplotlib import pyplot as plt\n",
        "from IPython.display import HTML, Audio\n",
        "from google.colab.output import eval_js\n",
        "from base64 import b64decode\n",
        "from scipy.io.wavfile import read as wav_read\n",
        "from google.colab import drive\n",
        "from transformers import AutoTokenizer,BertTokenizerFast\n",
        "from transformers import GPT2LMHeadModel, GPT2Tokenizer\n",
        "\n",
        "nltk.download('stopwords')\n",
        "drive.mount('/content/drive')\n",
        "\n",
        "\n"
      ],
      "metadata": {
        "colab": {
          "base_uri": "https://localhost:8080/"
        },
        "id": "zHKokF5XvTof",
        "outputId": "b51f4adf-7b78-4a60-dd96-cf9574838c3d"
      },
      "execution_count": 4,
      "outputs": [
        {
          "output_type": "stream",
          "name": "stderr",
          "text": [
            "[nltk_data] Downloading package stopwords to /root/nltk_data...\n",
            "[nltk_data]   Package stopwords is already up-to-date!\n"
          ]
        },
        {
          "output_type": "stream",
          "name": "stdout",
          "text": [
            "Mounted at /content/drive\n"
          ]
        }
      ]
    },
    {
      "cell_type": "code",
      "source": [
        "# import data from github repository\n",
        "train = pd.read_json('AML_project2/datasets/squadtrain-v2.0.json')\n",
        "val = pd.read_json('AML_project2/datasets/squaddev-v2.0.json')\n",
        "print(train[:10])\n",
        "print(val[:10])"
      ],
      "metadata": {
        "colab": {
          "base_uri": "https://localhost:8080/"
        },
        "id": "k6Tr2G1PvLM_",
        "outputId": "47b2572c-b25f-4c71-df6c-06c1aabff4a7"
      },
      "execution_count": 7,
      "outputs": [
        {
          "output_type": "stream",
          "name": "stdout",
          "text": [
            "  version                                               data\n",
            "0    v2.0  {'title': 'Beyoncé', 'paragraphs': [{'qas': [{...\n",
            "1    v2.0  {'title': 'Frédéric_Chopin', 'paragraphs': [{'...\n",
            "2    v2.0  {'title': 'Sino-Tibetan_relations_during_the_M...\n",
            "3    v2.0  {'title': 'IPod', 'paragraphs': [{'qas': [{'qu...\n",
            "4    v2.0  {'title': 'The_Legend_of_Zelda:_Twilight_Princ...\n",
            "5    v2.0  {'title': 'Spectre_(2015_film)', 'paragraphs':...\n",
            "6    v2.0  {'title': '2008_Sichuan_earthquake', 'paragrap...\n",
            "7    v2.0  {'title': 'New_York_City', 'paragraphs': [{'qa...\n",
            "8    v2.0  {'title': 'To_Kill_a_Mockingbird', 'paragraphs...\n",
            "9    v2.0  {'title': 'Solar_energy', 'paragraphs': [{'qas...\n",
            "  version                                               data\n",
            "0    v2.0  {'title': 'Normans', 'paragraphs': [{'qas': [{...\n",
            "1    v2.0  {'title': 'Computational_complexity_theory', '...\n",
            "2    v2.0  {'title': 'Southern_California', 'paragraphs':...\n",
            "3    v2.0  {'title': 'Sky_(United_Kingdom)', 'paragraphs'...\n",
            "4    v2.0  {'title': 'Victoria_(Australia)', 'paragraphs'...\n",
            "5    v2.0  {'title': 'Huguenot', 'paragraphs': [{'qas': [...\n",
            "6    v2.0  {'title': 'Steam_engine', 'paragraphs': [{'qas...\n",
            "7    v2.0  {'title': 'Oxygen', 'paragraphs': [{'qas': [{'...\n",
            "8    v2.0  {'title': '1973_oil_crisis', 'paragraphs': [{'...\n",
            "9    v2.0  {'title': 'European_Union_law', 'paragraphs': ...\n"
          ]
        }
      ]
    },
    {
      "cell_type": "markdown",
      "source": [
        "# Investigate dataset"
      ],
      "metadata": {
        "id": "irVwI6K7mKcu"
      }
    },
    {
      "cell_type": "markdown",
      "source": [
        "## Dataset selection\n",
        "The dataset we will use is the \"SQuAD2.0: The Stanford Question Answering Dataset\". The website provides the training and validation (i.e. development) set in the form of JSON.\n"
      ],
      "metadata": {
        "id": "-qi67ytW1lZR"
      }
    },
    {
      "cell_type": "markdown",
      "source": [
        "## Dataset analysis\n",
        "Data in the training set consists of strings which represent questions and answers (that come from Wikipedia articles) and can be found as values under the 'data' key. Each 'title' key is associated to a 'paragraphs' key which is an array containing these questions and answers associated to that title (the title acts as a category). Each question is composed by the text representing the question, the id, an array of answers and a flag checking if answering to that question is impossible: if the flag is true, the array of answers is empty. In addition, each answer is associated to the 'answer_start' key whose value represent the starting position of the answer.\n",
        "Some questions have also plausible answers, which should be other possible answers in addition to the correct ones (if any)."
      ],
      "metadata": {
        "id": "aubwFnNu1wvt"
      }
    },
    {
      "cell_type": "markdown",
      "source": [
        "### Count the number of data we have in both the training and validation sets.\n",
        "The size of the dataset is quite small, but the partition between the training and validation set is good (since always we have a traning set much bigger than the validation set). Often the dataset is first split in traning and test set, since the validation set is obtained by further splitting the training set, but this is not the case."
      ],
      "metadata": {
        "id": "zE3GL4cvzi1P"
      }
    },
    {
      "cell_type": "code",
      "source": [
        "def count_data(series):\n",
        "  nr_titles = 0\n",
        "  nr_questions = 0\n",
        "  nr_answers = 0\n",
        "  nr_contexts = 0\n",
        "\n",
        "  for title in series:\n",
        "    nr_titles += 1\n",
        "    paragraphs = title.get('paragraphs', [])\n",
        "    # each para contains multiple dictionaries {qas, context}. Each qas contains more questions and can contains more answers for a single question. Each qas is associated with a single context\n",
        "    for para in paragraphs:\n",
        "      if 'context' in para:\n",
        "        nr_contexts += 1\n",
        "      qas_list = para.get('qas', [])\n",
        "      nr_questions += len(qas_list)\n",
        "      for qas in qas_list:\n",
        "        answers = qas.get('answers', [])\n",
        "        questions = qas.get('question', [])\n",
        "        nr_answers += len(answers)\n",
        "        if 'plausible_answers' in qas:\n",
        "          nr_answers += 1\n",
        "\n",
        "\n",
        "  return nr_titles, nr_questions, nr_answers, nr_contexts\n",
        "\n",
        "count_train = count_data(train['data'])\n",
        "count_val = count_data(val['data']);\n",
        "\n",
        "print(\"Titles (categories) in the training set:\", count_train[0])\n",
        "print(\"Titles (categories) in the validation set:\", count_val[0], \"\\n\")\n",
        "# There is a context for each group of questions and answers\n",
        "print(\"Contexts in the training set:\", count_train[3])\n",
        "print(\"Contexts in the validation set:\", count_val[3], \"\\n\")\n",
        "print(\"Questions in the training set:\", count_train[1])\n",
        "print(\"Questions in the validation set:\", count_val[1], \"\\n\")\n",
        "print(\"Answers in the training set:\", count_train[2])\n",
        "print(\"Answers in the validation set:\", count_val[2], \"\\n\")\n",
        "\n",
        "print('Total Q + A in training set:', count_train[1] + count_train[2])\n",
        "print('Total Q + A in validation set:', count_val[1] + count_val[2], \"\\n\")\n",
        "\n",
        "print('Total Q + A in dataset:', count_train[1] + count_train[2] + count_val[1] + count_val[2], \"\\n\")\n",
        "\n",
        "print('Partition dataset (counting Q and A):')\n",
        "print('\\t Training set:',round((count_train[1] + count_train[2])/(count_train[1] + count_train[2] + count_val[1] + count_val[2])*100) , '%.')\n",
        "print('\\t Validation set:',round((count_val[1] + count_val[2])/(count_train[1] + count_train[2] + count_val[1] + count_val[2])*100) , '%.')"
      ],
      "metadata": {
        "colab": {
          "base_uri": "https://localhost:8080/"
        },
        "id": "OZmM72m9w-6h",
        "outputId": "6df883d3-432d-438e-f4b5-df0bed7523f1"
      },
      "execution_count": 8,
      "outputs": [
        {
          "output_type": "stream",
          "name": "stdout",
          "text": [
            "Titles (categories) in the training set: 442\n",
            "Titles (categories) in the validation set: 35 \n",
            "\n",
            "Contexts in the training set: 19035\n",
            "Contexts in the validation set: 1204 \n",
            "\n",
            "Questions in the training set: 130319\n",
            "Questions in the validation set: 11873 \n",
            "\n",
            "Answers in the training set: 130319\n",
            "Answers in the validation set: 26247 \n",
            "\n",
            "Total Q + A in training set: 260638\n",
            "Total Q + A in validation set: 38120 \n",
            "\n",
            "Total Q + A in dataset: 298758 \n",
            "\n",
            "Partition dataset (counting Q and A):\n",
            "\t Training set: 87 %.\n",
            "\t Validation set: 13 %.\n"
          ]
        }
      ]
    },
    {
      "cell_type": "markdown",
      "source": [
        "### Define the vocabulary size which is given by the number of distinct words in the collection.\n",
        "To compute the size of the vocabulary we need first to split the sentences strings into words and inserting them in a set which do not allow duplicates (the vocabulary size takes into consideration only distinct words). Regex are used to remove characters we don't need for the analysis, e.g. underscores, numbers, etc. Stop words (most common words) are removed since they don't give additional value for our statistics. In the vocabulary size there are also considered some wrong written words (e.g. aan instead of 'an'), and it is not performant to remove them manually, but since they are only a few with respect to the amount of different words we have, they'll do not influence our results.\n",
        "\n",
        "The vocabulary takes into consideration all sentences of the collection (titles, contexts, questions, answers)"
      ],
      "metadata": {
        "id": "1FRpnln0RUwA"
      }
    },
    {
      "cell_type": "code",
      "source": [
        "\n",
        "# all words of both sets (frequency = n)\n",
        "words_total = []\n",
        "# unique words for both sets (frequency = 1)\n",
        "words_set_total = set()\n",
        "\n",
        "\n",
        "def regex_clean(sentence):\n",
        "  sentence = sentence.lower()\n",
        "  # Remove non-alphanumeric characters and spaces (maintain '-')\n",
        "  sentence = re.sub(r'[^\\w\\s/-]', '', sentence)\n",
        "  # Replace '/' with space\n",
        "  sentence = re.sub(r'/', ' ', sentence)\n",
        "  # Replace underscores with space\n",
        "  sentence = re.sub(r'_', ' ', sentence)\n",
        "  # Remove standalone numbers\n",
        "  sentence = re.sub(r'\\b(?:\\d+\\s*)+\\b', '', sentence)\n",
        "  # Split the sentence into tokens\n",
        "  tokens = sentence.split()\n",
        "  return tokens\n",
        "\n",
        "def stopwords_removal(tokens):\n",
        "  nostopwords = [w for w in tokens if w not in stopwords.words('english')]\n",
        "  return nostopwords\n",
        "\n",
        "\n",
        "def input_vocabulary(series):\n",
        "  # unique words for each single set (frequency = 1)\n",
        "  words_set = set()\n",
        "  # all words for each set (frequency = n)\n",
        "  words_total_sets = []\n",
        "  # list of tokenised questions\n",
        "  text_to_sentence = []\n",
        "  c = 0\n",
        "  for title in series:\n",
        "    title_tok = regex_clean(title.get('title', []))\n",
        "    title_tok_clean = stopwords_removal(title_tok)\n",
        "\n",
        "    text_to_sentence.append(title_tok_clean)\n",
        "    words_set.update(title_tok_clean)\n",
        "    words_total_sets.extend(title_tok_clean)\n",
        "    words_total.extend(title_tok_clean)\n",
        "    words_set_total.update(title_tok_clean)\n",
        "\n",
        "    paragraphs = title.get('paragraphs', [])\n",
        "    for para in paragraphs:\n",
        "      context_tok = regex_clean(para.get('context', []))\n",
        "      context_tok_clean = stopwords_removal(context_tok)\n",
        "\n",
        "      text_to_sentence.append(context_tok_clean)\n",
        "      words_set.update(context_tok_clean)\n",
        "      words_total_sets.extend(context_tok_clean)\n",
        "      words_total.extend(context_tok_clean)\n",
        "      words_set_total.update(context_tok_clean)\n",
        "\n",
        "      qas_list = para.get('qas', [])\n",
        "      for qas in qas_list:\n",
        "        question = qas.get('question', '')\n",
        "        words = regex_clean(question)\n",
        "        words_nostopwords = stopwords_removal(words)\n",
        "\n",
        "        text_to_sentence.append(words_nostopwords)\n",
        "        words_set.update(words_nostopwords)\n",
        "        words_total_sets.extend(words_nostopwords)\n",
        "        words_total.extend(words_nostopwords)\n",
        "        words_set_total.update(words_nostopwords)\n",
        "\n",
        "        answers = qas.get('answers', '')\n",
        "        for answer in answers:\n",
        "          ans = regex_clean((answer['text']))\n",
        "          ans_nostopwords = stopwords_removal(ans)\n",
        "\n",
        "          text_to_sentence.append(ans_nostopwords)\n",
        "          words_set.update(ans_nostopwords)\n",
        "          words_total_sets.extend(ans_nostopwords)\n",
        "          words_total.extend(ans_nostopwords)\n",
        "          words_set_total.update(ans_nostopwords)\n",
        "\n",
        "        if 'plausible_answers' in qas and len(qas.get('plausible_answers')) > 0:\n",
        "          pla_ans = qas.get('plausible_answers')[0]['text']\n",
        "          pla_ans_tok = regex_clean(pla_ans)\n",
        "          pla_ans_tok_clean = stopwords_removal(pla_ans_tok)\n",
        "\n",
        "          text_to_sentence.append(pla_ans_tok_clean)\n",
        "          words_set.update(pla_ans_tok_clean)\n",
        "          words_total_sets.extend(pla_ans_tok_clean)\n",
        "          words_total.extend(pla_ans_tok_clean)\n",
        "          words_set_total.update(pla_ans_tok_clean)\n",
        "\n",
        "  return words_set, words_total_sets, text_to_sentence\n",
        "\n",
        "\n",
        "words_set_train, words_total_train, text_to_sentence_train = input_vocabulary(train['data'])\n",
        "words_set_val, words_total_val, text_to_sentence_val = input_vocabulary(val['data'])\n",
        "\n",
        "print(\"vocabulary size of training set:\", len(words_set_train))\n",
        "print(\"vocabulary size of validation set:\", len(words_set_val))\n",
        "print(\"total vocabulary size of collection:\",  len(words_set_total))\n"
      ],
      "metadata": {
        "id": "o2gI1IgaRTtY",
        "colab": {
          "base_uri": "https://localhost:8080/"
        },
        "outputId": "0f59fce8-78ca-4b95-c49d-406d9f79107a"
      },
      "execution_count": 10,
      "outputs": [
        {
          "output_type": "stream",
          "name": "stdout",
          "text": [
            "vocabulary size of training set: 99479\n",
            "vocabulary size of validation set: 18418\n",
            "total vocabulary size of collection: 103485\n"
          ]
        }
      ]
    },
    {
      "cell_type": "markdown",
      "source": [
        "### Distributions over document length\n",
        "To compute the distributions over the document length at first we counts the frequency of each term within the input collection. Here we can notice the words written incorrectly are the ones which can be rarely found in the collection (one or few occurences), but again we cannot remove them since there are a lot of grammatically correct words that also occurs rarely. An additional observation is the fact that the training and validation sets have some of the most frequent words in common (e.g. many, yera, name, type, one, ...)."
      ],
      "metadata": {
        "id": "bJGGDotSddlW"
      }
    },
    {
      "cell_type": "code",
      "source": [
        "counts_train = nltk.Counter(words_total_train)\n",
        "counts_val = nltk.Counter(words_total_val)\n",
        "counts_total = nltk.Counter(words_total)\n",
        "\n",
        "print(\"Words count in training set:\")\n",
        "for key, value in list(counts_train.items())[:10]:\n",
        "    print(key, value)\n",
        "print(\"\\nWords count in validation set:\")\n",
        "for key, value in list(counts_val.items())[:10]:\n",
        "    print(key, value)\n",
        "print(\"\\nWords count in entire collection:\")\n",
        "for key, value in list(counts_total.items())[:10]:\n",
        "    print(key, value)"
      ],
      "metadata": {
        "id": "OWSVMPqEsQj3",
        "colab": {
          "base_uri": "https://localhost:8080/"
        },
        "outputId": "5353801c-ca42-42aa-b022-1f1a444503d1"
      },
      "execution_count": 12,
      "outputs": [
        {
          "output_type": "stream",
          "name": "stdout",
          "text": [
            "Words count in training set:\n",
            "beyoncé 369\n",
            "giselle 2\n",
            "knowles-carter 1\n",
            "biːˈjɒnseɪ 1\n",
            "bee-yon-say 1\n",
            "born 599\n",
            "september 1051\n",
            "american 2844\n",
            "singer 138\n",
            "songwriter 23\n",
            "\n",
            "Words count in validation set:\n",
            "normans 78\n",
            "norman 101\n",
            "nourmands 1\n",
            "french 447\n",
            "normands 1\n",
            "latin 34\n",
            "normanni 1\n",
            "people 341\n",
            "10th 28\n",
            "11th 23\n",
            "\n",
            "Words count in entire collection:\n",
            "beyoncé 369\n",
            "giselle 2\n",
            "knowles-carter 1\n",
            "biːˈjɒnseɪ 1\n",
            "bee-yon-say 1\n",
            "born 643\n",
            "september 1108\n",
            "american 3054\n",
            "singer 152\n",
            "songwriter 23\n"
          ]
        }
      ]
    },
    {
      "cell_type": "markdown",
      "source": [
        "Plot the distribution of the 10 most common words in the entire collection (training and validation set). We can obviously notice that these words are generally common in text, but despite of this, their value is important with respect to the one of the most common words since they can give a general idea about the majority types of questions. By the result, some words are not useful to get come conclusions (e.g. 'many', 'first'), but others can be more interesting (e.g. 'city' can be associated with questions about population, geography, history, etc., 'year' that can be associated to history questions with a specific year of an event occurred in the past). The resulting graph can tells that there can be many historical and geographical questions."
      ],
      "metadata": {
        "id": "Ew2O8bd-w7M-"
      }
    },
    {
      "cell_type": "code",
      "source": [
        "most_common_words = counts_total.most_common(10)\n",
        "terms, frequencies = zip(*most_common_words)\n",
        "\n",
        "# Plot the distribution of the 10 most frequent words\n",
        "plt.bar(terms, frequencies)\n",
        "plt.xlabel('Terms')\n",
        "plt.ylabel('Frequency')\n",
        "plt.title('Top 10 Most Frequent Terms')\n",
        "plt.show()"
      ],
      "metadata": {
        "id": "2ZZon1bkw4i8",
        "colab": {
          "base_uri": "https://localhost:8080/",
          "height": 472
        },
        "outputId": "7c5351bc-3e52-466d-a805-811f06e48218"
      },
      "execution_count": null,
      "outputs": [
        {
          "output_type": "display_data",
          "data": {
            "text/plain": [
              "<Figure size 640x480 with 1 Axes>"
            ],
            "image/png": "[encoded data removed]"
          },
          "metadata": {}
        }
      ]
    },
    {
      "cell_type": "markdown",
      "source": [
        "## Word2Vec embedding"
      ],
      "metadata": {
        "id": "NJyRdhlT15i_"
      }
    },
    {
      "cell_type": "markdown",
      "source": [
        "Word2Vec is used for NLP which is able to produce word embedding (words with similar meaning have similar representation), and with this we can perform many comparisons. Depending on the parameters we use for the Word2Vec model, we'll get different precision as well as different results. The min_count parameter value takes into consideration only the words that occur more than this value in the entire text. In general it is better to drop rare words since they are not similar to any other word and generate 'noise' for the creation of the other vectors. The vector_size parameter defines the number of dimensions the words are mapped onto: the default value is 100 and if we increase it we can have a more accurate model but also we need more training data. The window parameter takes into consideration n words around the target word that affect it.\n",
        "\n",
        "We trained the model removing stopwords since the results should be more precise and stopwords are not necessary for our purposes. In all cases, the parameter 'sentences' contains the sentences with stop words included."
      ],
      "metadata": {
        "id": "dlc-mQ2t1nGg"
      }
    },
    {
      "cell_type": "code",
      "source": [
        "sentences = text_to_sentence_train + text_to_sentence_val\n",
        "\n",
        "# Use a list comprehension to filter out empty arrays\n",
        "sentences = [subarray for subarray in sentences if len(subarray) > 0]\n",
        "\n",
        "# train model with text without stopwords\n",
        "model = Word2Vec(sentences=sentences, vector_size=30, min_count = 5, window=2)"
      ],
      "metadata": {
        "id": "f46aeEJ1wKyP"
      },
      "execution_count": null,
      "outputs": []
    },
    {
      "cell_type": "markdown",
      "source": [
        "With word embedding using Word2Vec we can perform different types of comparison. The similarity among vectors associated with the terms is computed using the cosine similarity model.\n",
        "\n",
        "Some examples of tasks we are able to with Word2Vec:\n",
        "- retrieved the vector associated with the specific word in the dictionary, e.g. 'city'\n",
        "- retrieve all most similar words to a given term, e.g. 'city', 'food'\n",
        "- retrieve the word that doesn't match the others in a list\n",
        "- retrieve the similarity between two words, e.g. 'woman' and 'man'\n",
        "- retrieve the most similar term to a given word and the similarity value, e.g. 'napoleon', 'child'\n",
        "- retrieve the similarity between two sets of words\n",
        "\n",
        "It is interesting to notice that some results are the ones expected (some similar words in meaning are actually recognised as similar), but in other cases the results are not the expected ones. These discrepancies can be due to the parameters passed to the Word2Vec model: in general, a higher value for the parameter vector_size leads to a better accuracy, but for small corpus sizes we can obtain a good accuracy even with small values (i.e. 30 or smaller). The same resoning can be applied to the window value where an higher value leads to an higher quality. Another cause of these misleading results is the size of the training set that in our case is limited and we are not able to increase it. A last reasoning can be made about how to separate the sentences: we used unigrams and this means that each sentence is a list of single words, but it is also possible to use bigrams (or more in general n-grams) since some words are composed by two or more words (e.g. San Francisco, look up, etc.), thus separation in n-grams can be useful to detect and maintain words together. Considering the size of the input, the results are satisfiable, returning in the majority of cases correct similarities among terms."
      ],
      "metadata": {
        "id": "UYDK3asgNyaS"
      }
    },
    {
      "cell_type": "code",
      "source": [
        "# number of word vectors the model learned\n",
        "res = model.wv\n",
        "print(len(res), \"\\n\")\n",
        "\n",
        "# example vector for word 'city'\n",
        "print(\"Vector for word 'city':\\n\", res['city'], \"\\n\")\n",
        "\n",
        "# similarity with word 'city'\n",
        "print(\"Words similar to 'city':\\n\", res.most_similar(\"city\"), \"\\n\")\n",
        "print(\"Words similar to 'food':\\n\", res.most_similar(\"food\"), \"\\n\")\n",
        "\n",
        "# word that doesn't match with other words\n",
        "print(\"Word not matching 'city, home, food, street':\\n\",res.doesnt_match(\"city home food street\".split()), \"\\n\")\n",
        "\n",
        "# expected similarity between two words\n",
        "similarity = res.similarity('woman', 'man')\n",
        "print(\"Similarity between 'man' and 'woman' is greater than 80%:\\n\", similarity > 0.8, \"\\n\")\n",
        "\n",
        "# most similar word to the given one\n",
        "result = res.similar_by_word(\"napoleon\")\n",
        "most_similar_key, similarity = result[0]  # look at the first match\n",
        "print(\"Most similar word to 'napoleon': \\n\", f\"{most_similar_key}: {similarity:.4f}\")\n",
        "\n",
        "result = res.similar_by_word(\"child\")\n",
        "most_similar_key, similarity = result[0]  # look at the first match\n",
        "print(\"Most similar word to 'child': \\n\",f\"{most_similar_key}: {similarity:.4f}\")\n",
        "\n",
        "# similarity between two sets of words\n",
        "similarity = res.n_similarity(['sushi', 'shop'], ['japanese', 'restaurant'])\n",
        "print(\"Similarity between ['sushi', 'shop'] and ['japanese','restaurant']:\", similarity)\n",
        "\n"
      ],
      "metadata": {
        "id": "kBPAqmVY8RVI",
        "colab": {
          "base_uri": "https://localhost:8080/"
        },
        "outputId": "54f8bf02-3e95-470c-c5cf-76d7d0994355"
      },
      "execution_count": null,
      "outputs": [
        {
          "output_type": "stream",
          "name": "stdout",
          "text": [
            "34408 \n",
            "\n",
            "Vector for word 'city':\n",
            " [-0.61373156 -0.09048129  3.154695    0.14949745  1.0094852  -0.05291523\n",
            " -0.8118638   3.1168299  -1.2388426  -0.8186532   0.21800952 -1.3468364\n",
            "  0.12491129 -0.576056    2.8589554   0.9815114   3.027216   -0.5238168\n",
            " -1.6075366  -0.585893    0.3268966  -1.4194688   0.03680319 -0.47094533\n",
            " -1.4515154  -1.9636669   0.60830826 -1.6329241   1.2402666   2.2732267 ] \n",
            "\n",
            "Words similar to 'city':\n",
            " [('town', 0.7919782400131226), ('county', 0.7654625773429871), ('area', 0.7565137147903442), ('paris', 0.754397988319397), ('cities', 0.747930645942688), ('citys', 0.7472111582756042), ('melbourne', 0.7407280802726746), ('plymouth', 0.7319952845573425), ('nanjing', 0.7227296829223633), ('utrecht', 0.7126957178115845)] \n",
            "\n",
            "Words similar to 'food':\n",
            " [('habitat', 0.9054557681083679), ('waste', 0.9031124711036682), ('crops', 0.8851396441459656), ('resource', 0.878998875617981), ('sanitation', 0.8767069578170776), ('products', 0.8739328980445862), ('soil', 0.868303120136261), ('drinking', 0.8531212210655212), ('resources', 0.8528691530227661), ('nutrients', 0.8490505218505859)] \n",
            "\n",
            "Word not matching 'city, home, food, street':\n",
            " food \n",
            "\n",
            "Similarity between 'man' and 'woman' is greater than 80%:\n",
            " False \n",
            "\n",
            "Most similar word to 'napoleon': \n",
            " gaddafi: 0.9358\n",
            "Most similar word to 'child': \n",
            " respondents: 0.7504\n",
            "Similarity between ['sushi', 'shop'] and ['japanese','restaurant']: 0.5838513\n"
          ]
        }
      ]
    },
    {
      "cell_type": "markdown",
      "source": [
        "We now compare the results above with the ones obtained increasing the vector_size and window parameters with respective values of 100 and 10. The results are not improved but they're very similar. This means that the parameter's values in this case are not able to obtain better similarity values. This can be due to the fact that the entire document is short enough to not requiring bigger vectors. To improve the vector's values, we should have a bigger input."
      ],
      "metadata": {
        "id": "Fa5G6d_KfULy"
      }
    },
    {
      "cell_type": "code",
      "source": [
        "model_precise = Word2Vec(sentences=sentences, vector_size=100, min_count = 5, window=10)"
      ],
      "metadata": {
        "id": "-7rwmujyhIRR"
      },
      "execution_count": null,
      "outputs": []
    },
    {
      "cell_type": "code",
      "source": [
        "res = model_precise.wv\n",
        "print(len(res), \"\\n\")\n",
        "\n",
        "print(\"Vector for word 'city':\\n\", res['city'], \"\\n\")\n",
        "\n",
        "print(\"Words similar to 'city':\\n\", res.most_similar(\"city\"), \"\\n\")\n",
        "print(\"Words similar to 'food':\\n\", res.most_similar(\"food\"), \"\\n\")\n",
        "\n",
        "print(\"Word not matching 'city, home, food, street':\\n\",res.doesnt_match(\"city home food street\".split()), \"\\n\")\n",
        "\n",
        "similarity = res.similarity('woman', 'man')\n",
        "print(\"Similarity between 'man' and 'woman' is greater than 80%:\\n\", similarity > 0.8, \"\\n\")\n",
        "\n",
        "result = res.similar_by_word(\"napoleon\")\n",
        "most_similar_key, similarity = result[0]  # look at the first match\n",
        "print(\"Most similar word to 'napoleon': \\n\", f\"{most_similar_key}: {similarity:.4f}\")\n",
        "\n",
        "result = res.similar_by_word(\"child\")\n",
        "most_similar_key, similarity = result[0]  # look at the first match\n",
        "print(\"Most similar word to 'child': \\n\",f\"{most_similar_key}: {similarity:.4f}\")\n",
        "\n",
        "similarity = res.n_similarity(['sushi', 'shop'], ['japanese', 'restaurant'])\n",
        "print(\"Similarity between ['sushi', 'shop'] and ['japanese','restaurant']:\", similarity)"
      ],
      "metadata": {
        "id": "CSwh9djqhOfV",
        "colab": {
          "base_uri": "https://localhost:8080/"
        },
        "outputId": "836a84d9-b210-4880-ecd6-42abc2c58721"
      },
      "execution_count": null,
      "outputs": [
        {
          "output_type": "stream",
          "name": "stdout",
          "text": [
            "34408 \n",
            "\n",
            "Vector for word 'city':\n",
            " [-6.4372277e-01 -2.6070336e-01 -4.5534474e-01  4.8289737e-01\n",
            "  2.4428263e+00  1.1176416e+00 -9.1534391e-02 -1.1113414e+00\n",
            " -5.1973796e-01  1.7344977e-01  1.0796390e+00 -6.1845803e-01\n",
            "  2.0042219e+00 -9.2804652e-01  5.2782810e-01  8.0668467e-01\n",
            " -5.0024849e-01 -2.2410019e-01 -4.4895401e+00 -1.6479409e+00\n",
            " -1.3297495e+00  5.3354615e-01 -2.7536685e+00 -1.9800899e+00\n",
            " -1.0984499e+00 -1.4534713e+00  2.7331445e+00  2.1879728e+00\n",
            " -1.2925584e+00 -3.9817132e-03 -1.2115095e+00 -1.5457765e+00\n",
            " -2.5833285e+00  3.3214970e+00  1.1751796e+00  7.0031214e-01\n",
            " -5.6424636e-01 -1.5540574e+00 -2.3773773e+00  1.7633852e+00\n",
            "  4.5968297e-01  1.4039956e+00 -5.2272081e-01 -1.3775885e+00\n",
            "  1.9422489e+00 -1.1443872e+00 -3.3313181e+00 -7.1274781e-01\n",
            "  7.0620662e-01  1.7360406e-01 -1.8824681e+00  5.8585055e-02\n",
            " -1.4586820e-01 -3.3142068e+00 -1.6085813e+00  2.3284171e+00\n",
            " -1.2552805e+00  2.0455182e+00  2.9811692e-01  2.6493099e+00\n",
            "  1.4744442e+00  2.6274400e+00 -7.6237673e-01 -1.3258222e+00\n",
            "  1.6667821e+00  2.1962755e+00  3.1461874e-01  3.5393014e+00\n",
            "  2.8155766e+00 -3.1906274e-01  1.4994751e+00 -1.3022704e+00\n",
            " -3.5145737e-02  7.3645192e-01 -1.1145619e+00 -8.5324883e-01\n",
            "  4.3914342e+00 -6.4312106e-01 -8.8546836e-01 -3.5026994e+00\n",
            "  1.3743607e+00  3.7900057e-01  5.4445618e-01 -2.3628871e+00\n",
            " -2.7074978e-01 -5.8727139e-01  8.1347030e-01 -7.0607555e-01\n",
            "  3.0091305e+00  2.1995313e+00 -2.1819732e+00  4.7288993e-01\n",
            "  1.8564022e+00 -8.8830739e-01  7.8888625e-01 -4.5220876e-01\n",
            "  8.6011522e-02 -7.3389792e-01  3.8606963e+00  8.8419175e-01] \n",
            "\n",
            "Words similar to 'city':\n",
            " [('citys', 0.7793523669242859), ('philadelphia', 0.7298794984817505), ('melbourne', 0.718127965927124), ('county', 0.7128278017044067), ('cities', 0.7056490778923035), ('town', 0.6909301280975342), ('seattle', 0.6875013709068298), ('boston', 0.681251049041748), ('detroit', 0.6778006553649902), ('san', 0.6774224638938904)] \n",
            "\n",
            "Words similar to 'food':\n",
            " [('crops', 0.8674372434616089), ('soil', 0.8346787095069885), ('sugar', 0.8204997181892395), ('foods', 0.811571478843689), ('chemicals', 0.8078399300575256), ('fish', 0.8044970035552979), ('dairy', 0.8012787699699402), ('pests', 0.7997677326202393), ('availability', 0.797749400138855), ('livestock', 0.7958837151527405)] \n",
            "\n",
            "Word not matching 'city, home, food, street':\n",
            " food \n",
            "\n",
            "Similarity between 'man' and 'woman' is greater than 80%:\n",
            " False \n",
            "\n",
            "Most similar word to 'napoleon': \n",
            " austrian: 0.9161\n",
            "Most similar word to 'child': \n",
            " parents: 0.7748\n",
            "Similarity between ['sushi', 'shop'] and ['japanese','restaurant']: 0.2301073\n"
          ]
        }
      ]
    },
    {
      "cell_type": "markdown",
      "source": [
        "# Add voice interactivity"
      ],
      "metadata": {
        "id": "QZHIJjXH2dsM"
      }
    },
    {
      "cell_type": "markdown",
      "source": [
        "## Speech-to-text"
      ],
      "metadata": {
        "id": "t6-9dpsyYzaJ"
      }
    },
    {
      "cell_type": "markdown",
      "source": [
        "For the speech-to-text it is possible to register the audio with the structure used in the tutorial during the course. To register, run block below with 'get_audio()'. The recording is then stored locally as file in the notebook. Since our the fine-tuned model require as input a question and a context, we record and store two files."
      ],
      "metadata": {
        "id": "AX8RH_vHjL-4"
      }
    },
    {
      "cell_type": "code",
      "source": [
        "AUDIO_HTML = \"\"\"\n",
        "<script>\n",
        "var my_div = document.createElement(\"DIV\");\n",
        "var my_p = document.createElement(\"P\");\n",
        "var my_btn = document.createElement(\"BUTTON\");\n",
        "var t = document.createTextNode(\"Press to start recording\");\n",
        "\n",
        "my_btn.appendChild(t);\n",
        "//my_p.appendChild(my_btn);\n",
        "my_div.appendChild(my_btn);\n",
        "document.body.appendChild(my_div);\n",
        "\n",
        "var base64data = 0;\n",
        "var reader;\n",
        "var recorder, gumStream;\n",
        "var recordButton = my_btn;\n",
        "\n",
        "var handleSuccess = function(stream) {\n",
        "  gumStream = stream;\n",
        "  var options = {\n",
        "    //bitsPerSecond: 8000, //chrome seems to ignore, always 48k\n",
        "    mimeType : 'audio/webm;codecs=opus'\n",
        "    //mimeType : 'audio/webm;codecs=pcm'\n",
        "  };\n",
        "  //recorder = new MediaRecorder(stream, options);\n",
        "  recorder = new MediaRecorder(stream);\n",
        "  recorder.ondataavailable = function(e) {\n",
        "    var url = URL.createObjectURL(e.data);\n",
        "    var preview = document.createElement('audio');\n",
        "    preview.controls = true;\n",
        "    preview.src = url;\n",
        "    document.body.appendChild(preview);\n",
        "\n",
        "    reader = new FileReader();\n",
        "    reader.readAsDataURL(e.data);\n",
        "    reader.onloadend = function() {\n",
        "      base64data = reader.result;\n",
        "      //console.log(\"Inside FileReader:\" + base64data);\n",
        "    }\n",
        "  };\n",
        "  recorder.start();\n",
        "  };\n",
        "\n",
        "recordButton.innerText = \"Recording... press to stop\";\n",
        "\n",
        "navigator.mediaDevices.getUserMedia({audio: true}).then(handleSuccess);\n",
        "\n",
        "\n",
        "function toggleRecording() {\n",
        "  if (recorder && recorder.state == \"recording\") {\n",
        "      recorder.stop();\n",
        "      gumStream.getAudioTracks()[0].stop();\n",
        "      recordButton.innerText = \"Saving the recording... pls wait!\"\n",
        "  }\n",
        "}\n",
        "\n",
        "// https://stackoverflow.com/a/951057\n",
        "function sleep(ms) {\n",
        "  return new Promise(resolve => setTimeout(resolve, ms));\n",
        "}\n",
        "\n",
        "var data = new Promise(resolve=>{\n",
        "//recordButton.addEventListener(\"click\", toggleRecording);\n",
        "recordButton.onclick = ()=>{\n",
        "toggleRecording()\n",
        "\n",
        "sleep(2000).then(() => {\n",
        "  // wait 2000ms for the data to be available...\n",
        "  // ideally this should use something like await...\n",
        "  //console.log(\"Inside data:\" + base64data)\n",
        "  resolve(base64data.toString())\n",
        "\n",
        "});\n",
        "\n",
        "}\n",
        "});\n",
        "\n",
        "</script>\n",
        "\"\"\"\n",
        "\n",
        "def get_audio():\n",
        "  display(HTML(AUDIO_HTML))\n",
        "  data = eval_js(\"data\")\n",
        "  binary = b64decode(data.split(',')[1])\n",
        "\n",
        "  process = (ffmpeg\n",
        "    .input('pipe:0')\n",
        "    .output('pipe:1', format='wav')\n",
        "    .run_async(pipe_stdin=True, pipe_stdout=True, pipe_stderr=True, quiet=True, overwrite_output=True)\n",
        "  )\n",
        "  output, err = process.communicate(input=binary)\n",
        "\n",
        "  riff_chunk_size = len(output) - 8\n",
        "  # Break up the chunk size into four bytes, held in b.\n",
        "  q = riff_chunk_size\n",
        "  b = []\n",
        "  for i in range(4):\n",
        "      q, r = divmod(q, 256)\n",
        "      b.append(r)\n",
        "\n",
        "  # Replace bytes 4:8 in proc.stdout with the actual size of the RIFF chunk.\n",
        "  riff = output[:4] + bytes(b) + output[8:]\n",
        "\n",
        "  sr, audio = wav_read(io.BytesIO(riff))\n",
        "\n",
        "  return audio, sr"
      ],
      "metadata": {
        "id": "hAcsMDxVjfT1"
      },
      "execution_count": null,
      "outputs": []
    },
    {
      "cell_type": "code",
      "source": [
        "# question -> 'Who is the president of the United States?'\n",
        "audio, sr = get_audio()\n",
        "audio = np.array(audio, dtype=float)\n",
        "# store custom audio file recorded - query\n",
        "scipy.io.wavfile.write('audio.wav', sr, audio)"
      ],
      "metadata": {
        "id": "0bBpLPSpjtKp",
        "colab": {
          "base_uri": "https://localhost:8080/",
          "height": 96
        },
        "outputId": "4b72f25e-e557-449f-dda7-f1fd8f7c5dc5"
      },
      "execution_count": null,
      "outputs": [
        {
          "output_type": "display_data",
          "data": {
            "text/plain": [
              "<IPython.core.display.HTML object>"
            ],
            "text/html": [
              "\n",
              "<script>\n",
              "var my_div = document.createElement(\"DIV\");\n",
              "var my_p = document.createElement(\"P\");\n",
              "var my_btn = document.createElement(\"BUTTON\");\n",
              "var t = document.createTextNode(\"Press to start recording\");\n",
              "\n",
              "my_btn.appendChild(t);\n",
              "//my_p.appendChild(my_btn);\n",
              "my_div.appendChild(my_btn);\n",
              "document.body.appendChild(my_div);\n",
              "\n",
              "var base64data = 0;\n",
              "var reader;\n",
              "var recorder, gumStream;\n",
              "var recordButton = my_btn;\n",
              "\n",
              "var handleSuccess = function(stream) {\n",
              "  gumStream = stream;\n",
              "  var options = {\n",
              "    //bitsPerSecond: 8000, //chrome seems to ignore, always 48k\n",
              "    mimeType : 'audio/webm;codecs=opus'\n",
              "    //mimeType : 'audio/webm;codecs=pcm'\n",
              "  };\n",
              "  //recorder = new MediaRecorder(stream, options);\n",
              "  recorder = new MediaRecorder(stream);\n",
              "  recorder.ondataavailable = function(e) {\n",
              "    var url = URL.createObjectURL(e.data);\n",
              "    var preview = document.createElement('audio');\n",
              "    preview.controls = true;\n",
              "    preview.src = url;\n",
              "    document.body.appendChild(preview);\n",
              "\n",
              "    reader = new FileReader();\n",
              "    reader.readAsDataURL(e.data);\n",
              "    reader.onloadend = function() {\n",
              "      base64data = reader.result;\n",
              "      //console.log(\"Inside FileReader:\" + base64data);\n",
              "    }\n",
              "  };\n",
              "  recorder.start();\n",
              "  };\n",
              "\n",
              "recordButton.innerText = \"Recording... press to stop\";\n",
              "\n",
              "navigator.mediaDevices.getUserMedia({audio: true}).then(handleSuccess);\n",
              "\n",
              "\n",
              "function toggleRecording() {\n",
              "  if (recorder && recorder.state == \"recording\") {\n",
              "      recorder.stop();\n",
              "      gumStream.getAudioTracks()[0].stop();\n",
              "      recordButton.innerText = \"Saving the recording... pls wait!\"\n",
              "  }\n",
              "}\n",
              "\n",
              "// https://stackoverflow.com/a/951057\n",
              "function sleep(ms) {\n",
              "  return new Promise(resolve => setTimeout(resolve, ms));\n",
              "}\n",
              "\n",
              "var data = new Promise(resolve=>{\n",
              "//recordButton.addEventListener(\"click\", toggleRecording);\n",
              "recordButton.onclick = ()=>{\n",
              "toggleRecording()\n",
              "\n",
              "sleep(2000).then(() => {\n",
              "  // wait 2000ms for the data to be available...\n",
              "  // ideally this should use something like await...\n",
              "  //console.log(\"Inside data:\" + base64data)\n",
              "  resolve(base64data.toString())\n",
              "\n",
              "});\n",
              "\n",
              "}\n",
              "});\n",
              "\n",
              "</script>\n"
            ]
          },
          "metadata": {}
        }
      ]
    },
    {
      "cell_type": "code",
      "source": [
        "# context -> 'Joe Biden is an american politician who is the current president of the united states. He has been vice president from 2009 to 2017 '\n",
        "audio_context, sr_context = get_audio()\n",
        "audio_context = np.array(audio_context, dtype=float)\n",
        "scipy.io.wavfile.write('audio_context.wav', sr_context, audio_context)"
      ],
      "metadata": {
        "id": "WWFjc5smfTQn",
        "colab": {
          "base_uri": "https://localhost:8080/",
          "height": 96
        },
        "outputId": "84ee3c8f-e25d-430e-8fd3-45a694182461"
      },
      "execution_count": null,
      "outputs": [
        {
          "output_type": "display_data",
          "data": {
            "text/plain": [
              "<IPython.core.display.HTML object>"
            ],
            "text/html": [
              "\n",
              "<script>\n",
              "var my_div = document.createElement(\"DIV\");\n",
              "var my_p = document.createElement(\"P\");\n",
              "var my_btn = document.createElement(\"BUTTON\");\n",
              "var t = document.createTextNode(\"Press to start recording\");\n",
              "\n",
              "my_btn.appendChild(t);\n",
              "//my_p.appendChild(my_btn);\n",
              "my_div.appendChild(my_btn);\n",
              "document.body.appendChild(my_div);\n",
              "\n",
              "var base64data = 0;\n",
              "var reader;\n",
              "var recorder, gumStream;\n",
              "var recordButton = my_btn;\n",
              "\n",
              "var handleSuccess = function(stream) {\n",
              "  gumStream = stream;\n",
              "  var options = {\n",
              "    //bitsPerSecond: 8000, //chrome seems to ignore, always 48k\n",
              "    mimeType : 'audio/webm;codecs=opus'\n",
              "    //mimeType : 'audio/webm;codecs=pcm'\n",
              "  };\n",
              "  //recorder = new MediaRecorder(stream, options);\n",
              "  recorder = new MediaRecorder(stream);\n",
              "  recorder.ondataavailable = function(e) {\n",
              "    var url = URL.createObjectURL(e.data);\n",
              "    var preview = document.createElement('audio');\n",
              "    preview.controls = true;\n",
              "    preview.src = url;\n",
              "    document.body.appendChild(preview);\n",
              "\n",
              "    reader = new FileReader();\n",
              "    reader.readAsDataURL(e.data);\n",
              "    reader.onloadend = function() {\n",
              "      base64data = reader.result;\n",
              "      //console.log(\"Inside FileReader:\" + base64data);\n",
              "    }\n",
              "  };\n",
              "  recorder.start();\n",
              "  };\n",
              "\n",
              "recordButton.innerText = \"Recording... press to stop\";\n",
              "\n",
              "navigator.mediaDevices.getUserMedia({audio: true}).then(handleSuccess);\n",
              "\n",
              "\n",
              "function toggleRecording() {\n",
              "  if (recorder && recorder.state == \"recording\") {\n",
              "      recorder.stop();\n",
              "      gumStream.getAudioTracks()[0].stop();\n",
              "      recordButton.innerText = \"Saving the recording... pls wait!\"\n",
              "  }\n",
              "}\n",
              "\n",
              "// https://stackoverflow.com/a/951057\n",
              "function sleep(ms) {\n",
              "  return new Promise(resolve => setTimeout(resolve, ms));\n",
              "}\n",
              "\n",
              "var data = new Promise(resolve=>{\n",
              "//recordButton.addEventListener(\"click\", toggleRecording);\n",
              "recordButton.onclick = ()=>{\n",
              "toggleRecording()\n",
              "\n",
              "sleep(2000).then(() => {\n",
              "  // wait 2000ms for the data to be available...\n",
              "  // ideally this should use something like await...\n",
              "  //console.log(\"Inside data:\" + base64data)\n",
              "  resolve(base64data.toString())\n",
              "\n",
              "});\n",
              "\n",
              "}\n",
              "});\n",
              "\n",
              "</script>\n"
            ]
          },
          "metadata": {}
        }
      ]
    },
    {
      "cell_type": "markdown",
      "source": [
        "### audio analysis\n",
        "Plot the amplitude with respect to the samples (sr stands for sampling rate, and 1sr = sampling rate of 1 Hz = 1 sampling per second)."
      ],
      "metadata": {
        "id": "CmCVqiYolGNi"
      }
    },
    {
      "cell_type": "code",
      "source": [
        "# question\n",
        "fig = plt.figure(figsize=(16, 6))\n",
        "plt.plot(audio, linewidth=0.2)\n",
        "plt.ylabel('Amplitude')\n",
        "plt.xlabel('Samples')\n",
        "plt.title('Question audio signal')\n",
        "plt.show()\n",
        "\n",
        "# context\n",
        "fig = plt.figure(figsize=(16, 6))\n",
        "plt.plot(audio_context, linewidth=0.2)\n",
        "plt.ylabel('Amplitude')\n",
        "plt.xlabel('Samples')\n",
        "plt.title('Context audio signal')\n",
        "plt.show()"
      ],
      "metadata": {
        "id": "BjEP1BhKdyAx",
        "colab": {
          "base_uri": "https://localhost:8080/",
          "height": 1000
        },
        "outputId": "8dabe7cd-7c46-4a97-d8c7-de787070a2c7"
      },
      "execution_count": null,
      "outputs": [
        {
          "output_type": "display_data",
          "data": {
            "text/plain": [
              "<Figure size 1600x600 with 1 Axes>"
            ],
            "image/png": "[encoded data removed]"
          },
          "metadata": {}
        },
        {
          "output_type": "display_data",
          "data": {
            "text/plain": [
              "<Figure size 1600x600 with 1 Axes>"
            ],
            "image/png": "[encoded data removed]"
          },
          "metadata": {}
        }
      ]
    },
    {
      "cell_type": "markdown",
      "source": [
        "Plot the amplitude with respect to time, knowing how many samples we have per second (sr) and the total duration of the audio file"
      ],
      "metadata": {
        "id": "V8Jprv0Tm-6X"
      }
    },
    {
      "cell_type": "code",
      "source": [
        "# question\n",
        "# get duration in seconds\n",
        "audio_length = librosa.get_duration(y=audio, sr=sr)\n",
        "size_audio = len(audio)\n",
        "print(\"Duration of the custom question audio signal:\", audio_length, \"s.\\n\")\n",
        "fig = plt.figure(figsize=(16, 6))\n",
        "# change x axis to take into consideration time and not samples\n",
        "plt.plot(np.linspace(0, audio_length, size_audio), audio, linewidth=0.2)\n",
        "plt.ylabel('Amplitude')\n",
        "plt.xlabel('Time(s)')\n",
        "plt.show()\n",
        "\n",
        "# context\n",
        "audio_length_context = librosa.get_duration(y=audio_context, sr=sr_context)\n",
        "size_audio_context = len(audio_context)\n",
        "print(\"Duration of the custom context audio signal:\", audio_length_context, \"s.\\n\")\n",
        "fig = plt.figure(figsize=(16, 6))\n",
        "plt.plot(np.linspace(0, audio_length_context, size_audio_context), audio_context, linewidth=0.2)\n",
        "plt.ylabel('Amplitude')\n",
        "plt.xlabel('Time(s)')\n",
        "plt.show()\n",
        "\n",
        "\n"
      ],
      "metadata": {
        "id": "6NxWR9JBpLZY",
        "colab": {
          "base_uri": "https://localhost:8080/",
          "height": 1000
        },
        "outputId": "a8f3f7f8-a5b6-4253-dfa3-3f29570a66b9"
      },
      "execution_count": null,
      "outputs": [
        {
          "output_type": "stream",
          "name": "stdout",
          "text": [
            "Duration of the custom question audio signal: 4.68 s.\n",
            "\n"
          ]
        },
        {
          "output_type": "display_data",
          "data": {
            "text/plain": [
              "<Figure size 1600x600 with 1 Axes>"
            ],
            "image/png": "[encoded data removed]"
          },
          "metadata": {}
        },
        {
          "output_type": "stream",
          "name": "stdout",
          "text": [
            "Duration of the custom context audio signal: 12.0 s.\n",
            "\n"
          ]
        },
        {
          "output_type": "display_data",
          "data": {
            "text/plain": [
              "<Figure size 1600x600 with 1 Axes>"
            ],
            "image/png": "[encoded data removed]"
          },
          "metadata": {}
        }
      ]
    },
    {
      "cell_type": "markdown",
      "source": [
        "### Windowing\n",
        "In general a signal is represented using frequency which is another measure of the wave in addition to the amplitude, and this is permitted by the Fast Fourier Transform (which permits to move from the time domain to the frequency domain). Before its implementation we need to ensure to make it work in the best way possible. This method has some limitation, thus it is required to perform some modifications on the signal before using it, that is, windowing. The assumption done by the FFT is that there is a finite set of data. It sees the time wave as circular, then as the two endpoints (edges) are connected, expecting the signal to have an integer number of periods. The problem is that often the two endpoints of the wave signal doesn't match (not continuous if connected together), thus not having an integer number of periods. This causes in the result of the FFT peaks of high frequency (sharp transitions) which are not present in the original signal, which cause a distorted result. Windowing is used to reduce these peaks by segmenting the signal into windows and smoothing the signal toward zero at the endpoints.\n",
        "\n",
        "Different windowing methods can be used, and the Hann windowing is the one who permits the signal to touches the 0 value amplitude at the edges by smoothing the signal, thus removing all discontinuities."
      ],
      "metadata": {
        "id": "Ywi7miny2JzC"
      }
    },
    {
      "cell_type": "markdown",
      "source": [
        "### Mel histogram"
      ],
      "metadata": {
        "id": "sGM-lmFS-YTm"
      }
    },
    {
      "cell_type": "markdown",
      "source": [
        "In the mel histogram a non-linear function is applied to the frequency scale motivated by the human perception of sound (approximates the response of human ear to different frequencies). This is done since human ears are more sensible to changes in pitch at low frequencies rather than at high frequencies. In addition decibels are associated to frequency through a logarithmic scale, i.e. a small change in decibels results in a big variation in frequency."
      ],
      "metadata": {
        "id": "Yrctl5He_Tvx"
      }
    },
    {
      "cell_type": "code",
      "source": [
        "nr_samples = int(math.floor(0.025*sr))\n",
        "overlapping = int(math.floor(0.01*sr))\n",
        "time_axis = np.arange(0, audio_length, 0.5)\n",
        "\n",
        "# question\n",
        "mel_spec = librosa.feature.melspectrogram(y=audio, sr=sr)\n",
        "\n",
        "plt.figure(figsize=(10, 4))\n",
        "librosa.display.specshow(librosa.power_to_db(mel_spec, ref=np.max), sr=sr, hop_length=overlapping, x_axis='time', y_axis='mel')\n",
        "plt.colorbar(format='%+2.0f dB')\n",
        "plt.title('Mel histogram for question audio signal')\n",
        "plt.show()\n",
        "\n",
        "# context\n",
        "mel_spec_context = librosa.feature.melspectrogram(y=audio_context, sr=sr_context)\n",
        "plt.figure(figsize=(10, 4))\n",
        "librosa.display.specshow(librosa.power_to_db(mel_spec_context, ref=np.max), sr=sr_context, hop_length=overlapping, x_axis='time', y_axis='mel')\n",
        "plt.colorbar(format='%+2.0f dB')\n",
        "plt.title('Mel histogram for context audio signal')\n",
        "plt.show()"
      ],
      "metadata": {
        "id": "uD9f1t56-dOM",
        "colab": {
          "base_uri": "https://localhost:8080/",
          "height": 803
        },
        "outputId": "2ed7513a-d2f5-4fca-84fe-1884fd949490"
      },
      "execution_count": null,
      "outputs": [
        {
          "output_type": "display_data",
          "data": {
            "text/plain": [
              "<Figure size 1000x400 with 2 Axes>"
            ],
            "image/png": "[encoded data removed]"
          },
          "metadata": {}
        },
        {
          "output_type": "display_data",
          "data": {
            "text/plain": [
              "<Figure size 1000x400 with 2 Axes>"
            ],
            "image/png": "[encoded data removed]"
          },
          "metadata": {}
        }
      ]
    },
    {
      "cell_type": "markdown",
      "source": [
        "### Whisper model\n",
        "The whisper model is the state of art of speech recognition: it permits a robust speech processing as well as the ability to recognise multiple languages. In this project we assume spoken questions are passed in English.\n",
        "\n",
        "Even if we use one of the most powerful model, passing directly the .wav recordings doesn't permit to get most of the times a correct transcription which is very important in our project. We tried to use the large model and the precision improved, however the results are not as the level as we expected. A solution is to preprocess the audio files in combination with the usage of the large model: we apply normalisation (usually done also for images) which permit to speed up convergence, to improve generalisation (less sensitive to variations), etc., as well as noise reduction to have a clearer recording. The results improve even more if the recording is done with an artificial voice (e.g. the one of Google translator), since persons are not able to clearly spell out words.\n"
      ],
      "metadata": {
        "id": "O8jXu9RBZLIz"
      }
    },
    {
      "cell_type": "code",
      "source": [
        "model = whisper.load_model(\"large\")"
      ],
      "metadata": {
        "id": "rYlTHVXRZsFy",
        "colab": {
          "base_uri": "https://localhost:8080/"
        },
        "outputId": "b784a8fe-caad-4a89-8106-ac3bae6107bf"
      },
      "execution_count": null,
      "outputs": [
        {
          "output_type": "stream",
          "name": "stderr",
          "text": [
            "100%|█████████████████████████████████████| 2.88G/2.88G [00:41<00:00, 75.1MiB/s]\n"
          ]
        }
      ]
    },
    {
      "cell_type": "code",
      "source": [
        "# result without preprocessing\n",
        "# question\n",
        "result = model.transcribe('audio.wav')\n",
        "print(\"Transcription of the custom question audio: \", result['text'])\n",
        "\n",
        "# context\n",
        "result_context = model.transcribe('audio_context.wav')\n",
        "print(\"Transcription of the custom context audio: \", result_context['text'])"
      ],
      "metadata": {
        "id": "Nw-7CIYsqdXu",
        "colab": {
          "base_uri": "https://localhost:8080/"
        },
        "outputId": "9ddfb2ef-568b-44c6-c88f-e9bc728e87a5"
      },
      "execution_count": null,
      "outputs": [
        {
          "output_type": "stream",
          "name": "stderr",
          "text": [
            "/usr/local/lib/python3.10/dist-packages/whisper/transcribe.py:115: UserWarning: FP16 is not supported on CPU; using FP32 instead\n",
            "  warnings.warn(\"FP16 is not supported on CPU; using FP32 instead\")\n"
          ]
        },
        {
          "output_type": "stream",
          "name": "stdout",
          "text": [
            "Transcription of the custom question audio:   Who is the President of the United States?\n"
          ]
        },
        {
          "output_type": "stream",
          "name": "stderr",
          "text": [
            "/usr/local/lib/python3.10/dist-packages/whisper/transcribe.py:115: UserWarning: FP16 is not supported on CPU; using FP32 instead\n",
            "  warnings.warn(\"FP16 is not supported on CPU; using FP32 instead\")\n"
          ]
        },
        {
          "output_type": "stream",
          "name": "stdout",
          "text": [
            "Transcription of the custom context audio:   Joe Biden is an American politician who is the current President of the United States. He has been Vice President from 2009 to 2017.\n"
          ]
        }
      ]
    },
    {
      "cell_type": "code",
      "source": [
        "import noisereduce as nr\n",
        "# result with preprocessing audio files\n",
        "# normalize audio using mean and standard deviation and reduce noise\n",
        "\n",
        "# question\n",
        "# Compute mean and standard deviation\n",
        "mean_value = np.mean(audio)\n",
        "std_dev = np.std(audio)\n",
        "# Normalize the audio\n",
        "normalized_audio = (audio - mean_value) / std_dev\n",
        "# reduce noise\n",
        "reduced_noise = nr.reduce_noise(y=normalized_audio, sr=sr)\n",
        "# store new  preprocessed audio file recorded before\n",
        "scipy.io.wavfile.write('audio.wav', sr, reduced_noise)\n",
        "\n",
        "# context\n",
        "mean_value_context = np.mean(audio_context)\n",
        "std_dev_context = np.std(audio_context)\n",
        "normalized_audio_context = (audio_context - mean_value_context) / std_dev_context\n",
        "reduced_noise_context = nr.reduce_noise(y=normalized_audio_context, sr=sr_context)\n",
        "scipy.io.wavfile.write('audio_context.wav', sr_context, reduced_noise_context)"
      ],
      "metadata": {
        "id": "xe_Da1z3pRE5"
      },
      "execution_count": null,
      "outputs": []
    },
    {
      "cell_type": "code",
      "source": [
        "result = model.transcribe('audio.wav')\n",
        "print(\"Transcription of the custom question audio:\", result['text'])\n",
        "\n",
        "result_context = model.transcribe('audio_context.wav')\n",
        "print(\"Transcription of the custom context audio:\", result_context['text'])\n",
        "\n",
        "question = result['text']\n",
        "context = result_context['text']"
      ],
      "metadata": {
        "id": "o5EEtkinaxtK",
        "colab": {
          "base_uri": "https://localhost:8080/"
        },
        "outputId": "53221766-304b-4db1-f4bd-a0a56ae8f75a"
      },
      "execution_count": null,
      "outputs": [
        {
          "output_type": "stream",
          "name": "stderr",
          "text": [
            "/usr/local/lib/python3.10/dist-packages/whisper/transcribe.py:115: UserWarning: FP16 is not supported on CPU; using FP32 instead\n",
            "  warnings.warn(\"FP16 is not supported on CPU; using FP32 instead\")\n"
          ]
        },
        {
          "output_type": "stream",
          "name": "stdout",
          "text": [
            "Transcription of the custom question audio:  Who is the President of the United States?\n"
          ]
        },
        {
          "output_type": "stream",
          "name": "stderr",
          "text": [
            "/usr/local/lib/python3.10/dist-packages/whisper/transcribe.py:115: UserWarning: FP16 is not supported on CPU; using FP32 instead\n",
            "  warnings.warn(\"FP16 is not supported on CPU; using FP32 instead\")\n"
          ]
        },
        {
          "output_type": "stream",
          "name": "stdout",
          "text": [
            "Transcription of the custom context audio:  Joe Biden is an American politician who is the current President of the United States. He has been Vice President from 2009 to 2017.\n"
          ]
        }
      ]
    },
    {
      "cell_type": "markdown",
      "source": [
        "## Fine-tuned model - BertForQuestionAnswering"
      ],
      "metadata": {
        "id": "8tl7VT5AuZEY"
      }
    },
    {
      "cell_type": "code",
      "source": [
        "# Define the bert tokenizer\n",
        "tokenizer = AutoTokenizer.from_pretrained('bert-base-uncased')\n",
        "\n",
        "# Load the fine-tuned model\n",
        "model = torch.load(\"/content/drive/MyDrive/finetunedmodel\",map_location=torch.device('cpu'))\n",
        "\n",
        "model.eval()"
      ],
      "metadata": {
        "id": "2qhxHBvHuhB1",
        "colab": {
          "base_uri": "https://localhost:8080/",
          "height": 943,
          "referenced_widgets": [
            "47879e82d37d43d0a3fcb74bd46416cb",
            "e031bd621c6748f9ab9961474afc874d",
            "8fa050281912437d9c5d8bf17e346d2d",
            "dc92760c825e4341bc59e44bf6fd44a2",
            "63ba12204beb432ea8f8fc528a419493",
            "502d36434ac447e79995cafbedc9235a",
            "9d3f92ce5f1c433bb29ec8b5ec07f2ef",
            "36d9cd90cdf14a9da17a260b65ed1ae4",
            "3c5bb1cc888342cd9f9463c37bac4a00",
            "e5912ca6926042eda72ea3534a4020c2",
            "b1fb334f2dbd4d0f85f16a9498a30744",
            "24f6668eb9fe41d78e658469b01342c1",
            "e29b055a3d6a43ada2604a709a566d87",
            "7fb687ca5dd7419ba39d11275a430f01",
            "8f6ae91e437841af9cf704cc5151cab0",
            "decae3446c73473c9d205ae0ad1f68db",
            "fffcd535ec324bce90ba39106453cf65",
            "8cd57433b18f413886d87cab271ba36c",
            "2c46c092095e416fa78becf92e1b63a9",
            "f20392e3a80543e2b0a520ab0f485fe2",
            "b249920ee0874be4a3f12cb32d38f8df",
            "c13afbf5f77742ec9d0509712c4b733d",
            "f1308106e94a4da38e493a707b5df245",
            "23607b7a299b4b80bed51bfedeedd8e8",
            "b8cfd284b9d94fe5897f6bea7b5fe507",
            "6fb6e672099f462c86e655cd510852dd",
            "bc1d2daab54d4fe8b2ada728b1009c2e",
            "86d14a05060a428d84142c8716d889f1",
            "8be7c14156a144378969ed1d862fee5b",
            "54bd0e77b36b4e1db07f8049f071eb4e",
            "ada8a094a5b54bbfaab75d6dcceef517",
            "608b8a5c2a6c47b59173a3071d9eb071",
            "6674babd9a34440c83994003b4ea7201",
            "57aa095c466a4ace9443cf3616f2bf97",
            "2e077ce9d6434738b52b212b913a6eef",
            "5da285abfded4e8e8f5cf27e048e3857",
            "94dc61f4646f485fa0205f37445fb5d0",
            "fe7cb29598f5499fa4f4256dde531f5e",
            "bc9ff51f6d674b82ba56801738b64d5f",
            "e065f014027f48d8bb889b541e43e40b",
            "e29e46e071794a788e03f23c8c734d17",
            "3d88a355125242f38b308e33321894eb",
            "1e679d000e4040d992b6731891cc926c",
            "abf59b5c98984c829bcd2af12958c0d9"
          ]
        },
        "outputId": "95266f50-a4a3-4c0e-aac9-fd83e49d69b8"
      },
      "execution_count": null,
      "outputs": [
        {
          "output_type": "stream",
          "name": "stderr",
          "text": [
            "/usr/local/lib/python3.10/dist-packages/huggingface_hub/utils/_token.py:88: UserWarning: \n",
            "The secret `HF_TOKEN` does not exist in your Colab secrets.\n",
            "To authenticate with the Hugging Face Hub, create a token in your settings tab (https://huggingface.co/settings/tokens), set it as secret in your Google Colab and restart your session.\n",
            "You will be able to reuse this secret in all of your notebooks.\n",
            "Please note that authentication is recommended but still optional to access public models or datasets.\n",
            "  warnings.warn(\n"
          ]
        },
        {
          "output_type": "display_data",
          "data": {
            "text/plain": [
              "tokenizer_config.json:   0%|          | 0.00/28.0 [00:00<?, ?B/s]"
            ],
            "application/vnd.jupyter.widget-view+json": {
              "version_major": 2,
              "version_minor": 0,
              "model_id": "47879e82d37d43d0a3fcb74bd46416cb"
            }
          },
          "metadata": {}
        },
        {
          "output_type": "display_data",
          "data": {
            "text/plain": [
              "config.json:   0%|          | 0.00/570 [00:00<?, ?B/s]"
            ],
            "application/vnd.jupyter.widget-view+json": {
              "version_major": 2,
              "version_minor": 0,
              "model_id": "24f6668eb9fe41d78e658469b01342c1"
            }
          },
          "metadata": {}
        },
        {
          "output_type": "display_data",
          "data": {
            "text/plain": [
              "vocab.txt:   0%|          | 0.00/232k [00:00<?, ?B/s]"
            ],
            "application/vnd.jupyter.widget-view+json": {
              "version_major": 2,
              "version_minor": 0,
              "model_id": "f1308106e94a4da38e493a707b5df245"
            }
          },
          "metadata": {}
        },
        {
          "output_type": "display_data",
          "data": {
            "text/plain": [
              "tokenizer.json:   0%|          | 0.00/466k [00:00<?, ?B/s]"
            ],
            "application/vnd.jupyter.widget-view+json": {
              "version_major": 2,
              "version_minor": 0,
              "model_id": "57aa095c466a4ace9443cf3616f2bf97"
            }
          },
          "metadata": {}
        },
        {
          "output_type": "execute_result",
          "data": {
            "text/plain": [
              "BertForQuestionAnswering(\n",
              "  (bert): BertModel(\n",
              "    (embeddings): BertEmbeddings(\n",
              "      (word_embeddings): Embedding(30522, 768, padding_idx=0)\n",
              "      (position_embeddings): Embedding(512, 768)\n",
              "      (token_type_embeddings): Embedding(2, 768)\n",
              "      (LayerNorm): LayerNorm((768,), eps=1e-12, elementwise_affine=True)\n",
              "      (dropout): Dropout(p=0.1, inplace=False)\n",
              "    )\n",
              "    (encoder): BertEncoder(\n",
              "      (layer): ModuleList(\n",
              "        (0-11): 12 x BertLayer(\n",
              "          (attention): BertAttention(\n",
              "            (self): BertSelfAttention(\n",
              "              (query): Linear(in_features=768, out_features=768, bias=True)\n",
              "              (key): Linear(in_features=768, out_features=768, bias=True)\n",
              "              (value): Linear(in_features=768, out_features=768, bias=True)\n",
              "              (dropout): Dropout(p=0.1, inplace=False)\n",
              "            )\n",
              "            (output): BertSelfOutput(\n",
              "              (dense): Linear(in_features=768, out_features=768, bias=True)\n",
              "              (LayerNorm): LayerNorm((768,), eps=1e-12, elementwise_affine=True)\n",
              "              (dropout): Dropout(p=0.1, inplace=False)\n",
              "            )\n",
              "          )\n",
              "          (intermediate): BertIntermediate(\n",
              "            (dense): Linear(in_features=768, out_features=3072, bias=True)\n",
              "            (intermediate_act_fn): GELUActivation()\n",
              "          )\n",
              "          (output): BertOutput(\n",
              "            (dense): Linear(in_features=3072, out_features=768, bias=True)\n",
              "            (LayerNorm): LayerNorm((768,), eps=1e-12, elementwise_affine=True)\n",
              "            (dropout): Dropout(p=0.1, inplace=False)\n",
              "          )\n",
              "        )\n",
              "      )\n",
              "    )\n",
              "  )\n",
              "  (qa_outputs): Linear(in_features=768, out_features=2, bias=True)\n",
              ")"
            ]
          },
          "metadata": {},
          "execution_count": 23
        }
      ]
    },
    {
      "cell_type": "markdown",
      "source": [
        "The question and context are passed to the fine-tuned model after a tokenization and the answer is generated."
      ],
      "metadata": {
        "id": "Bv_uV-XGQYEk"
      }
    },
    {
      "cell_type": "code",
      "source": [
        "inputs = tokenizer.encode_plus(question, context, return_tensors='pt')\n",
        "\n",
        "outputs = model(**inputs)\n",
        "# get the most likely beginning of answer with the argmax of the score\n",
        "answer_start = torch.argmax(outputs[0])\n",
        "answer_end = torch.argmax(outputs[1]) + 1\n",
        "\n",
        "answer = tokenizer.convert_tokens_to_string(tokenizer.convert_ids_to_tokens(inputs['input_ids'][0][answer_start:answer_end]))\n",
        "print(answer)"
      ],
      "metadata": {
        "id": "Q9xbBE_m7QEx",
        "colab": {
          "base_uri": "https://localhost:8080/"
        },
        "outputId": "227280f0-5360-4468-923e-3799fc6ba372"
      },
      "execution_count": null,
      "outputs": [
        {
          "output_type": "stream",
          "name": "stdout",
          "text": [
            "joe biden\n"
          ]
        }
      ]
    },
    {
      "cell_type": "markdown",
      "source": [
        "## Text-to-speech"
      ],
      "metadata": {
        "id": "MenLrITw3ugS"
      }
    },
    {
      "cell_type": "markdown",
      "source": [
        "For transforming text to speech we employ the Tacotron2 as well as WaveGlow. Tacotron2 is able to produce Mel spectrogram from a given text using an encoder-decoder architecture, thus we need WaveGlow which is able to produce audio files from Mel spectrograms. We load the Tacotron2 model pre-trained on LJ Speech dataset from NVIDIA's Deep Learning Examples repository as well as the pretrained WaveGlow model."
      ],
      "metadata": {
        "id": "slkJ6fBY48_D"
      }
    },
    {
      "cell_type": "markdown",
      "source": [
        "For better performance tacotron2 and waveglow are moved to the GPU if available ('cuda'), and they're then moved to the evaluation mode (remotion of some layers which are not necessary outside the training part). Weight normalisation is removed from waveglow since it is used for training purposes."
      ],
      "metadata": {
        "id": "qg5ePXor6TKJ"
      }
    },
    {
      "cell_type": "code",
      "source": [
        "import torch\n",
        "tacotron2 = torch.hub.load('NVIDIA/DeepLearningExamples:torchhub', 'nvidia_tacotron2', model_math='fp16')\n",
        "tacotron2 = tacotron2.to('cuda')\n",
        "tacotron2.eval()"
      ],
      "metadata": {
        "id": "ZSVuu9GS6CK2",
        "colab": {
          "base_uri": "https://localhost:8080/",
          "height": 533
        },
        "outputId": "5fe3197a-0308-4c15-9640-9b60730b01ba"
      },
      "execution_count": null,
      "outputs": [
        {
          "output_type": "stream",
          "name": "stderr",
          "text": [
            "/usr/local/lib/python3.10/dist-packages/torch/hub.py:294: UserWarning: You are about to download and run code from an untrusted repository. In a future release, this won't be allowed. To add the repository to your trusted list, change the command to {calling_fn}(..., trust_repo=False) and a command prompt will appear asking for an explicit confirmation of trust, or load(..., trust_repo=True), which will assume that the prompt is to be answered with 'yes'. You can also use load(..., trust_repo='check') which will only prompt for confirmation if the repo is not already trusted. This will eventually be the default behaviour\n",
            "  warnings.warn(\n",
            "Downloading: \"https://github.com/NVIDIA/DeepLearningExamples/zipball/torchhub\" to /root/.cache/torch/hub/torchhub.zip\n",
            "/root/.cache/torch/hub/NVIDIA_DeepLearningExamples_torchhub/PyTorch/Classification/ConvNets/image_classification/models/common.py:13: UserWarning: pytorch_quantization module not found, quantization will not be available\n",
            "  warnings.warn(\n",
            "/root/.cache/torch/hub/NVIDIA_DeepLearningExamples_torchhub/PyTorch/Classification/ConvNets/image_classification/models/efficientnet.py:17: UserWarning: pytorch_quantization module not found, quantization will not be available\n",
            "  warnings.warn(\n",
            "Downloading checkpoint from https://api.ngc.nvidia.com/v2/models/nvidia/tacotron2_pyt_ckpt_amp/versions/19.09.0/files/nvidia_tacotron2pyt_fp16_20190427\n"
          ]
        },
        {
          "output_type": "error",
          "ename": "RuntimeError",
          "evalue": "Attempting to deserialize object on a CUDA device but torch.cuda.is_available() is False. If you are running on a CPU-only machine, please use torch.load with map_location=torch.device('cpu') to map your storages to the CPU.",
          "traceback": [
            "\u001b[0;31m---------------------------------------------------------------------------\u001b[0m",
            "\u001b[0;31mRuntimeError\u001b[0m                              Traceback (most recent call last)",
            "\u001b[0;32m<ipython-input-25-c0662b81a102>\u001b[0m in \u001b[0;36m<cell line: 2>\u001b[0;34m()\u001b[0m\n\u001b[1;32m      1\u001b[0m \u001b[0;32mimport\u001b[0m \u001b[0mtorch\u001b[0m\u001b[0;34m\u001b[0m\u001b[0;34m\u001b[0m\u001b[0m\n\u001b[0;32m----> 2\u001b[0;31m \u001b[0mtacotron2\u001b[0m \u001b[0;34m=\u001b[0m \u001b[0mtorch\u001b[0m\u001b[0;34m.\u001b[0m\u001b[0mhub\u001b[0m\u001b[0;34m.\u001b[0m\u001b[0mload\u001b[0m\u001b[0;34m(\u001b[0m\u001b[0;34m'NVIDIA/DeepLearningExamples:torchhub'\u001b[0m\u001b[0;34m,\u001b[0m \u001b[0;34m'nvidia_tacotron2'\u001b[0m\u001b[0;34m,\u001b[0m \u001b[0mmodel_math\u001b[0m\u001b[0;34m=\u001b[0m\u001b[0;34m'fp16'\u001b[0m\u001b[0;34m)\u001b[0m\u001b[0;34m\u001b[0m\u001b[0;34m\u001b[0m\u001b[0m\n\u001b[0m\u001b[1;32m      3\u001b[0m \u001b[0mtacotron2\u001b[0m \u001b[0;34m=\u001b[0m \u001b[0mtacotron2\u001b[0m\u001b[0;34m.\u001b[0m\u001b[0mto\u001b[0m\u001b[0;34m(\u001b[0m\u001b[0;34m'cuda'\u001b[0m\u001b[0;34m)\u001b[0m\u001b[0;34m\u001b[0m\u001b[0;34m\u001b[0m\u001b[0m\n\u001b[1;32m      4\u001b[0m \u001b[0mtacotron2\u001b[0m\u001b[0;34m.\u001b[0m\u001b[0meval\u001b[0m\u001b[0;34m(\u001b[0m\u001b[0;34m)\u001b[0m\u001b[0;34m\u001b[0m\u001b[0;34m\u001b[0m\u001b[0m\n",
            "\u001b[0;32m/usr/local/lib/python3.10/dist-packages/torch/hub.py\u001b[0m in \u001b[0;36mload\u001b[0;34m(repo_or_dir, model, source, trust_repo, force_reload, verbose, skip_validation, *args, **kwargs)\u001b[0m\n\u001b[1;32m    564\u001b[0m                                            verbose=verbose, skip_validation=skip_validation)\n\u001b[1;32m    565\u001b[0m \u001b[0;34m\u001b[0m\u001b[0m\n\u001b[0;32m--> 566\u001b[0;31m     \u001b[0mmodel\u001b[0m \u001b[0;34m=\u001b[0m \u001b[0m_load_local\u001b[0m\u001b[0;34m(\u001b[0m\u001b[0mrepo_or_dir\u001b[0m\u001b[0;34m,\u001b[0m \u001b[0mmodel\u001b[0m\u001b[0;34m,\u001b[0m \u001b[0;34m*\u001b[0m\u001b[0margs\u001b[0m\u001b[0;34m,\u001b[0m \u001b[0;34m**\u001b[0m\u001b[0mkwargs\u001b[0m\u001b[0;34m)\u001b[0m\u001b[0;34m\u001b[0m\u001b[0;34m\u001b[0m\u001b[0m\n\u001b[0m\u001b[1;32m    567\u001b[0m     \u001b[0;32mreturn\u001b[0m \u001b[0mmodel\u001b[0m\u001b[0;34m\u001b[0m\u001b[0;34m\u001b[0m\u001b[0m\n\u001b[1;32m    568\u001b[0m \u001b[0;34m\u001b[0m\u001b[0m\n",
            "\u001b[0;32m/usr/local/lib/python3.10/dist-packages/torch/hub.py\u001b[0m in \u001b[0;36m_load_local\u001b[0;34m(hubconf_dir, model, *args, **kwargs)\u001b[0m\n\u001b[1;32m    593\u001b[0m \u001b[0;34m\u001b[0m\u001b[0m\n\u001b[1;32m    594\u001b[0m         \u001b[0mentry\u001b[0m \u001b[0;34m=\u001b[0m \u001b[0m_load_entry_from_hubconf\u001b[0m\u001b[0;34m(\u001b[0m\u001b[0mhub_module\u001b[0m\u001b[0;34m,\u001b[0m \u001b[0mmodel\u001b[0m\u001b[0;34m)\u001b[0m\u001b[0;34m\u001b[0m\u001b[0;34m\u001b[0m\u001b[0m\n\u001b[0;32m--> 595\u001b[0;31m         \u001b[0mmodel\u001b[0m \u001b[0;34m=\u001b[0m \u001b[0mentry\u001b[0m\u001b[0;34m(\u001b[0m\u001b[0;34m*\u001b[0m\u001b[0margs\u001b[0m\u001b[0;34m,\u001b[0m \u001b[0;34m**\u001b[0m\u001b[0mkwargs\u001b[0m\u001b[0;34m)\u001b[0m\u001b[0;34m\u001b[0m\u001b[0;34m\u001b[0m\u001b[0m\n\u001b[0m\u001b[1;32m    596\u001b[0m \u001b[0;34m\u001b[0m\u001b[0m\n\u001b[1;32m    597\u001b[0m     \u001b[0;32mreturn\u001b[0m \u001b[0mmodel\u001b[0m\u001b[0;34m\u001b[0m\u001b[0;34m\u001b[0m\u001b[0m\n",
            "\u001b[0;32m~/.cache/torch/hub/NVIDIA_DeepLearningExamples_torchhub/PyTorch/SpeechSynthesis/Tacotron2/tacotron2/entrypoints.py\u001b[0m in \u001b[0;36mnvidia_tacotron2\u001b[0;34m(pretrained, **kwargs)\u001b[0m\n\u001b[1;32m     97\u001b[0m             \u001b[0mcheckpoint\u001b[0m \u001b[0;34m=\u001b[0m \u001b[0;34m'https://api.ngc.nvidia.com/v2/models/nvidia/tacotron2_pyt_ckpt_fp32/versions/19.09.0/files/nvidia_tacotron2pyt_fp32_20190427'\u001b[0m\u001b[0;34m\u001b[0m\u001b[0;34m\u001b[0m\u001b[0m\n\u001b[1;32m     98\u001b[0m         \u001b[0mckpt_file\u001b[0m \u001b[0;34m=\u001b[0m \u001b[0m_download_checkpoint\u001b[0m\u001b[0;34m(\u001b[0m\u001b[0mcheckpoint\u001b[0m\u001b[0;34m,\u001b[0m \u001b[0mforce_reload\u001b[0m\u001b[0;34m)\u001b[0m\u001b[0;34m\u001b[0m\u001b[0;34m\u001b[0m\u001b[0m\n\u001b[0;32m---> 99\u001b[0;31m         \u001b[0mckpt\u001b[0m \u001b[0;34m=\u001b[0m \u001b[0mtorch\u001b[0m\u001b[0;34m.\u001b[0m\u001b[0mload\u001b[0m\u001b[0;34m(\u001b[0m\u001b[0mckpt_file\u001b[0m\u001b[0;34m)\u001b[0m\u001b[0;34m\u001b[0m\u001b[0;34m\u001b[0m\u001b[0m\n\u001b[0m\u001b[1;32m    100\u001b[0m         \u001b[0mstate_dict\u001b[0m \u001b[0;34m=\u001b[0m \u001b[0mckpt\u001b[0m\u001b[0;34m[\u001b[0m\u001b[0;34m'state_dict'\u001b[0m\u001b[0;34m]\u001b[0m\u001b[0;34m\u001b[0m\u001b[0;34m\u001b[0m\u001b[0m\n\u001b[1;32m    101\u001b[0m         \u001b[0;32mif\u001b[0m \u001b[0mcheckpoint_from_distributed\u001b[0m\u001b[0;34m(\u001b[0m\u001b[0mstate_dict\u001b[0m\u001b[0;34m)\u001b[0m\u001b[0;34m:\u001b[0m\u001b[0;34m\u001b[0m\u001b[0;34m\u001b[0m\u001b[0m\n",
            "\u001b[0;32m/usr/local/lib/python3.10/dist-packages/torch/serialization.py\u001b[0m in \u001b[0;36mload\u001b[0;34m(f, map_location, pickle_module, weights_only, mmap, **pickle_load_args)\u001b[0m\n\u001b[1;32m   1026\u001b[0m             \u001b[0;32mexcept\u001b[0m \u001b[0mRuntimeError\u001b[0m \u001b[0;32mas\u001b[0m \u001b[0me\u001b[0m\u001b[0;34m:\u001b[0m\u001b[0;34m\u001b[0m\u001b[0;34m\u001b[0m\u001b[0m\n\u001b[1;32m   1027\u001b[0m                 \u001b[0;32mraise\u001b[0m \u001b[0mpickle\u001b[0m\u001b[0;34m.\u001b[0m\u001b[0mUnpicklingError\u001b[0m\u001b[0;34m(\u001b[0m\u001b[0mUNSAFE_MESSAGE\u001b[0m \u001b[0;34m+\u001b[0m \u001b[0mstr\u001b[0m\u001b[0;34m(\u001b[0m\u001b[0me\u001b[0m\u001b[0;34m)\u001b[0m\u001b[0;34m)\u001b[0m \u001b[0;32mfrom\u001b[0m \u001b[0;32mNone\u001b[0m\u001b[0;34m\u001b[0m\u001b[0;34m\u001b[0m\u001b[0m\n\u001b[0;32m-> 1028\u001b[0;31m         \u001b[0;32mreturn\u001b[0m \u001b[0m_legacy_load\u001b[0m\u001b[0;34m(\u001b[0m\u001b[0mopened_file\u001b[0m\u001b[0;34m,\u001b[0m \u001b[0mmap_location\u001b[0m\u001b[0;34m,\u001b[0m \u001b[0mpickle_module\u001b[0m\u001b[0;34m,\u001b[0m \u001b[0;34m**\u001b[0m\u001b[0mpickle_load_args\u001b[0m\u001b[0;34m)\u001b[0m\u001b[0;34m\u001b[0m\u001b[0;34m\u001b[0m\u001b[0m\n\u001b[0m\u001b[1;32m   1029\u001b[0m \u001b[0;34m\u001b[0m\u001b[0m\n\u001b[1;32m   1030\u001b[0m \u001b[0;34m\u001b[0m\u001b[0m\n",
            "\u001b[0;32m/usr/local/lib/python3.10/dist-packages/torch/serialization.py\u001b[0m in \u001b[0;36m_legacy_load\u001b[0;34m(f, map_location, pickle_module, **pickle_load_args)\u001b[0m\n\u001b[1;32m   1254\u001b[0m     \u001b[0munpickler\u001b[0m \u001b[0;34m=\u001b[0m \u001b[0mUnpicklerWrapper\u001b[0m\u001b[0;34m(\u001b[0m\u001b[0mf\u001b[0m\u001b[0;34m,\u001b[0m \u001b[0;34m**\u001b[0m\u001b[0mpickle_load_args\u001b[0m\u001b[0;34m)\u001b[0m\u001b[0;34m\u001b[0m\u001b[0;34m\u001b[0m\u001b[0m\n\u001b[1;32m   1255\u001b[0m     \u001b[0munpickler\u001b[0m\u001b[0;34m.\u001b[0m\u001b[0mpersistent_load\u001b[0m \u001b[0;34m=\u001b[0m \u001b[0mpersistent_load\u001b[0m\u001b[0;34m\u001b[0m\u001b[0;34m\u001b[0m\u001b[0m\n\u001b[0;32m-> 1256\u001b[0;31m     \u001b[0mresult\u001b[0m \u001b[0;34m=\u001b[0m \u001b[0munpickler\u001b[0m\u001b[0;34m.\u001b[0m\u001b[0mload\u001b[0m\u001b[0;34m(\u001b[0m\u001b[0;34m)\u001b[0m\u001b[0;34m\u001b[0m\u001b[0;34m\u001b[0m\u001b[0m\n\u001b[0m\u001b[1;32m   1257\u001b[0m \u001b[0;34m\u001b[0m\u001b[0m\n\u001b[1;32m   1258\u001b[0m     \u001b[0mdeserialized_storage_keys\u001b[0m \u001b[0;34m=\u001b[0m \u001b[0mpickle_module\u001b[0m\u001b[0;34m.\u001b[0m\u001b[0mload\u001b[0m\u001b[0;34m(\u001b[0m\u001b[0mf\u001b[0m\u001b[0;34m,\u001b[0m \u001b[0;34m**\u001b[0m\u001b[0mpickle_load_args\u001b[0m\u001b[0;34m)\u001b[0m\u001b[0;34m\u001b[0m\u001b[0;34m\u001b[0m\u001b[0m\n",
            "\u001b[0;32m/usr/local/lib/python3.10/dist-packages/torch/serialization.py\u001b[0m in \u001b[0;36mpersistent_load\u001b[0;34m(saved_id)\u001b[0m\n\u001b[1;32m   1191\u001b[0m                 \u001b[0;31m# stop wrapping with TypedStorage\u001b[0m\u001b[0;34m\u001b[0m\u001b[0;34m\u001b[0m\u001b[0m\n\u001b[1;32m   1192\u001b[0m                 typed_storage = torch.storage.TypedStorage(\n\u001b[0;32m-> 1193\u001b[0;31m                     \u001b[0mwrap_storage\u001b[0m\u001b[0;34m=\u001b[0m\u001b[0mrestore_location\u001b[0m\u001b[0;34m(\u001b[0m\u001b[0mobj\u001b[0m\u001b[0;34m,\u001b[0m \u001b[0mlocation\u001b[0m\u001b[0;34m)\u001b[0m\u001b[0;34m,\u001b[0m\u001b[0;34m\u001b[0m\u001b[0;34m\u001b[0m\u001b[0m\n\u001b[0m\u001b[1;32m   1194\u001b[0m                     \u001b[0mdtype\u001b[0m\u001b[0;34m=\u001b[0m\u001b[0mdtype\u001b[0m\u001b[0;34m,\u001b[0m\u001b[0;34m\u001b[0m\u001b[0;34m\u001b[0m\u001b[0m\n\u001b[1;32m   1195\u001b[0m                     _internal=True)\n",
            "\u001b[0;32m/usr/local/lib/python3.10/dist-packages/torch/serialization.py\u001b[0m in \u001b[0;36mdefault_restore_location\u001b[0;34m(storage, location)\u001b[0m\n\u001b[1;32m    379\u001b[0m \u001b[0;32mdef\u001b[0m \u001b[0mdefault_restore_location\u001b[0m\u001b[0;34m(\u001b[0m\u001b[0mstorage\u001b[0m\u001b[0;34m,\u001b[0m \u001b[0mlocation\u001b[0m\u001b[0;34m)\u001b[0m\u001b[0;34m:\u001b[0m\u001b[0;34m\u001b[0m\u001b[0;34m\u001b[0m\u001b[0m\n\u001b[1;32m    380\u001b[0m     \u001b[0;32mfor\u001b[0m \u001b[0m_\u001b[0m\u001b[0;34m,\u001b[0m \u001b[0m_\u001b[0m\u001b[0;34m,\u001b[0m \u001b[0mfn\u001b[0m \u001b[0;32min\u001b[0m \u001b[0m_package_registry\u001b[0m\u001b[0;34m:\u001b[0m\u001b[0;34m\u001b[0m\u001b[0;34m\u001b[0m\u001b[0m\n\u001b[0;32m--> 381\u001b[0;31m         \u001b[0mresult\u001b[0m \u001b[0;34m=\u001b[0m \u001b[0mfn\u001b[0m\u001b[0;34m(\u001b[0m\u001b[0mstorage\u001b[0m\u001b[0;34m,\u001b[0m \u001b[0mlocation\u001b[0m\u001b[0;34m)\u001b[0m\u001b[0;34m\u001b[0m\u001b[0;34m\u001b[0m\u001b[0m\n\u001b[0m\u001b[1;32m    382\u001b[0m         \u001b[0;32mif\u001b[0m \u001b[0mresult\u001b[0m \u001b[0;32mis\u001b[0m \u001b[0;32mnot\u001b[0m \u001b[0;32mNone\u001b[0m\u001b[0;34m:\u001b[0m\u001b[0;34m\u001b[0m\u001b[0;34m\u001b[0m\u001b[0m\n\u001b[1;32m    383\u001b[0m             \u001b[0;32mreturn\u001b[0m \u001b[0mresult\u001b[0m\u001b[0;34m\u001b[0m\u001b[0;34m\u001b[0m\u001b[0m\n",
            "\u001b[0;32m/usr/local/lib/python3.10/dist-packages/torch/serialization.py\u001b[0m in \u001b[0;36m_cuda_deserialize\u001b[0;34m(obj, location)\u001b[0m\n\u001b[1;32m    272\u001b[0m \u001b[0;32mdef\u001b[0m \u001b[0m_cuda_deserialize\u001b[0m\u001b[0;34m(\u001b[0m\u001b[0mobj\u001b[0m\u001b[0;34m,\u001b[0m \u001b[0mlocation\u001b[0m\u001b[0;34m)\u001b[0m\u001b[0;34m:\u001b[0m\u001b[0;34m\u001b[0m\u001b[0;34m\u001b[0m\u001b[0m\n\u001b[1;32m    273\u001b[0m     \u001b[0;32mif\u001b[0m \u001b[0mlocation\u001b[0m\u001b[0;34m.\u001b[0m\u001b[0mstartswith\u001b[0m\u001b[0;34m(\u001b[0m\u001b[0;34m'cuda'\u001b[0m\u001b[0;34m)\u001b[0m\u001b[0;34m:\u001b[0m\u001b[0;34m\u001b[0m\u001b[0;34m\u001b[0m\u001b[0m\n\u001b[0;32m--> 274\u001b[0;31m         \u001b[0mdevice\u001b[0m \u001b[0;34m=\u001b[0m \u001b[0mvalidate_cuda_device\u001b[0m\u001b[0;34m(\u001b[0m\u001b[0mlocation\u001b[0m\u001b[0;34m)\u001b[0m\u001b[0;34m\u001b[0m\u001b[0;34m\u001b[0m\u001b[0m\n\u001b[0m\u001b[1;32m    275\u001b[0m         \u001b[0;32mif\u001b[0m \u001b[0mgetattr\u001b[0m\u001b[0;34m(\u001b[0m\u001b[0mobj\u001b[0m\u001b[0;34m,\u001b[0m \u001b[0;34m\"_torch_load_uninitialized\"\u001b[0m\u001b[0;34m,\u001b[0m \u001b[0;32mFalse\u001b[0m\u001b[0;34m)\u001b[0m\u001b[0;34m:\u001b[0m\u001b[0;34m\u001b[0m\u001b[0;34m\u001b[0m\u001b[0m\n\u001b[1;32m    276\u001b[0m             \u001b[0;32mwith\u001b[0m \u001b[0mtorch\u001b[0m\u001b[0;34m.\u001b[0m\u001b[0mcuda\u001b[0m\u001b[0;34m.\u001b[0m\u001b[0mdevice\u001b[0m\u001b[0;34m(\u001b[0m\u001b[0mdevice\u001b[0m\u001b[0;34m)\u001b[0m\u001b[0;34m:\u001b[0m\u001b[0;34m\u001b[0m\u001b[0;34m\u001b[0m\u001b[0m\n",
            "\u001b[0;32m/usr/local/lib/python3.10/dist-packages/torch/serialization.py\u001b[0m in \u001b[0;36mvalidate_cuda_device\u001b[0;34m(location)\u001b[0m\n\u001b[1;32m    256\u001b[0m \u001b[0;34m\u001b[0m\u001b[0m\n\u001b[1;32m    257\u001b[0m     \u001b[0;32mif\u001b[0m \u001b[0;32mnot\u001b[0m \u001b[0mtorch\u001b[0m\u001b[0;34m.\u001b[0m\u001b[0mcuda\u001b[0m\u001b[0;34m.\u001b[0m\u001b[0mis_available\u001b[0m\u001b[0;34m(\u001b[0m\u001b[0;34m)\u001b[0m\u001b[0;34m:\u001b[0m\u001b[0;34m\u001b[0m\u001b[0;34m\u001b[0m\u001b[0m\n\u001b[0;32m--> 258\u001b[0;31m         raise RuntimeError('Attempting to deserialize object on a CUDA '\n\u001b[0m\u001b[1;32m    259\u001b[0m                            \u001b[0;34m'device but torch.cuda.is_available() is False. '\u001b[0m\u001b[0;34m\u001b[0m\u001b[0;34m\u001b[0m\u001b[0m\n\u001b[1;32m    260\u001b[0m                            \u001b[0;34m'If you are running on a CPU-only machine, '\u001b[0m\u001b[0;34m\u001b[0m\u001b[0;34m\u001b[0m\u001b[0m\n",
            "\u001b[0;31mRuntimeError\u001b[0m: Attempting to deserialize object on a CUDA device but torch.cuda.is_available() is False. If you are running on a CPU-only machine, please use torch.load with map_location=torch.device('cpu') to map your storages to the CPU."
          ]
        }
      ]
    },
    {
      "cell_type": "code",
      "source": [
        "waveglow = torch.hub.load('NVIDIA/DeepLearningExamples:torchhub', 'nvidia_waveglow', model_math='fp16')\n",
        "waveglow = waveglow.remove_weightnorm(waveglow)\n",
        "waveglow = waveglow.to('cuda')\n",
        "waveglow.eval()"
      ],
      "metadata": {
        "id": "GoixJ6-q6dDN"
      },
      "execution_count": null,
      "outputs": []
    },
    {
      "cell_type": "code",
      "source": [
        "# pass answer as input\n",
        "input_text = answer"
      ],
      "metadata": {
        "id": "llpkHrAQ73pN"
      },
      "execution_count": null,
      "outputs": []
    },
    {
      "cell_type": "markdown",
      "source": [
        "Process the input using utilities to prepare it for TTS model."
      ],
      "metadata": {
        "id": "znk6BmI877EY"
      }
    },
    {
      "cell_type": "code",
      "source": [
        "utils = torch.hub.load('NVIDIA/DeepLearningExamples:torchhub', 'nvidia_tts_utils')\n",
        "sequences, lengths = utils.prepare_input_sequence([input_text])"
      ],
      "metadata": {
        "id": "OlGtTdQs8QKd"
      },
      "execution_count": null,
      "outputs": []
    },
    {
      "cell_type": "markdown",
      "source": [
        "Combine Tacotron2 and WaveGlow.\n",
        "\n",
        "torch.no_grad() disables gradient computation during its execution (for memory saving and computation speed up)"
      ],
      "metadata": {
        "id": "2LcnNH7e8g-I"
      }
    },
    {
      "cell_type": "code",
      "source": [
        "with torch.no_grad():\n",
        "    mel, _, _ = tacotron2.infer(sequences, lengths)\n",
        "    audio = waveglow.infer(mel)\n",
        "audio_numpy = audio[0].data.cpu().numpy()\n",
        "\n",
        "sr2 = 22050"
      ],
      "metadata": {
        "id": "ORtLbAg--Kxb"
      },
      "execution_count": null,
      "outputs": []
    },
    {
      "cell_type": "markdown",
      "source": [
        "Store audio file"
      ],
      "metadata": {
        "id": "Gf-gvbm8_Hyg"
      }
    },
    {
      "cell_type": "code",
      "source": [
        "scipy.io.wavfile.write(\"text_to_speech.wav\", sr2, audio_numpy)"
      ],
      "metadata": {
        "id": "kq_v223S_JmB"
      },
      "execution_count": null,
      "outputs": []
    },
    {
      "cell_type": "markdown",
      "source": [
        "Listen for the text"
      ],
      "metadata": {
        "id": "f_0hIwTp_uqz"
      }
    },
    {
      "cell_type": "code",
      "source": [
        "sr, audio = scipy.io.wavfile.read(\"text_to_speech.wav\")\n",
        "\n",
        "reduced_noise = nr.reduce_noise(y=audio, sr=sr)\n",
        "# store new  preprocessed audio file recorded before\n",
        "scipy.io.wavfile.write('text_to_speech.wav', sr, reduced_noise)\n",
        "\n",
        "sr, audio = scipy.io.wavfile.read(\"text_to_speech.wav\")\n",
        "\n",
        "# Display the audio player widget\n",
        "Audio(data=audio, rate=sr)"
      ],
      "metadata": {
        "id": "GLB6eiLfDI4N"
      },
      "execution_count": null,
      "outputs": []
    },
    {
      "cell_type": "markdown",
      "source": [
        "## Investigate how effective and reliable the voice interactive components are. If they are not particularly reliable, how might you change them to make them more robust?"
      ],
      "metadata": {
        "id": "lh7JzBU32niA"
      }
    },
    {
      "cell_type": "markdown",
      "source": [
        "\n",
        "The Whisper model required some attention probabily due to the bad quality of the audio as well as using human voices: each voice is unique, with different accents, tones, voice's cadence, and each person spells out words in a different way. In addition there are homophones (words that sound the same) and homographs (words spelled the same). Because of these reasons, predicting a transcription of an audio can be really challenging. On the other hand, predicting a signal audio from text (Tacotron2 + WaveGlow) can be more trivial as long as the correct text is passed as input, since a specific text is represented and can be represented only in a unique way without all the variables we can have in an audio signal.\n",
        "\n",
        "Because of all variables we can encounter with a voice signal, the preprocessing is applied on the voice input of the Whisper model (normalisation and noise reduction), and the results improved significantly.\n",
        "\n",
        "With some input recordings using only human's voice we have been able to compute the Word Error Rate in a string in average (WER, how many detected words differ from correct words) and Sentence Error Rate (SER, how many sentences had at least one error) of the predicted output of the Whisper model with and without preprocessing:\n",
        "\n",
        "**Without preprocessing**\n",
        "\n",
        "WER = 100 * (insertions + substitutions + deletions) / total words in correct transcript = 100 * # of questions with at least one error / total number of sentences = 41.94%\n",
        "\n",
        "SER = 55.55%\n",
        "\n",
        "**With preprocessing**\n",
        "\n",
        "WER = 0%\n",
        "\n",
        "SER = 0%\n",
        "\n",
        "\n",
        "From the point of view of the Text-To-Speech, the result of WaveGlow is for the majority of the time clear and clean, but with some words (e.g. proper nouns) it is more complex to understand the resulted audio signal. The result can may be improved by fine-tuning Tacotron2 and WaveGlow on our dataset that can permit the models to adapt to specific linguistic patterns. What it should also possible to do is to perform some post-processing in order to smooth the audio signal and making it more 'natural'."
      ],
      "metadata": {
        "id": "93FFpPHDV3MI"
      }
    },
    {
      "cell_type": "markdown",
      "source": [
        "# LLM (Large Language Model) effectiveness on task\n",
        "To check the effectiveness on the task of question answering as LLM we use GPT-2 (Generative Pre-trained Transformer 2) since BERT has been already used in this project. GPT-2 is a decoder-only architecture which can be used for text prediction and text classification. GPT-2 is a more recent system and it doesn't require to receive as input the context to search for the answer as BERT needs (no extractive base).\n",
        "\n",
        " Few shots learning is a definition in which a model is expected to perform a task without being explicitly trained on examples of that task during the training phase, but passing some examples at inference time. This is a method in the category of 'meta-learning', i.e. learning to learn. This type of learning can be used on a pre-trained model such that it will be able to generalise on new categories of data (or new tasks) using only few samples by the mean of similarity. There is no need to re-train the model since it has already been trained and training is time consuming and complex, and this similarity can be exploited precisely thanks to this pre-training.\n",
        "\n",
        " For a more interesting analysis, we didn't use the model gpt-2 for question answering but the generagl text generator model.\n",
        "\n",
        "With GPT-2 we need to pay attention to the parameters we pass to it, and there are a few:\n",
        "- input_ids = input sequence represented as a tensor of token IDs. It is the tokenized form of the text you want to use as a prompt for text generation.\n",
        "\n",
        "- max_length = maximum length of the generated sequence (the generation process stops once this length is reached). Very high values can lead to less coherent outputs (we assume the answer whould be included in the first 100 elements)\n",
        "\n",
        "- num_beams = Beam search is a search algorithm that explores multiple possible sequences in parallel, then num_beams controls the number of beams to use. Higher values can lead to more different outputs but also increase the computation time.\n",
        "\n",
        "- no_repeat_ngram_size = prevents the model from repeating n-grams in the generated text. Higher values help in avoiding repetitive sentences.\n",
        "\n",
        "- top_k = limits the number of tokens considered during the sampling process (it keeps the top-k most likely next tokens). Higher values can make the generation more focused, but too high values can result in overly deterministic outputs.\n",
        "\n",
        "- top_p = controls the cumulative probability of the highest probability tokens to consider. It keeps the top-p probability mass in the distribution. Higher values (e.g., 0.95) allow for a broader selection of tokens.\n",
        "\n",
        "- temperature = controls the randomness of the generation. Higher values (e.g. 1.0) make the outputs more random, while lower values (e.g. 0.7) make the outputs more deterministic and focused.\n",
        "\n",
        "GPT2LMHeadModel is a general-purpose language model and it is not fine-tuned for specific tasks (there is already a GPT-2 model with the specific purpose of generating answers given questions), and because of this it is the best option to perform zero/few-shot learning for question answering.\n",
        "\n"
      ],
      "metadata": {
        "id": "eW2H1282XZQo"
      }
    },
    {
      "cell_type": "markdown",
      "source": [
        "## Zero-shot learning\n",
        "For the zero-shot learning we pass to the model only the question input and the context, without any example."
      ],
      "metadata": {
        "id": "6Aqav9oKdHRb"
      }
    },
    {
      "cell_type": "code",
      "source": [
        "# Load pre-trained GPT-2 model and tokenizer\n",
        "tokenizer_gpt = GPT2Tokenizer.from_pretrained('gpt2')\n",
        "model_gpt = GPT2LMHeadModel.from_pretrained('gpt2')\n"
      ],
      "metadata": {
        "id": "2O0l2zYFa1gb",
        "colab": {
          "base_uri": "https://localhost:8080/",
          "height": 313,
          "referenced_widgets": [
            "ebcff623c6e940e39305f00ee972cb8d",
            "d2b9726de1264b85a4db4c149e5a6280",
            "98d50c201571499a8dc45035dc9bf37b",
            "bdce81066b654f96ab6bd2b6180226da",
            "740569cc897e41e3bf0f73bcc3e41418",
            "ac717db8f32b4085b4378df6b49c2b3f",
            "00f38e70d5134fe6b64540629103ca17",
            "11d7eb8375474ad7b5e62354719daff4",
            "635c416c71b7472998e7916b4d30e5e0",
            "359880e7ab974994b353f6184c3b7852",
            "a93a50dc5ab14df29be84916f5d730cc",
            "036a4fce18284021b00b4776360270eb",
            "3fc0a7d5de124caa9bd55fee5aed0113",
            "838ccc0794aa4edcac5dd998d8a9b49e",
            "de0cd2c0869249fd9658d2a2f986717a",
            "a35681fb2fcd4d46802b8be4c3b6e80d",
            "112676901e5142d1bce57b2f312db025",
            "0a9df06e9d9a4d64abbd1a60bedb1f1f",
            "32517ec2baa94e0e929480492a21697b",
            "dbff6952d1d84546acc8999b6933e68a",
            "1bd4287aa4d94ad7a2317f56e82dd390",
            "24dd7c3c1a674891bb6240c0205067db",
            "7b8911db30b8438485410f0e43c09c8c",
            "e481f55f5ffa420e97850d1a01ff0663",
            "b3841d06a7f940fb93a27214e8224a15",
            "6d3166b7707a45ffb5b9db3df2948b6d",
            "886b207db5954241a9a167a86523e014",
            "43a52ee7355142bc8a3398fe8e151a06",
            "59560feab60c4c33bde504be0871355f",
            "9b25713247a541878559fae3491c857c",
            "4b898052193d4998a38b96108da15138",
            "8db4204c7ab84fc2b4b6a08dd0bbef3b",
            "1cd5f4a306894a70bfaaffaa57336f8d",
            "1163d5ebb7cc48ae94d0b13e73d896e9",
            "ca681504ea2649e2b1dd2fb4b39b61f7",
            "3786f562c1e44964968f94e40d003504",
            "29945c64626d4f0f989b68c86bee02a4",
            "46e71a8c10d5413badace4196a5c2234",
            "befa2327e46f4403ba227dbfd6dce688",
            "c2615745476b4f378035e7e2715a1f73",
            "2d6ead3cca154ca5aa8235abb3865092",
            "97ea7aeb71884f7b9964e290823a941a",
            "65dabd09ad31473dbaffec9d1c7736f5",
            "b2472226e52d46518ae8ff1fc77c40c7",
            "f18ed93e3ff047fb8a6dbee495dbe1c8",
            "fbd9192d3447403e99f103db0f6924e6",
            "e8a51a5d57784479a6ee08a47de73008",
            "1f88a57095294036829d7ade674163b7",
            "83d6f5c78f514109959fb1bc37d3e6b5",
            "15ecc0ac15ea408b811920cec96bce55",
            "ddb27dc1216b4ca092436feafb0b3ec0",
            "30ad087687544b6ead9a578a4e9fcf16",
            "876a1747fc0f4a7194195c1a78c9adf2",
            "e53d094a4a8a44b0bda60ee7b1c0cf68",
            "8ad49236173341279f345e72f7ae8ff7",
            "ed0f63e7450348f28b5ee0971521bd22",
            "667f621403ef4cd48f214ae238772d8c",
            "dbd380abfd714d11b75700931d9dcb90",
            "95ce3a6ebb8744b0b1b3ad7917c57123",
            "385588eb14244daabac34e7a78ab34cf",
            "577346a84b6c4555870aa82f28be2f48",
            "8a039b2a3ef94a758d8e9161f380af53",
            "aee2a9fae9fd4947a794db92b7db4c29",
            "5745e3dea02442d28944ec4eae7e764f",
            "840d00d3a18c42be875a47fbe86673c3",
            "565c4ca08fa7438fa0dbcc641da45a5c"
          ]
        },
        "outputId": "31fbc184-b9bd-4af2-8a72-439afe742c6c"
      },
      "execution_count": null,
      "outputs": [
        {
          "output_type": "stream",
          "name": "stderr",
          "text": [
            "/usr/local/lib/python3.10/dist-packages/huggingface_hub/utils/_token.py:88: UserWarning: \n",
            "The secret `HF_TOKEN` does not exist in your Colab secrets.\n",
            "To authenticate with the Hugging Face Hub, create a token in your settings tab (https://huggingface.co/settings/tokens), set it as secret in your Google Colab and restart your session.\n",
            "You will be able to reuse this secret in all of your notebooks.\n",
            "Please note that authentication is recommended but still optional to access public models or datasets.\n",
            "  warnings.warn(\n"
          ]
        },
        {
          "output_type": "display_data",
          "data": {
            "text/plain": [
              "vocab.json:   0%|          | 0.00/1.04M [00:00<?, ?B/s]"
            ],
            "application/vnd.jupyter.widget-view+json": {
              "version_major": 2,
              "version_minor": 0,
              "model_id": "ebcff623c6e940e39305f00ee972cb8d"
            }
          },
          "metadata": {}
        },
        {
          "output_type": "display_data",
          "data": {
            "text/plain": [
              "merges.txt:   0%|          | 0.00/456k [00:00<?, ?B/s]"
            ],
            "application/vnd.jupyter.widget-view+json": {
              "version_major": 2,
              "version_minor": 0,
              "model_id": "036a4fce18284021b00b4776360270eb"
            }
          },
          "metadata": {}
        },
        {
          "output_type": "display_data",
          "data": {
            "text/plain": [
              "tokenizer.json:   0%|          | 0.00/1.36M [00:00<?, ?B/s]"
            ],
            "application/vnd.jupyter.widget-view+json": {
              "version_major": 2,
              "version_minor": 0,
              "model_id": "7b8911db30b8438485410f0e43c09c8c"
            }
          },
          "metadata": {}
        },
        {
          "output_type": "display_data",
          "data": {
            "text/plain": [
              "config.json:   0%|          | 0.00/665 [00:00<?, ?B/s]"
            ],
            "application/vnd.jupyter.widget-view+json": {
              "version_major": 2,
              "version_minor": 0,
              "model_id": "1163d5ebb7cc48ae94d0b13e73d896e9"
            }
          },
          "metadata": {}
        },
        {
          "output_type": "display_data",
          "data": {
            "text/plain": [
              "model.safetensors:   0%|          | 0.00/548M [00:00<?, ?B/s]"
            ],
            "application/vnd.jupyter.widget-view+json": {
              "version_major": 2,
              "version_minor": 0,
              "model_id": "f18ed93e3ff047fb8a6dbee495dbe1c8"
            }
          },
          "metadata": {}
        },
        {
          "output_type": "display_data",
          "data": {
            "text/plain": [
              "generation_config.json:   0%|          | 0.00/124 [00:00<?, ?B/s]"
            ],
            "application/vnd.jupyter.widget-view+json": {
              "version_major": 2,
              "version_minor": 0,
              "model_id": "ed0f63e7450348f28b5ee0971521bd22"
            }
          },
          "metadata": {}
        }
      ]
    },
    {
      "cell_type": "markdown",
      "source": [
        "Pass context (question answering)."
      ],
      "metadata": {
        "id": "iGrbY2KH6KWo"
      }
    },
    {
      "cell_type": "code",
      "source": [
        "task_description = 'Answer correctly the question:'"
      ],
      "metadata": {
        "id": "thBmXzeO6Mw0"
      },
      "execution_count": null,
      "outputs": []
    },
    {
      "cell_type": "code",
      "source": [
        "def get_gpt_answer(input, examples = None):\n",
        "    # Tokenize input text\n",
        "    if examples:\n",
        "        gpt_input_ids = tokenizer_gpt.encode(task_description + examples + input, return_tensors=\"pt\")\n",
        "    else:\n",
        "        gpt_input_ids = tokenizer_gpt.encode(task_description + input, return_tensors=\"pt\")\n",
        "\n",
        "    # Create an attention mask tensor with the same shape as the input tensor with values 1\n",
        "    mask = torch.ones_like(gpt_input_ids)\n",
        "\n",
        "    # Generate output with attention_mask and pad_token_id explicitly set\n",
        "    # Adjust max_length dynamically (so that the output text generated is always at maximum 100 chars)\n",
        "    max_length = len(gpt_input_ids[0]) + 101\n",
        "    output = model_gpt.generate(\n",
        "        gpt_input_ids,\n",
        "        max_length=max_length,\n",
        "        num_beams=10,\n",
        "        no_repeat_ngram_size=2,\n",
        "        attention_mask=mask,\n",
        "        pad_token_id=50256\n",
        "    )\n",
        "\n",
        "    # Decode and return only the generated output\n",
        "    gpt_result = tokenizer_gpt.decode(output[0], skip_special_tokens=True)\n",
        "    # Remove task_description, examples, and input from the generated text\n",
        "    if examples:\n",
        "        gpt_result = gpt_result.replace(task_description, '').replace(examples, '').replace(input, '').strip()\n",
        "    else:\n",
        "        gpt_result = gpt_result.replace(task_description, '').replace(input, '').strip()\n",
        "\n",
        "    return gpt_result\n"
      ],
      "metadata": {
        "id": "RODRFJDDabtV"
      },
      "execution_count": null,
      "outputs": []
    },
    {
      "cell_type": "markdown",
      "source": [
        "Types of questions: Fact-based questions, temporal questions, general knowledge questions\n"
      ],
      "metadata": {
        "id": "2VEeP9Gp60YQ"
      }
    },
    {
      "cell_type": "code",
      "source": [
        "questions = [\n",
        "             'Who was Napoleon?',\n",
        "             'Who was the first woman to win a Nobel Prize?',\n",
        "             'How many planets are there in our solar system?',\n",
        "             'When did the Industrial Revolution begin?',\n",
        "             'When did the Great Wall of China construction begin?',\n",
        "             'When did the World War I start?',\n",
        "             'Who wrote Romeo and Juliet?',\n",
        "             'What is the largest mammal on Earth?',\n",
        "             'Which is the full name of the chemical symbol H?'\n",
        "]\n",
        "\n",
        "expected_answers = [\n",
        "                \"He was a French emperor and military commander who rose to prominence during the French Revolution and led successful campaigns during the Revolutionary Wars.\",\n",
        "                \"Marie Curie.\",\n",
        "                \"8.\",\n",
        "                \"1760.\",\n",
        "                \"Its construction started in the 7th Century BC by the Chu State and completed in 1878.\",\n",
        "                \"1914.\",\n",
        "                \"William Shakespeare.\",\n",
        "                \"The blue whale.\",\n",
        "                \"Hydrogen\"\n",
        "                ]"
      ],
      "metadata": {
        "id": "nMu8A-M89j62"
      },
      "execution_count": null,
      "outputs": []
    },
    {
      "cell_type": "code",
      "source": [
        "for i in range(0, len(questions)):\n",
        "  print('\\nQuestion:', questions[i])\n",
        "  ans = get_gpt_answer(questions[i])\n",
        "  print(\"Generated answer:\",ans)\n",
        "  print(\"Expected answer:\", expected_answers[i])"
      ],
      "metadata": {
        "id": "XZQCZwVs-KN1"
      },
      "execution_count": null,
      "outputs": []
    },
    {
      "cell_type": "markdown",
      "source": [
        "### Conclusion zero-shot learning\n",
        "In general the model get the topic of the question but often it is not able to generate the answer for the specific question. It seems to perform better on very simple and well-known questions (e.g. date of known events or general description of words or very famous persons).\n",
        "To perform an evaluation, we compute the number percentage of Correct Answers with respect to all questions (0.5 if the answer is partially correct):\n",
        "\n",
        "CA = 100 * correct answers/ given answers = 2.5/7 = 35.71%\n",
        "\n",
        "\n"
      ],
      "metadata": {
        "id": "RmXNJlpWA9Kt"
      }
    },
    {
      "cell_type": "markdown",
      "source": [
        "## Few-shot learning\n",
        "The general difference between few-shot learning and fine-tuning is that in fine-tuning it is used a pre-trained model that is already able to perform the specific task but we train it on a new dataset to improve the results on those new data. The few-shot learning, on the other hand, is done at inference time on a pre-trained model that perform a task using few samples for each class such that it is able to perform the task we need. In this case we should pass the task description, few examples of the task (question answering) and the question."
      ],
      "metadata": {
        "id": "aq4vFrtICqtr"
      }
    },
    {
      "cell_type": "markdown",
      "source": [
        "Examples (same for each question since the task is the same)."
      ],
      "metadata": {
        "id": "TYwF0goM66hp"
      }
    },
    {
      "cell_type": "code",
      "source": [
        "examples = '''Examples:\n",
        "How many colors are in the rainbow? 7.\n",
        "Where is Big Ben located? London, England.\n",
        "Where is the Eiffel Tower located? Paris, France.\n",
        "How many branches comprise the federal government of the United States? 3 — legislative, executive and judicial.\n",
        "What type of fruit \"keeps the doctor away\"? An apple a day.\n",
        "Who was Einstein? Albert Einstein was a German-born theoretical physicist who is widely held to be one of the greatest and most influential scientists of all time.\n",
        "When did the Second World War start? 1914.\n",
        "Who was the first person on the moon? The American astronaut Neil Armstrong.\n",
        "How many elements are in the periodic table? 118\n",
        "In which period did pangea form? In the Middle Jurassic.\n",
        "What country has the highest life expectancy? Hong Kong.\n",
        "Who was the last Tsar of Russia? Nicholas II.\n",
        "Who discovered that the earth revolves around the sun? Nicolaus Copernicus.\n",
        "What planet is closest to the sun in our Solar System? Mercury.\n",
        "Who was Marie Curie? She was a Polish and naturalised-French physicist and chemist who conducted pioneering research on radioactivity.\n",
        "When did the Cold War start? 1947.\n",
        "When did the Cold War end? 1991.\n",
        "How many planets have rings? Four: Jupiter, Saturn, Uranus, and Neptune.\n",
        "'''"
      ],
      "metadata": {
        "id": "RwaQhqAH7AvT"
      },
      "execution_count": null,
      "outputs": []
    },
    {
      "cell_type": "code",
      "source": [
        "for i in range(0, len(questions)):\n",
        "  print('\\nQuestion:', questions[i])\n",
        "  ans = get_gpt_answer(questions[i], examples)\n",
        "  print(\"Generated answer:\",ans)\n",
        "  print(\"Expected answer:\", expected_answers[i])"
      ],
      "metadata": {
        "id": "tF1r0eACPEwo"
      },
      "execution_count": null,
      "outputs": []
    },
    {
      "cell_type": "markdown",
      "source": [
        "### Conclusion few-shot learning\n",
        "It is possible to notice that again the answers are not accurate and it seems the model is not able to understand it has to answer in a correct way to the questions. But on the other hand, the structure (type) of the answers is very different and more 'suitable' for a question-answer system. Despite of this, it seems we implemented in the wrong way the few-shot learning, since the model should be able to perform correctly the task given.\n",
        "\n",
        "CA = 100 * correct answers/ given answers = 0.5/8 = 6.25%"
      ],
      "metadata": {
        "id": "nj8Wg4U2QEE7"
      }
    },
    {
      "cell_type": "markdown",
      "source": [
        "## Few shot learning modification\n",
        "Since passing questions and answers doesn't permit the model to compose correct answers, we decide to pass also the contexts. This option has been taken into consideration since the gpt-2 model for question anwering require a question and a context to generate an answer, thus there is the possibility this will help the performance of the model. Unfortunately, due to some problems with the length of the input, we can pass only at most 3 examples to the model."
      ],
      "metadata": {
        "id": "_cSbQs9PJOy6"
      }
    },
    {
      "cell_type": "markdown",
      "source": [
        "More specified task description"
      ],
      "metadata": {
        "id": "xbI5NkBLo0RB"
      }
    },
    {
      "cell_type": "code",
      "source": [
        "task_description = \"Answer the following question based on the provided context.\"\n"
      ],
      "metadata": {
        "id": "TWNQraZYpTuS"
      },
      "execution_count": null,
      "outputs": []
    },
    {
      "cell_type": "markdown",
      "source": [
        "Examples containing context, question and answer."
      ],
      "metadata": {
        "id": "wIgiBmKio1xD"
      }
    },
    {
      "cell_type": "code",
      "source": [
        "examples = [\n",
        "    {'context': \"The Normans (Norman: Nourmands; French: Normands; Latin: Normanni) were the people who in the 10th and 11th centuries gave their name to Normandy, a region in France. They were descended from Norse (\\\"Norman\\\" comes from \\\"Norseman\\\") raiders and pirates from Denmark, Iceland and Norway who, under their leader Rollo, agreed to swear fealty to King Charles III of West Francia.\", 'question': \"In what country is Normandy located?\", 'answer': \"France.\"},\n",
        "    {'context': \"Southern California, often abbreviated SoCal, is a geographic and cultural region that generally comprises California's southernmost 10 counties. The region is traditionally described as \\\"eight counties\\\", based on demographics and economic ties: Imperial, Los Angeles, Orange, Riverside, San Bernardino, San Diego, Santa Barbara, and Ventura.\", 'question': \"What is Southern California often abbreviated as?\", 'answer': \"SoCal.\"},\n",
        "    {'context': \"Huguenot numbers peaked near an estimated two million by 1562, concentrated mainly in the southern and central parts of France, about one-eighth the number of French Catholics. As Huguenots gained influence and more openly displayed their faith, Catholic hostility grew, in spite of increasingly liberal political concessions and edicts of toleration from the French crown.\", 'question': \"Where was France's Huguenot population largely centered?\", 'answer': \"The southern and central parts of France.\"},\n",
        "    {'context': \"Within southern California are two major cities, Los Angeles and San Diego, as well as three of the country's largest metropolitan areas. With a population of 3,792,621, Los Angeles is the most populous city in California and the second most populous in the United States. To the south and with a population of 1,307,402 is San Diego, the second most populous city in the state and the eighth most populous in the nation.\", 'question': \"Which city is the most populous in California?\", 'answer': \"Los Angeles.\"},\n",
        "]"
      ],
      "metadata": {
        "id": "zxH7X4ILnW2i"
      },
      "execution_count": null,
      "outputs": []
    },
    {
      "cell_type": "markdown",
      "source": [
        "Contexts and questions for which the model should generate the answers. The predicted output will then be compared to the correct answer."
      ],
      "metadata": {
        "id": "8exLCXt0o4zL"
      }
    },
    {
      "cell_type": "code",
      "source": [
        "target_contexts = [\n",
        "                   \"The Black Death is thought to have originated in the arid plains of Central Asia, where it then travelled along the Silk Road, reaching Crimea by 1343. From there, it was most likely carried by Oriental rat fleas living on the black rats that were regular passengers on merchant ships. Spreading throughout the Mediterranean and Europe, the Black Death is estimated to have killed 30\\u201360% of Europe's total population. In total, the plague reduced the world population from an estimated 450 million down to 350\\u2013375 million in the 14th century. The world population as a whole did not recover to pre-plague levels until the 17th century. The plague recurred occasionally in Europe until the 19th century.\",\n",
        "                   \"There are three major types of rock: igneous, sedimentary, and metamorphic. The rock cycle is an important concept in geology which illustrates the relationships between these three types of rock, and magma.\",\n",
        "                   \"The word pharmacy is derived from its root word pharma which was a term used since the 15th\\u201317th centuries. However, the original Greek roots from pharmakos imply sorcery or even poison. In addition to pharma responsibilities, the pharma offered general medical advice and a range of services that are now performed solely by other specialist practitioners, such as surgery and midwifery. The pharma (as it was referred to) often operated through a retail shop which, in addition to ingredients for medicines, sold tobacco and patent medicines.\",\n",
        "                   \"One of its earliest massive implementations was brought about by Egyptians against the British occupation in the 1919 Revolution. Civil disobedience is one of the many ways people have rebelled against what they deem to be unfair laws. It has been used in many nonviolent resistance movements in India (Gandhi's campaigns for independence from the British Empire), in Czechoslovakia's Velvet Revolution and in East Germany to oust their communist governments, In South Africa in the fight against apartheid.\",\n",
        "                   \"Construction is the process of constructing a building or infrastructure. Construction differs from manufacturing in that manufacturing typically involves mass production of similar items without a designated purchaser, while construction typically takes place on location for a known client. Construction as an industry comprises six to nine percent of the gross domestic product of developed countries. Construction starts with planning,[citation needed] design, and financing and continues until the project is built and ready for use.\"\n",
        "                   ]\n",
        "\n",
        "target_questions = [\n",
        "                    \"For how long did the plague stick around?\",\n",
        "                    \"What are the three major types of rock?\",\n",
        "                    \"What goods were sold in a pharma?\",\n",
        "                    \"What is it called when people in society rebel against laws they think are unfair?\",\n",
        "                    \"What is the process of constructing a building or infrastructure?\"\n",
        "                    ]\n",
        "\n",
        "answers_expected = [\n",
        "                  \"Until the 19th century.\",\n",
        "                  \"Igneous, sedimentary, and metamorphic.\",\n",
        "                  \"Ingredients for medicines, sold tobacco and patent medicines\",\n",
        "                  \"Civil disobedience.\",\n",
        "                  \"Construction.\"\n",
        "                  ]\n"
      ],
      "metadata": {
        "id": "QyeNeAM82Xx5"
      },
      "execution_count": null,
      "outputs": []
    },
    {
      "cell_type": "code",
      "source": [
        "def get_gpt_answer_modified(target_context, target_question, examples):\n",
        "  # Concatenate task description, examples, and target context-question pair\n",
        "  few_shot_input = task_description + \"\\n\\n\" + \"\\n\".join([f\"Context: {example['context']}\\nQ: {example['question']}\\nA: {example['answer']}\" for example in examples]) + f\"\\n\\nContext: {target_context}\\nQ: {target_question}\"\n",
        "  gpt_input_ids = tokenizer_gpt.encode(few_shot_input, return_tensors=\"pt\")\n",
        "\n",
        "  # Create an attention mask tensor with the same shape as the input tensor with values 1\n",
        "  mask = torch.ones_like(gpt_input_ids)\n",
        "\n",
        "  # Adjust max_length dynamically\n",
        "  min_length = len(gpt_input_ids[0]) + 101\n",
        "  # Generate output with attention_mask and pad_token_id explicitly set\n",
        "  mask = torch.ones_like(gpt_input_ids)\n",
        "\n",
        "  # Model Inference\n",
        "  output = model_gpt.generate(\n",
        "      gpt_input_ids,\n",
        "      min_length=min_length,\n",
        "      max_new_tokens = 300,\n",
        "      num_beams=10,\n",
        "      no_repeat_ngram_size=2,\n",
        "      attention_mask=mask,\n",
        "      pad_token_id=50256\n",
        "  )\n",
        "  # Decode and return only the generated output\n",
        "  gpt_result = tokenizer_gpt.decode(output[0], skip_special_tokens=True)\n",
        "  # Remove the input part from the generated output\n",
        "  gpt_result = gpt_result.replace(few_shot_input, '').strip()\n",
        "  return gpt_result"
      ],
      "metadata": {
        "id": "nCwMn39570Ag"
      },
      "execution_count": null,
      "outputs": []
    },
    {
      "cell_type": "code",
      "source": [
        "for i in range(0, len(target_questions)):\n",
        "  print(\"\\nQuestion:\", target_questions[i])\n",
        "  ans = get_gpt_answer_modified(target_contexts[i], target_questions[i], examples)\n",
        "  print(\"Generated answer:\", ans)\n",
        "  print(\"Expected answer:\", answers_expected[i])"
      ],
      "metadata": {
        "colab": {
          "base_uri": "https://localhost:8080/"
        },
        "id": "DzVMxMh89OKq",
        "outputId": "0ccf1175-0229-4c30-fe37-053c48a47e75"
      },
      "execution_count": null,
      "outputs": [
        {
          "output_type": "stream",
          "name": "stdout",
          "text": [
            "\n",
            "Question: For how long did the plague stick around?\n",
            "Generated answer: How did it spread? What was it like to live in a place where there was no plague at all? A: It was not uncommon for a plague to spread from one place to another within a short period of time. For example, during the Middle Ages, plague outbreaks were more common in southern France than in central and eastern Europe. During the Renaissance, there were also outbreaks of plague in northern Italy and northern Spain, but they were not as widespread as they would have been if plague had not been a major cause of death in those regions.\n",
            "Expected answer: Until the 19th century.\n",
            "\n",
            "Question: What are the three major types of rock?\n",
            "Generated answer: How do they relate to each other and to the rest of our planet? What does it mean to be a \"rock\" or \"magma\" and what does that mean for us as a species? A rock is composed of two or more elements, such as carbon, oxygen, nitrogen, phosphorus, potassium, calcium, magnesium, sulfur, carbon dioxide, hydrogen and oxygen. These elements can be found in a variety of environments, including the earth's crust, oceans, volcanoes, lakes, rivers, deserts, forests, grasslands, wetlands, prairies, swamps, marshes, etc. In addition, some of these elements may also be present in other rocks. For example, iron, nickel, zinc, manganese, cadmium, selenium and uranium are all elements that have been found to have an affinity for the Earth's magnetic field, which is why they are often referred to as the \"Earth's magnetosphere\".\n",
            "In addition to being an element, rock also has many other properties that make it a valuable resource for geologists and geoscientists. First, it has the ability to absorb and store energy. This energy can then be used to build and maintain structures and structures that can withstand earthquakes, tsunamis, volcanic eruptions, floods, hurricanes and other natural disasters. It can also act as an energy source for plants and animals to grow and produce food. Second, rocks have a high density of carbon and hydrogen, making them\n",
            "Expected answer: Igneous, sedimentary, and metamorphic.\n",
            "\n",
            "Question: What goods were sold in a pharma?\n",
            "Generated answer: What was the market value of a particular product? How much did it cost to produce and sell it? Where did the money come from and how much was it used to pay for the production and sale of those goods? Was there a direct or indirect relationship between the prices of goods sold and those of products sold to the public at large, or was there an indirect connection between those prices and what was produced and sold at the time of production or sale? Is it possible to determine the exact amount of money that was spent on producing and selling the same product at different times in different countries? If so, how did that money be spent? Did it have to be paid for by the government or by individuals or groups of individuals? The answer to these questions is that the answer is no. It is possible, however, to calculate the total amount spent by a single individual or group on a given product. For example, if the average price of cigarettes was $1.50 per pack, it would be estimated that each individual spent $2.00 on cigarettes per day, which would equate to a total of $10,000 per year. This would mean that, on average, every single person who bought a cigarette would spend $4.25 on each cigarette. That is, each person would have spent about $3.75 of his or her own money to buy one cigarette at a time. Thus, for every dollar that a person spent, he or she would need to spend another $\n",
            "Expected answer: Ingredients for medicines, sold tobacco and patent medicines\n",
            "\n",
            "Question: What is it called when people in society rebel against laws they think are unfair?\n",
            "Generated answer: What does it mean for them to do so? A: It means that they do not want to live in a society in which they are not allowed to express their views and opinions freely and without fear of reprisals by the authorities. In other words, they don't want the government to punish them for expressing their opinions, but rather punish those who disagree with them. For example, if a person expresses his or her views in public, he or she may be subject to a fine of up to $1,000 or imprisonment for a year, or both. A person may also be required to register as a political party in order to participate in political activities. However, it is important to note that this does not mean that the person has no right to freedom of speech or expression. Rather, this is what is meant by \"freedom of expression\" as opposed to \"speech\" or \"expression of opinion\". In fact, there is no such thing as free speech when it comes to the expression of one's views, opinions or political opinions. This is not to say that there are no limits to what one can say or do. There are, of course, exceptions to this rule, such as when one believes that one is being persecuted for speaking out against a government that is persecuting him or herself. But the general rule is that if one does so, that person is free to speak out in any way he chooses, regardless of whether or not they agree with what he is saying\n",
            "Expected answer: Civil disobedience.\n",
            "\n",
            "Question: What is the process of constructing a building or infrastructure?\n",
            "Generated answer: How long does it take to complete a construction project? Is there a specific time frame for the completion of a project, or is it simply a matter of time before the finished product is ready to be sold to the public? A construction site is usually completed within one to two years of completion, but can take up to five years. In some cases, construction may take as long as two to three years, depending on factors such as the type of building, location, time of day, weather conditions and other factors. Some construction sites may be completed in less than a year, others in more than one year. For example, if a new building is completed by the end of 2015, it will be the first time since the start of World War II that construction has taken place in a single year.[1][2][3][4][5][6][7][8][9][10][11][12][13][14][15][16][17][18][19][20][21][22][23][24][25][26][27][28][29][30][31][32][33][34][35][36][37][38][39][40][41][42][43][44][45][46][47][48][49][50][51][52][53][54][55][56][57][58][59][60][61][62][63][64][65][66][67][68][69][70\n",
            "Expected answer: Construction.\n"
          ]
        }
      ]
    },
    {
      "cell_type": "markdown",
      "source": [
        "### Conclusion modified few-shot learning\n",
        "Again the model is not able to generated the required answer even if we both pass both questions and contexts. If also this approach doesn't work this means the implementation of few-shot learning should be implemented in a different way, or there is also the possibility that the structure of the model is not able to generate the answer in the way we expect, but this is less probable."
      ],
      "metadata": {
        "id": "jvgbe3wcQnrz"
      }
    },
    {
      "cell_type": "markdown",
      "source": [
        "## General conclusion\n",
        "Implementing zero-shot learning and few-shot learning has proven challenging due to conflicting explanations from various online sources. The only consensus among these sources is that zero-shot learning involves providing no examples, while few-shot learning requires a limited set of examples (typically 10-100). Initially, we attempted to implement few-shot learning by fine-tuning the model, supplying task instructions, examples, and questions. Unfortunately, this approach yielded no improvement in performance. Subsequent efforts to train the model using different methods and parameters also proved unsuccessful. Ultimately, after thorough documentation and research, we discovered sources suggesting that shot-learning should occur at inference time when the model generates output text. Despite our implemented approach, it appears we may not have understood this process fully. Although GPT-2 demonstrates an understanding of the structure it has to provides for answers, it struggles to comprehend the question's meaning well enough to generate accurate replies (even with the help of a context)."
      ],
      "metadata": {
        "id": "d2GSGXXYKDeV"
      }
    },
    {
      "cell_type": "markdown",
      "source": [
        "# References\n",
        "https://blog.addpipe.com/recording-audio-in-the-browser-using-pure-html5-and-minimal-javascript/\n",
        "\n",
        "\n",
        "https://stackoverflow.com/a/18650249\n",
        "\n",
        "\n",
        "https://hacks.mozilla.org/2014/06/easy-audio-capture-with-the-mediarecorder-api/\n",
        "\n",
        "\n",
        "https://air.ghost.io/recording-to-an-audio-file-using-html5-and-js/\n",
        "\n",
        "\n",
        "https://stackoverflow.com/a/49019356\n",
        "\n",
        "\n",
        "https://librosa.org/doc/main/index.html\n",
        "\n",
        "https://download.ni.com/evaluation/pxi/Understanding%20FFTs%20and%20Windowing.pdf\n",
        "\n",
        "https://pytorch.org/hub/nvidia_deeplearningexamples_tacotron2/\n",
        "\n",
        "https://stackoverflow.com/questions/66451430/changes-in-gpt2-gpt3-model-during-few-shot-learning"
      ],
      "metadata": {
        "id": "18lHjHIMkGxM"
      }
    }
  ]
}